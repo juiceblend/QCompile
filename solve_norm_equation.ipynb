{
 "cells": [
  {
   "cell_type": "code",
   "execution_count": 1,
   "metadata": {},
   "outputs": [],
   "source": [
    "import math\n",
    "import sympy # to check primality\n",
    "\n",
    "from Rings import Ztau, Zomega"
   ]
  },
  {
   "attachments": {},
   "cell_type": "markdown",
   "metadata": {},
   "source": [
    "An implementation of the Tonelli-Shanks algorithm as found here\n",
    "https://rosettacode.org/wiki/Tonelli-Shanks_algorithm#Python"
   ]
  },
  {
   "cell_type": "code",
   "execution_count": 29,
   "metadata": {},
   "outputs": [],
   "source": [
    "def legendre(a, p):\n",
    "    return pow(a, (p - 1) // 2, p)\n",
    "\n",
    "def modular_sqrt(n, p):\n",
    "    assert legendre(n, p) == 1, \"not a square (mod p)\"\n",
    "    q = p - 1\n",
    "    s = 0\n",
    "    while q % 2 == 0:\n",
    "        q //= 2\n",
    "        s += 1\n",
    "    if s == 1:\n",
    "        return pow(n, (p + 1) // 4, p)\n",
    "    for z in range(2, p):\n",
    "        if p - 1 == legendre(z, p):\n",
    "            break\n",
    "    c = pow(z, q, p)\n",
    "    r = pow(n, (q + 1) // 2, p)\n",
    "    t = pow(n, q, p)\n",
    "    m = s\n",
    "    t2 = 0\n",
    "    while (t - 1) % p != 0:\n",
    "        t2 = (t * t) % p\n",
    "        for i in range(1, m):\n",
    "            if (t2 - 1) % p == 0:\n",
    "                break\n",
    "            t2 = (t2 * t2) % p\n",
    "        b = pow(c, 1 << (m - i - 1), p)\n",
    "        r = (r * b) % p\n",
    "        c = (b * b) % p\n",
    "        t = (t * c) % p\n",
    "        m = i\n",
    "    return r"
   ]
  },
  {
   "cell_type": "code",
   "execution_count": 30,
   "metadata": {},
   "outputs": [],
   "source": [
    "def splitting_root(xi):\n",
    "    # Find a square root of tau-2 modulo xi\n",
    "    p = xi.N()\n",
    "    b1 = pow(xi.b, -1, p)\n",
    "    print(b1)\n",
    "    print(-xi.a*b1 - 2)\n",
    "    return modular_sqrt(-xi.a*b1 - 2, p)"
   ]
  },
  {
   "attachments": {},
   "cell_type": "markdown",
   "metadata": {},
   "source": [
    "Test splitting_root"
   ]
  },
  {
   "cell_type": "code",
   "execution_count": 32,
   "metadata": {},
   "outputs": [
    {
     "name": "stdout",
     "output_type": "stream",
     "text": [
      "412376737179780857\n",
      "-51230898402537783079618043061\n",
      "373413958110469043\n"
     ]
    }
   ],
   "source": [
    "xi = Ztau(124233240587, -201011676794)\n",
    "print(splitting_root(xi))"
   ]
  },
  {
   "cell_type": "code",
   "execution_count": 5,
   "metadata": {},
   "outputs": [],
   "source": [
    "def unit_dlog(u):\n",
    "    # Takes a unit u in Ztau and returns (s,k) where u = s*tau^k\n",
    "    s, k, a, b = 1, 0, u.a, u.b\n",
    "\n",
    "    if a < 0:\n",
    "        a, b, s = -a, -b, -s\n",
    "\n",
    "    mu = a*b\n",
    "\n",
    "    # repeatedly multiply by tau or tau^-1 until the remainder has |mu| <= 1\n",
    "    while abs(mu) > 1:\n",
    "        if mu > 1:\n",
    "            a, b, k = b, a-b, k-1\n",
    "        else:\n",
    "            a, b, k = a+b, a, k+1\n",
    "        mu = a*b\n",
    "\n",
    "    if a == -1 and b == 0:\n",
    "        s = -s\n",
    "    elif a == 0 and b == 1:\n",
    "        k = k+1\n",
    "    elif a == 0 and b == -1:\n",
    "        s, k = -s, k+1\n",
    "    elif a == 1 and b == -1:\n",
    "        k = k+2\n",
    "    elif a == -1 and b == 1:\n",
    "        s, k = -s, k+2\n",
    "    elif a == 1 and b == 1:\n",
    "        k = k-1\n",
    "    elif a == -1 and b == -1:\n",
    "        s, k = -s, k-1\n",
    "\n",
    "    return (s, k)"
   ]
  },
  {
   "attachments": {},
   "cell_type": "markdown",
   "metadata": {},
   "source": [
    "Test dlog"
   ]
  },
  {
   "cell_type": "code",
   "execution_count": 6,
   "metadata": {},
   "outputs": [
    {
     "name": "stdout",
     "output_type": "stream",
     "text": [
      "(3 + -5τ)\n",
      "(-1, 5)\n"
     ]
    }
   ],
   "source": [
    "u = Ztau(0, -1)\n",
    "print(u**5)\n",
    "print(unit_dlog(u**5))"
   ]
  },
  {
   "cell_type": "code",
   "execution_count": 7,
   "metadata": {},
   "outputs": [],
   "source": [
    "def easy_factor(xi):\n",
    "    # factors out the integer part as well as (2 - tau) if it exists\n",
    "    c = math.gcd(xi.a, xi.b)\n",
    "    a1, b1 = int(xi.a/c), int(xi.b/c)\n",
    "    xi_1 = Ztau(a1, b1)\n",
    "\n",
    "    factors = []\n",
    "\n",
    "    if math.sqrt(c).is_integer():\n",
    "        if c > 1:\n",
    "            factors = [(Ztau(int(math.sqrt(c)),0),2)]\n",
    "    else:\n",
    "        if math.sqrt(c/5).is_integer():\n",
    "            factors = [(Ztau(int(math.sqrt(c/5)), 0),2), (Ztau(5,0),1)]\n",
    "        else:\n",
    "            factors = [(xi, 1)]\n",
    "    \n",
    "    n = xi_1.N()\n",
    "    if n%5 == 0:\n",
    "        p1 = Ztau(2, -1)\n",
    "        xi_2 = xi_1//p1\n",
    "        factors.append((p1, 1))\n",
    "        factors.append((xi_2, 1))\n",
    "    else:\n",
    "        factors.append((xi_1, 1))\n",
    "    \n",
    "    return factors\n"
   ]
  },
  {
   "cell_type": "code",
   "execution_count": 8,
   "metadata": {},
   "outputs": [],
   "source": [
    "def easy_solveable(factors):\n",
    "    for i in range(len(factors)):\n",
    "        (xi, k) = factors[i]\n",
    "        if k%2 == 1:\n",
    "            if xi != Ztau(5,0):\n",
    "                p = xi.N()\n",
    "                r = p%5\n",
    "                if (not sympy.isprime(p)) or (r != 0 and r != 1):\n",
    "                    return False\n",
    "    \n",
    "    return True\n"
   ]
  },
  {
   "cell_type": "code",
   "execution_count": 9,
   "metadata": {},
   "outputs": [
    {
     "name": "stdout",
     "output_type": "stream",
     "text": [
      "-402706391\n",
      "-11586.754416841572\n"
     ]
    }
   ],
   "source": [
    "xi = Ztau(1222 , -20725)\n",
    "print(xi.N())\n",
    "print(xi.value())"
   ]
  },
  {
   "attachments": {},
   "cell_type": "markdown",
   "metadata": {},
   "source": [
    "Test easy_factor and easy_solveable"
   ]
  },
  {
   "cell_type": "code",
   "execution_count": 10,
   "metadata": {},
   "outputs": [
    {
     "name": "stdout",
     "output_type": "stream",
     "text": [
      "(2 + 0τ) 2\n",
      "(5 + 0τ) 1\n",
      "(2 + -1τ) 1\n",
      "(15 + -8τ) 1\n",
      "True\n"
     ]
    }
   ],
   "source": [
    "xi = Ztau(760, -780)\n",
    "factors = easy_factor(xi)\n",
    "for i in range(len(factors)):\n",
    "    print(factors[i][0], factors[i][1])\n",
    "print(easy_solveable(factors))"
   ]
  },
  {
   "cell_type": "code",
   "execution_count": 11,
   "metadata": {},
   "outputs": [],
   "source": [
    "bin = Zomega(1,1,0,0)\n",
    "\n",
    "def binary_gcd(a,b):\n",
    "    print(a, b)\n",
    "    print(a.N(), b.N())\n",
    "    if a.N() == 0:\n",
    "        return b\n",
    "    if b.N() == 0:\n",
    "        return a\n",
    "    \n",
    "    # the integer remainder modulo 1+w is given by substituting w = -1\n",
    "    a_rem = (a.a-a.b+a.c-a.d)%5\n",
    "    b_rem = (b.a-b.b+b.c-b.d)%5\n",
    "    if a_rem == 0 and b_rem == 0:\n",
    "        a1 = a//bin\n",
    "        b1 = b//bin\n",
    "        return bin * binary_gcd(a1, b1)\n",
    "    \n",
    "    if a_rem == 0:\n",
    "        a1 = a//bin\n",
    "        return binary_gcd(a1, b)\n",
    "    \n",
    "    if b_rem == 0:\n",
    "        b1 = b//bin\n",
    "        return binary_gcd(a, b1)\n",
    "    \n",
    "    u, v = Zomega(1,0,0,0), Zomega(1,0,0,0)\n",
    "    if a_rem != 0 and b_rem != 0:\n",
    "        if a_rem == 2:\n",
    "            u = Zomega(0,1,0,1)\n",
    "        elif a_rem == 3:\n",
    "            u = Zomega(0,-1,0,-1)\n",
    "        elif a_rem == 4:\n",
    "            u = Zomega(-1,0,0,0)\n",
    "        \n",
    "        if b_rem == 2:\n",
    "            v = Zomega(0,1,0,1)\n",
    "        elif b_rem == 3:\n",
    "            v = Zomega(0,-1,0,-1)\n",
    "        elif b_rem == 4:\n",
    "            v = Zomega(-1,0,0,0)\n",
    "\n",
    "    if a.N() <= b.N():\n",
    "        c = a\n",
    "    else:\n",
    "        c = b\n",
    "\n",
    "    return binary_gcd(c, u*a - v*b)"
   ]
  },
  {
   "cell_type": "code",
   "execution_count": 12,
   "metadata": {},
   "outputs": [],
   "source": [
    "def gcd(a,b):\n",
    "    if a.N() == 0:\n",
    "        return b\n",
    "    if b.N() == 0:\n",
    "        return a\n",
    "    \n",
    "    if a.N() <= b.N():\n",
    "        q = b//a\n",
    "        r = b - q*a\n",
    "        print(b, a, q, r, r.N())\n",
    "        return gcd(a,r)\n",
    "    else:\n",
    "        q = a//b\n",
    "        r = a - q*b\n",
    "        print(a, b, q, r, r.N())\n",
    "        return gcd(b,r)"
   ]
  },
  {
   "cell_type": "code",
   "execution_count": 13,
   "metadata": {},
   "outputs": [
    {
     "name": "stdout",
     "output_type": "stream",
     "text": [
      "(13 + 0ω + -2ω² + 2ω³) (11 + -2ω + 1ω² + -1ω³) (1 + 0ω + 0ω² + 0ω³) (2 + 2ω + -3ω² + 3ω³) 191\n",
      "(11 + -2ω + 1ω² + -1ω³) (2 + 2ω + -3ω² + 3ω³) (4 + -2ω + 1ω² + -3ω³) (0 + 0ω + 0ω² + 0ω³) 0\n",
      "(2 + 2ω + -3ω² + 3ω³)\n"
     ]
    }
   ],
   "source": [
    "xi = Zomega(13, 0, -2, 2)\n",
    "y = Zomega(11, -2, 1, -1)\n",
    "\n",
    "g = gcd(xi,y)\n",
    "print(g)"
   ]
  },
  {
   "cell_type": "code",
   "execution_count": 14,
   "metadata": {},
   "outputs": [
    {
     "name": "stdout",
     "output_type": "stream",
     "text": [
      "(64 + -2ω + 1ω² + -1ω³)\n",
      "(15 + 0ω + -8ω² + 8ω³)\n"
     ]
    }
   ],
   "source": [
    "print(Zomega(15,0,-8,8)*Zomega(5,0,2,-2) + Zomega(5,-2,-5,5))\n",
    "print(Zomega(5,-2,-5,5)*Zomega(0,4,1,5))"
   ]
  },
  {
   "cell_type": "code",
   "execution_count": 15,
   "metadata": {},
   "outputs": [],
   "source": [
    "def solve_norm_equation(xi):\n",
    "    # Outputs x from Zomega which solves |x|^2 = xi\n",
    "\n",
    "    # first check solveability\n",
    "    if xi.value() < 0 or xi.dot().value() < 0:\n",
    "        return Zomega(0,0,0,0)\n",
    "    factors = easy_factor(xi)\n",
    "    if not easy_solveable(factors):\n",
    "        return Zomega(0,0,0,0)\n",
    "    \n",
    "    print(\"Factors --------------------\")\n",
    "    for i in range(len(factors)):\n",
    "        print(factors[i][0], factors[i][1])\n",
    "    \n",
    "    print(\"--------------------------\")\n",
    "\n",
    "    x = Zomega(1,0,0,0)\n",
    "\n",
    "    # solve for each prime factor separately, then multiply solutions together\n",
    "    for i in range(len(factors)):\n",
    "        (xi_i, m) = factors[i]\n",
    "        x = x * (Zomega.fromTau(xi_i)**(int(m/2)))\n",
    "        if m%2 == 1:\n",
    "            if xi_i == Ztau(5,0):\n",
    "                x = x * (Zomega.fromTau(Ztau(1, 2)))\n",
    "            elif xi_i == Ztau(2, -1):\n",
    "                x = x*Zomega(-1,2,-1,1)\n",
    "            else:\n",
    "                print(\"xi_i: \" + str(xi_i))\n",
    "                M = splitting_root(xi_i)\n",
    "                print(\"M: \" + str(M))\n",
    "                print(Zomega.fromTau(xi_i), Zomega(M,0,0,0) - Zomega(-1,2,-1,1))\n",
    "                y = gcd(Zomega.fromTau(xi_i), Zomega(M,0,0,0) - Zomega(-1,2,-1,1))\n",
    "                print(\"gcd: \" + str(y))\n",
    "                u = xi_i // y.Ni()\n",
    "                print(u)\n",
    "                (s,m) = unit_dlog(u)\n",
    "                print(s,m)\n",
    "                x = x * (Zomega.fromTau(Ztau(0,1)**int(m/2))) * y\n",
    "        \n",
    "        print(x)\n",
    "    \n",
    "    return x       \n",
    "\n"
   ]
  },
  {
   "cell_type": "code",
   "execution_count": 34,
   "metadata": {},
   "outputs": [
    {
     "name": "stdout",
     "output_type": "stream",
     "text": [
      "(8 + 1τ)\n",
      "(1 + 0ω + 0ω² + 0ω³)\n",
      "(102 + -1τ)\n",
      "(330145 + -531472τ)\n"
     ]
    }
   ],
   "source": [
    "print(Ztau(102,-1)//Ztau(13,-2))\n",
    "xi = Zomega(13, 0, -2, 2)\n",
    "y = Zomega(11, -2, 1, -1)\n",
    "print(xi//y)\n",
    "print(y.Ni())\n",
    "xi = Zomega(-384, 809, -752,224)\n",
    "print(xi.Ni())"
   ]
  },
  {
   "cell_type": "code",
   "execution_count": 33,
   "metadata": {},
   "outputs": [
    {
     "name": "stdout",
     "output_type": "stream",
     "text": [
      "Factors --------------------\n",
      "(124233240587 + -201011676794τ) 1\n",
      "--------------------------\n",
      "xi_i: (124233240587 + -201011676794τ)\n",
      "412376737179780857\n",
      "-51230898402537783079618043061\n",
      "M: 373413958110469043\n",
      "(124233240587 + 0ω + -201011676794ω² + 201011676794ω³) (373413958110469044 + -2ω + 1ω² + -1ω³)\n",
      "(373413958110469044 + -2ω + 1ω² + -1ω³) (124233240587 + 0ω + -201011676794ω² + 201011676794ω³) (226645535011 + 0ω + 140074130588ω² + -140074130588ω³) (-77179047541 + -2ω + 124878284707ω² + -124878284707ω³) 41740196074269884741783903621405\n",
      "(124233240587 + 0ω + -201011676794ω² + 201011676794ω³) (-77179047541 + -2ω + 124878284707ω² + -124878284707ω³) (-38 + 0ω + -22ω² + 22ω³) (-61248302461 + -32ω + 99101832572ω² + -99101832616ω³) 125325741119258965137376304021\n",
      "(-77179047541 + -2ω + 124878284707ω² + -124878284707ω³) (-61248302461 + -32ω + 99101832572ω² + -99101832616ω³) (11 + 0ω + 6ω² + -6ω³) (1941284026 + 422ω + -3141063195ω² + 3141063871ω³) 44969872467274129822597051\n",
      "(-61248302461 + -32ω + 99101832572ω² + -99101832616ω³) (1941284026 + 422ω + -3141063195ω² + 3141063871ω³) (-10 + 1ω + 14ω² + -13ω³) (2139427183 + -1941283816ω + -320602509ω² + 1520382064ω³) 779601050105137496197561\n",
      "(1941284026 + 422ω + -3141063195ω² + 3141063871ω³) (2139427183 + -1941283816ω + -320602509ω² + 1520382064ω³) (4 + 1ω + 1ω² + -2ω³) (627509563 + -2497402812ω + 3025550661ω² + -1482070881ω³) 161482898283214768809061\n",
      "(2139427183 + -1941283816ω + -320602509ω² + 1520382064ω³) (627509563 + -2497402812ω + 3025550661ω² + -1482070881ω³) (-1 + 0ω + -1ω² + 0ω³) (1223456966 + -1413135967ω + 306907054ω² + 566459032ω³) 7263625095748732180105\n",
      "(627509563 + -2497402812ω + 3025550661ω² + -1482070881ω³) (1223456966 + -1413135967ω + 306907054ω² + 566459032ω³) (0 + 0ω + 2ω² + 1ω³) (1268012822 + -1131621921ω + -220685130ω² + 920065946ω³) 1597408071591808972991\n",
      "(1223456966 + -1413135967ω + 306907054ω² + 566459032ω³) (1268012822 + -1131621921ω + -220685130ω² + 920065946ω³) (2 + -1ω + 1ω² + -1ω³) (-180946757 + 1207183906ω + -1660486584ω² + 914405908ω³) 324197210101658647655\n",
      "(1268012822 + -1131621921ω + -220685130ω² + 920065946ω³) (-180946757 + 1207183906ω + -1660486584ω² + 914405908ω³) (1 + 0ω + 1ω² + 0ω³) (702878903 + -678319243ω + -39738373ω² + 458962716ω³) 80915336736116455861\n",
      "(-180946757 + 1207183906ω + -1660486584ω² + 914405908ω³) (702878903 + -678319243ω + -39738373ω² + 458962716ω³) (-1 + 1ω + -2ω² + 0ω³) (142446176 + -712453702ω + 922291554ω² + -481970951ω³) 5894494729121066321\n",
      "(702878903 + -678319243ω + -39738373ω² + 458962716ω³) (142446176 + -712453702ω + 922291554ω² + -481970951ω³) (-1 + 0ω + -2ω² + -1ω³) (-245153979 + 223327412ω + 35316127ω² + -173340057ω³) 535863157192824211\n",
      "(142446176 + -712453702ω + 922291554ω² + -481970951ω³) (-245153979 + 223327412ω + 35316127ω² + -173340057ω³) (-1 + 1ω + -2ω² + 0ω³) (0 + 0ω + 0ω² + 0ω³) 0\n",
      "gcd: (-245153979 + 223327412ω + 35316127ω² + -173340057ω³)\n",
      "(514229 + 317811τ)\n",
      "(196418 + -317811τ)\n",
      "1 -28\n",
      "(-291377 + 265386ω + 41832ω² + -204808ω³)\n",
      "(-291377 + 265386ω + 41832ω² + -204808ω³)\n",
      "(124233240587 + -201011676794τ)\n"
     ]
    }
   ],
   "source": [
    "xi = Ztau(124233240587, -201011676794)\n",
    "x = solve_norm_equation(xi)\n",
    "print(x)\n",
    "print(x.Ni())\n"
   ]
  }
 ],
 "metadata": {
  "kernelspec": {
   "display_name": "Python 3",
   "language": "python",
   "name": "python3"
  },
  "language_info": {
   "codemirror_mode": {
    "name": "ipython",
    "version": 3
   },
   "file_extension": ".py",
   "mimetype": "text/x-python",
   "name": "python",
   "nbconvert_exporter": "python",
   "pygments_lexer": "ipython3",
   "version": "3.10.5"
  },
  "orig_nbformat": 4
 },
 "nbformat": 4,
 "nbformat_minor": 2
}
