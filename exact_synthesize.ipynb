{
 "cells": [
  {
   "cell_type": "code",
   "execution_count": 2,
   "metadata": {},
   "outputs": [],
   "source": [
    "from Rings import Zomega, Exact_U, Ztau\n",
    "from Circuits import FTCircuit\n",
    "import numpy as np\n",
    "import cmath"
   ]
  },
  {
   "cell_type": "code",
   "execution_count": 3,
   "metadata": {},
   "outputs": [],
   "source": [
    "omega = Zomega(0,1,0,0)\n",
    "tau = Zomega(0,0,1,-1)\n",
    "\n",
    "T = Exact_U(Zomega(1,0,0,0), Zomega(0,0,0,0), 6)\n",
    "F = Exact_U(tau, Zomega(1,0,0,0), 0)\n"
   ]
  },
  {
   "cell_type": "code",
   "execution_count": 8,
   "metadata": {},
   "outputs": [],
   "source": [
    "def exact_synthesize(U):\n",
    "    g = U.mu()\n",
    "    V = U\n",
    "    Circuit = FTCircuit()\n",
    "    while g.value() >= 2: # need to be careful this doesn't break from rounding error? if it does change to Gauss complexity which is always an integer\n",
    "        \n",
    "        min = 0\n",
    "        # print(\"V = \" + str(V))\n",
    "        for j in range(0,10):\n",
    "            #print(\"j = \" + str(j) + \", F*T**j*V = \" + str(F*(T**j)*V))\n",
    "            #print(\"mu = \" + str((F*(T**j)*V).mu().value()))\n",
    "            if (F*(T**j)*V).mu().value() < (F*(T**min)*V).mu().value():\n",
    "                min = j\n",
    "\n",
    "        V = F*(T**min)*V\n",
    "        g = V.mu()\n",
    "        if min != 0:\n",
    "            Circuit.join(\"T\", 10 - min)\n",
    "        Circuit.join(\"F\", 1)\n",
    "    \n",
    "    # first factor out the phase of omega^k\n",
    "    for k in range(10):\n",
    "        if omega**k == V.u:\n",
    "            Circuit.addPhase(omega**k)\n",
    "            V = Exact_U(omega**(10-k), Zomega(0,0,0,0), 5 - 2*k) * V\n",
    "            break\n",
    "    \n",
    "    # Am left with a matrix of the form U(1, 0, k) which we can match to T^j\n",
    "    if V.k%10 != 5:\n",
    "        Circuit.join(\"T\",(V.k)%10)\n",
    "    \n",
    "    return Circuit"
   ]
  },
  {
   "attachments": {},
   "cell_type": "markdown",
   "metadata": {},
   "source": [
    "(-8903304 + -1277765128ω + 2081873256ω² + -1292170978ω³), (997605933 + -1662824027ω + 1076345486ω² + -48663720ω³)"
   ]
  },
  {
   "cell_type": "code",
   "execution_count": 5,
   "metadata": {},
   "outputs": [
    {
     "name": "stdout",
     "output_type": "stream",
     "text": [
      "(1 + 0ω + 0ω² + 0ω³)\n"
     ]
    }
   ],
   "source": [
    "u, v = Zomega(-8903304, -1277765128, 2081873256, -1292170978), Zomega(997605933, -1662824027, 1076345486, -48663720)\n",
    "                                    "
   ]
  },
  {
   "cell_type": "code",
   "execution_count": 10,
   "metadata": {},
   "outputs": [
    {
     "name": "stdout",
     "output_type": "stream",
     "text": [
      "[[0.707121814994159 - 0.706977325068627*I\n",
      "  0.0123585793537003 + 0.00301099892733085*I]\n",
      " [-0.0123585793536996 + 0.00301099892733204*I\n",
      "  0.707121814994163 + 0.706977325068624*I]]\n"
     ]
    }
   ],
   "source": [
    "uj = tau * omega**3\n",
    "vi = omega**2\n",
    "U = Exact_U(u, v, 0)\n",
    "\n",
    "print(exact_synthesize(U).numerical_approximate())\n",
    "#print(exact_synthesize(U).toBraid())\n",
    "#print(exact_synthesize(U).toBraid().numerical_approximate())"
   ]
  },
  {
   "cell_type": "code",
   "execution_count": 21,
   "metadata": {},
   "outputs": [],
   "source": [
    "def exact_synthesize_weave(U):\n",
    "    g = U.mu()\n",
    "    V = U\n",
    "    Circuit = FTCircuit()\n",
    "    Remainder = FTCircuit()\n",
    "    f_parity = True\n",
    "\n",
    "    while g.value() >= 4: # need to be careful this doesn't break from rounding error? if it does change to Gauss complexity which is always an integer\n",
    "        \n",
    "        min = 0\n",
    "        print(\"V = \" + str(V))\n",
    "        for j in range(0,5):\n",
    "            if (F*(T**(2*j))*V).mu().value() < (F*(T**min)*V).mu().value():\n",
    "                min = 2*j\n",
    "\n",
    "        V = F*(T**min)*V\n",
    "        g = V.mu()\n",
    "        if min != 0:\n",
    "            Circuit.join(\"T\", 10 - min)\n",
    "        Circuit.join(\"F\", 1)\n",
    "        f_parity = not f_parity\n",
    "    \n",
    "    # check if |u| = 1\n",
    "    if V.u*V.u.star() == Zomega(1,0,0,0):\n",
    "        # factor out phase so that u = 1\n",
    "        for k in range(10):\n",
    "            if omega**k == V.u:\n",
    "                Remainder.addPhase(omega**k)\n",
    "                V = Exact_U(omega**(10-k), Zomega(0,0,0,0), 5 - 2*k) * V\n",
    "                break\n",
    "        \n",
    "        # Am left with a matrix of the form U(1, 0, k) which we can match to T^j, for j = k-5\n",
    "        # if j is even and f_parity = True, V is a weave\n",
    "        if V.k%10 != 5:\n",
    "            if f_parity:\n",
    "                if (V.k-5)%2 == 0: \n",
    "                    Circuit.join(\"T\", V.k-5)\n",
    "                    Circuit.addPhase(omega**k)\n",
    "            else:\n",
    "                Remainder.join(\"T\", V.k-5)\n",
    "            \n",
    "                \n",
    "    # otherwise |u| = tau\n",
    "    # We write V = U[w^j t, w^i, k] and find i,j,k\n",
    "    elif Ztau.fromOmega(V.u*V.u.star()) == Ztau(1, -1):\n",
    "\n",
    "        # find v\n",
    "        for i in range(10):\n",
    "            if omega**i == V.v:\n",
    "                break\n",
    "\n",
    "        # find j\n",
    "        for j in range(10):\n",
    "            if (omega**(10-j))*V.u == Zomega(0,0,1,-1):\n",
    "                break\n",
    "        \n",
    "        # find k\n",
    "        k = V.k\n",
    "\n",
    "        print((j,i,k))\n",
    "\n",
    "        # now V = w^j T^(-i-j) F T^(-i-j+k)\n",
    "        if not f_parity:\n",
    "            if (i-j)%2 == 0 and (-i-j+k)%2 == 0:\n",
    "                Circuit.join(\"T\",i-j)\n",
    "                Circuit.join(\"F\", 1)\n",
    "                Circuit.join(\"T\",-i-j+k)\n",
    "                Circuit.addPhase(omega**j)\n",
    "\n",
    "                return (Circuit, Remainder)\n",
    "        \n",
    "        if not f_parity:\n",
    "            if Circuit.remove_F():\n",
    "                Remainder.join(\"F\", 1)\n",
    "                \n",
    "        Remainder.join(\"T\",i-j)\n",
    "        Remainder.join(\"F\", 1)\n",
    "        Remainder.join(\"T\",-i-j+k)\n",
    "        Remainder.addPhase(omega**j)\n",
    "            \n",
    "        \n",
    "    else:\n",
    "        print(\"meep! error: V.u not as expected\")\n",
    "    \n",
    "    return (Circuit, Remainder)"
   ]
  },
  {
   "cell_type": "code",
   "execution_count": 22,
   "metadata": {},
   "outputs": [
    {
     "name": "stdout",
     "output_type": "stream",
     "text": [
      "U((1 + -1ω + 0ω² + 1ω³),(1 + 0ω + 0ω² + 1ω³),1)\n",
      "V = U((1 + -1ω + 0ω² + 1ω³),(1 + 0ω + 0ω² + 1ω³),1)\n",
      "(0, 4, 4)\n",
      "(1 + 0ω + 0ω² + 0ω³)(T^0)(F)(T^4)(F)(T^2)\n",
      "(1 + 0ω + 0ω² + 0ω³)\n"
     ]
    }
   ],
   "source": [
    "U = T**2 * F * T**4 * F\n",
    "print(U)\n",
    "\n",
    "(circuit, remainder) = exact_synthesize_weave(U)\n",
    "print(circuit)\n",
    "print(remainder)\n",
    "#print(exact_synthesize(U).toBraid())\n",
    "#print(exact_synthesize(U).toBraid().numerical_approximate())"
   ]
  },
  {
   "cell_type": "code",
   "execution_count": 19,
   "metadata": {},
   "outputs": [
    {
     "name": "stdout",
     "output_type": "stream",
     "text": [
      "U((0 + 1ω + -1ω² + 1ω³),(0 + 1ω + 0ω² + 0ω³),0)\n"
     ]
    }
   ],
   "source": [
    "exact_omega = Exact_U(omega, Zomega(0,0,0,0), 2)\n",
    "V = exact_omega**2 * T**9 * F * T**7\n",
    "print(V)"
   ]
  }
 ],
 "metadata": {
  "kernelspec": {
   "display_name": "Python 3",
   "language": "python",
   "name": "python3"
  },
  "language_info": {
   "codemirror_mode": {
    "name": "ipython",
    "version": 3
   },
   "file_extension": ".py",
   "mimetype": "text/x-python",
   "name": "python",
   "nbconvert_exporter": "python",
   "pygments_lexer": "ipython3",
   "version": "3.10.5"
  },
  "orig_nbformat": 4
 },
 "nbformat": 4,
 "nbformat_minor": 2
}
