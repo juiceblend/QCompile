{
 "cells": [
  {
   "cell_type": "code",
   "execution_count": 1,
   "metadata": {},
   "outputs": [
    {
     "name": "stdout",
     "output_type": "stream",
     "text": [
      "s_1 s_1 s_1 s_1 s_1 s_1 s_1 s_1 s_2 s_2 s_1 s_1 s_2 s_2 s_1 s_1 s_1 s_1 s_1 s_1 s_2 s_2 s_2 s_2 s_2 s_2 s_2 s_2 s_1 s_1 s_1 s_1 s_2 s_2 s_2 s_2 s_1 s_1 s_1 s_1 s_1 s_1 s_1 s_1 s_2 s_2 s_1 s_1 s_2 s_2 s_2 s_2 s_2 s_2 s_2 s_2 s_1 s_1 s_1 s_1 s_1 s_1 s_1 s_1 s_2 s_2 s_2 s_2 s_2 s_2 s_2 s_2 s_1 s_1 s_1 s_1 s_1 s_1 s_1 s_1 s_2 s_2 s_2 s_2 s_1 s_1 s_1 s_1 s_2 s_2 s_2 s_2 s_1 s_1 s_2 s_2 s_1 s_1 s_1 s_1 s_1 s_1 s_2 s_2 s_2 s_2 s_2 s_2 s_2 s_2 s_1 s_1 s_2 s_2 s_2 s_2 s_1 s_1 s_2 s_2 s_1 s_1 s_1 s_1 s_1 s_1 s_1 s_1 s_2 s_2 s_2 s_2 s_2 s_2 s_2 s_2 s_1 s_1 s_1 s_1 s_1 s_1 s_1 s_1 s_2 s_2 s_2 s_2 s_1 s_1 s_2 s_2 s_1 s_1 s_1 s_1 s_2 s_2 s_1 s_1 s_2 s_2 s_1 s_1 s_1 s_1 s_2 s_2 s_1 s_1 s_1 s_1 s_1 s_1 s_1 s_1 s_2 s_2 s_1 s_1 s_1 s_1 s_1 s_1 s_2 s_2 s_1 s_1 s_1 s_1 s_1 s_1 s_2 s_2 s_2 s_2 s_1 s_1 s_1 s_1 s_1 s_1 s_1 s_1 s_2 s_2 s_2 s_2 s_2 s_2 s_2 s_2 s_1 s_1 s_1 s_1 s_1 s_1 s_1 s_1 s_2 s_2 s_2 s_2 s_1 s_1 s_2 s_2 s_1 s_1 \n"
     ]
    }
   ],
   "source": [
    "from Circuits import Braid\n",
    "\n",
    "weave = \"11111111221122111111222222221111222211111111221122222222111111112222222211111111222211112222112211111122222222112222112211111111222222221111111122221122111122112211112211111111221111112211111122221111111122222222111111112222112211\"\n",
    "print(Braid.braid_string_to_tikz(weave))"
   ]
  },
  {
   "cell_type": "code",
   "execution_count": 1,
   "metadata": {},
   "outputs": [
    {
     "name": "stdout",
     "output_type": "stream",
     "text": [
      "\\sigma_1^{-4} \\sigma_2^{-3} \\sigma_1^{-3} \\sigma_2^{-3} \\sigma_1^3 \\sigma_2^{-2} \\sigma_1^3 \\sigma_2^5 \\sigma_1^5 \\sigma_2^4 \\sigma_1^3 \\sigma_2^2 \\sigma_1^{-3} \\sigma_2^{-4} \\sigma_1^{-3} \\sigma_2^{-4} \\sigma_1^{-2} \\sigma_2^4 \\sigma_1^3 \\sigma_2^3 \\sigma_1^{-3} \\sigma_2^3 \\sigma_1^2 \\sigma_2^{-3} \\sigma_1^4 \\sigma_2^3 \\sigma_1^4 \\sigma_2^{-3} \\sigma_1^5 \\sigma_2^{-3} \\sigma_1^5 \\sigma_2^{-3} \\sigma_1^{-2} \\sigma_2^4 \\sigma_1^{-2} \\sigma_2^4 \\sigma_1^{-2} \\sigma_2^4 \\sigma_1^{-4} \\sigma_2^{-3} \\sigma_1^{-3} \\sigma_2^{-3} \\sigma_1^3 \\sigma_2^3 \\sigma_1^2 \\sigma_2^{-3} \\sigma_1^{-4} \\sigma_2^3 \\sigma_1^3 \\sigma_2^2 \\sigma_1^{-2} \\sigma_2^4 \\sigma_1^{-4} \\sigma_2^3 \\sigma_1^4 \\sigma_2^4 \\sigma_1^5 \\sigma_2^5 \\sigma_1^5 \\sigma_2^3 \\sigma_1^3 \\sigma_2^{-4} \\sigma_1^4 \\sigma_2^2 \\sigma_1^{-3} \\sigma_2^{-4} \\sigma_1^{-3} \\sigma_2^{-3} \\sigma_1^{-3} \\sigma_2^4 \\sigma_1^{-4} \\sigma_2^3 \\sigma_1^{-3} \\sigma_2^{-4} \\sigma_1^3 \\sigma_2^3 \\sigma_1^4 \\sigma_2^3 \\sigma_1^2 \\sigma_2^{-3} \\sigma_1^3 \\sigma_2^{-3} \\sigma_1^{-4} \\sigma_2^3 \\sigma_1^3 \\sigma_2^{-2} \\sigma_1^3 \\sigma_2^2 \\sigma_1^{-4} \\sigma_2^4 \\sigma_1^{-3} \\sigma_2^1 \\sigma_1^\\{-4} \n"
     ]
    }
   ],
   "source": [
    "from Circuits import Braid\n",
    "braid = \"3333444333444111441112222211111222211122333444433344443322221112223332221144411112221111444111114441111144433222233222233222233334443334441112221144433332221112233222233332221111222211111222221111122211144441111223334444333444333222233332223334444111222111122211444111444333322211144111223333222233323333\"\n",
    "print(Braid.braid_string_to_latex(braid))"
   ]
  }
 ],
 "metadata": {
  "kernelspec": {
   "display_name": "Python 3",
   "language": "python",
   "name": "python3"
  },
  "language_info": {
   "codemirror_mode": {
    "name": "ipython",
    "version": 3
   },
   "file_extension": ".py",
   "mimetype": "text/x-python",
   "name": "python",
   "nbconvert_exporter": "python",
   "pygments_lexer": "ipython3",
   "version": "3.10.5"
  },
  "orig_nbformat": 4
 },
 "nbformat": 4,
 "nbformat_minor": 2
}
