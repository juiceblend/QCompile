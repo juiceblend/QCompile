{
 "cells": [
  {
   "cell_type": "code",
   "execution_count": 1,
   "metadata": {},
   "outputs": [],
   "source": [
    "from Rings import Zomega, Ztau, Exact_U\n",
    "from norm_equation import easy_factor, easy_solveable, solve_norm_equation\n",
    "from exact_synthesize import exact_synthesize, exact_synthesize_weave\n",
    "from Circuits import FTCircuit, Braid\n",
    "from mpmath import mp, ceil, floor\n",
    "import cmath\n",
    "import math\n",
    "import random\n",
    "import numpy as np\n",
    "from toqito.random import random_unitary"
   ]
  },
  {
   "cell_type": "code",
   "execution_count": 2,
   "metadata": {},
   "outputs": [],
   "source": [
    "mp.dps = 50"
   ]
  },
  {
   "attachments": {},
   "cell_type": "markdown",
   "metadata": {},
   "source": [
    "`approx_real` approximates a real number x to precision \\(\\tau^{n-1}(1 - \\tau^n)\\)"
   ]
  },
  {
   "cell_type": "code",
   "execution_count": 3,
   "metadata": {},
   "outputs": [],
   "source": [
    "FibArray = [1, 1]\n",
    " \n",
    "def Fib(n):\n",
    "    if n<0:\n",
    "        print(\"Incorrect input\")\n",
    "    elif n<= len(FibArray):\n",
    "        return FibArray[n-1]\n",
    "    else:\n",
    "        temp_fib = Fib(n-1)+Fib(n-2)\n",
    "        FibArray.append(temp_fib)\n",
    "        return temp_fib    "
   ]
  },
  {
   "cell_type": "code",
   "execution_count": 4,
   "metadata": {},
   "outputs": [],
   "source": [
    "def approx_real(x,n):\n",
    "    p, q = Fib(n), Fib(n+1)\n",
    "    u, v = (-1)**(n+1)*Fib(n), (-1)**n * Fib(n-1)\n",
    "    c = round(x*q)\n",
    "    a = c*v + p * round(c*u/q)\n",
    "    b = c*u - q * round(c*u/q)\n",
    "\n",
    "    return Ztau(a, b)"
   ]
  },
  {
   "cell_type": "code",
   "execution_count": 5,
   "metadata": {},
   "outputs": [
    {
     "name": "stdout",
     "output_type": "stream",
     "text": [
      "(-317 + 518τ)\n"
     ]
    }
   ],
   "source": [
    "print(approx_real(mp.pi, 20))"
   ]
  },
  {
   "attachments": {},
   "cell_type": "markdown",
   "metadata": {},
   "source": [
    "`random_sample` generates an element of Z[omega] approximating (r*phi^m) * exp(-i theta/2) to within precision epsilon"
   ]
  },
  {
   "cell_type": "code",
   "execution_count": 6,
   "metadata": {},
   "outputs": [],
   "source": [
    "phi = (mp.sqrt(mp.mpf(5)) + 1)/2\n",
    "tau = (mp.sqrt(mp.mpf(5)) - 1)/2"
   ]
  },
  {
   "cell_type": "code",
   "execution_count": 7,
   "metadata": {},
   "outputs": [],
   "source": [
    "def Rz(angle):\n",
    "    return np.array([\n",
    "        [cmath.exp(-0.5j*angle), 0],\n",
    "        [0, cmath.exp(0.5j*angle)]\n",
    "    ])\n",
    "\n",
    "def Pauli_X():\n",
    "    return np.array([\n",
    "        [0, 1],\n",
    "        [1, 0]\n",
    "    ])\n",
    "\n",
    "def F():\n",
    "    return np.array([\n",
    "        [tau, sqrt(tau)],\n",
    "        [sqrt(tau), -1*tau]\n",
    "    ])"
   ]
  },
  {
   "cell_type": "code",
   "execution_count": 8,
   "metadata": {},
   "outputs": [
    {
     "name": "stdout",
     "output_type": "stream",
     "text": [
      "3\n"
     ]
    }
   ],
   "source": [
    "test = mp.mpf(3)\n",
    "print(int(float(mp.nstr(test,1))))"
   ]
  },
  {
   "cell_type": "code",
   "execution_count": 9,
   "metadata": {},
   "outputs": [],
   "source": [
    "def random_sample(theta, epsilon, r):\n",
    "    C = mp.sqrt(phi/(4*r))\n",
    "    m = int(float(mp.nstr(mp.ceil(mp.log(C*epsilon*r, tau)), 1))) + 1\n",
    "    N = int(float(mp.nstr(mp.ceil(phi**m), 1)))\n",
    "\n",
    "    y_min = r*phi**m *(mp.sin(theta) - epsilon*(mp.sqrt(4-epsilon**2)*mp.cos(theta) + epsilon*mp.sin(theta))/2)\n",
    "    y_max = r*phi**m *(mp.sin(theta) + epsilon*(mp.sqrt(4-epsilon**2)*mp.cos(theta) - epsilon*mp.sin(theta))/2)\n",
    "    x_max = r*phi**m *((1 - epsilon**2/2)*mp.cos(theta) - epsilon*mp.sqrt(1 - epsilon**2/4)*mp.sin(theta))\n",
    "    x_c = x_max - r*epsilon**2*phi**m/(4*mp.cos(theta))\n",
    "\n",
    "    j = random.randint(1, N-1)\n",
    "    y = y_min + j*(y_max - y_min)/N\n",
    "    a_y = approx_real(y/mp.sqrt(2-tau), m)\n",
    "    x = x_c - (a_y.value()*mp.sqrt(2-tau) - y_min)*mp.tan(theta)\n",
    "    a_x = approx_real(x,m)\n",
    "\n",
    "    return Zomega.fromTau(a_x) + Zomega(-1,2,-1,1)*Zomega.fromTau(a_y)\n"
   ]
  },
  {
   "cell_type": "code",
   "execution_count": 10,
   "metadata": {},
   "outputs": [
    {
     "name": "stdout",
     "output_type": "stream",
     "text": [
      "sample: (182 + -34ω + 83ω² + -61ω³)\n"
     ]
    }
   ],
   "source": [
    "r = 1\n",
    "epsilon = 10**(-2)\n",
    "sample = random_sample(0, epsilon, r)\n",
    "print(\"sample: \" + str(sample))"
   ]
  },
  {
   "cell_type": "code",
   "execution_count": 11,
   "metadata": {},
   "outputs": [],
   "source": [
    "def compile_R_rotation(angle, epsilon):\n",
    "    epsilon = epsilon * epsilon\n",
    "    C = mp.sqrt(phi/4)\n",
    "    m = int(float(mp.nstr(mp.ceil(mp.log(C*epsilon, tau)), 1))) + 1\n",
    "    theta = 0\n",
    "    for k in range(10):       \n",
    "        adjusted_angle = (-angle/2 - mp.pi*k/5) - floor((-angle/2 - mp.pi*k/5)/(2*mp.pi)) * (2*mp.pi)\n",
    "        if adjusted_angle >= 0 and adjusted_angle <= mp.pi/5:\n",
    "            theta = adjusted_angle\n",
    "            break\n",
    "    \n",
    "    not_found, u, v = True, 0, 0\n",
    "\n",
    "    while not_found:\n",
    "        u0 = random_sample(theta, epsilon, 1)\n",
    "        phi_t = Ztau(1, 1)\n",
    "        xi = phi_t*(phi_t**(2*m) - Ztau.fromOmega(u0*u0.star()))\n",
    "        factors = easy_factor(xi)\n",
    "        if easy_solveable(factors):\n",
    "            not_found = False\n",
    "            #print(\"found one!\")\n",
    "            #print(\"u0 angle: \" + str(cmath.phase(u0.value())))\n",
    "            u = Zomega(0,1,0,0)**k * Zomega.fromTau(Ztau(0,1))**m * u0\n",
    "            #print(\"norm solution: \" + str(solve_norm_equation(xi)))\n",
    "            v = Zomega.fromTau(Ztau(0,1))**m * solve_norm_equation(xi)\n",
    "    \n",
    "    print(\"u, v = \" + str(u) + \", \" + str(v))\n",
    "    #print(\"u,v value: \" + str(u.value()) + \", \" + str(v.value()))\n",
    "    #print(\"u angle: \" + str(cmath.phase(u.value())))\n",
    "    print(\"distance = \" + str(mp.sqrt(1 - 0.5 * abs((u.value()*mp.exp(mp.mpc(1j)*angle/2) + (u.star().value()*mp.exp(mp.mpc(-1j)*angle/2)))))))\n",
    "    #print(\"-----------------------\")\n",
    "    #print(Exact_U(u,v,5).value())\n",
    "    Circuit = exact_synthesize(Exact_U(u, v, 5))\n",
    "\n",
    "    return Circuit"
   ]
  },
  {
   "cell_type": "code",
   "execution_count": 30,
   "metadata": {},
   "outputs": [
    {
     "name": "stdout",
     "output_type": "stream",
     "text": [
      "[[0.98877108-0.14943813j 0.        +0.j        ]\n",
      " [0.        +0.j         0.98877108+0.14943813j]]\n",
      "u, v = (-191550867544865616 + 427599163406597260ω + -381934165690772948ω² + 117663349144475568ω³), (-4861476148834106 + 205915207349250085ω + -325311770647258251ω² + 198049173704939559ω³)\n",
      "distance = 0.000090402335424546331245489770946120417661043796746481\n"
     ]
    },
    {
     "ename": "KeyboardInterrupt",
     "evalue": "",
     "output_type": "error",
     "traceback": [
      "\u001b[1;31m---------------------------------------------------------------------------\u001b[0m",
      "\u001b[1;31mKeyboardInterrupt\u001b[0m                         Traceback (most recent call last)",
      "Cell \u001b[1;32mIn[30], line 5\u001b[0m\n\u001b[0;32m      3\u001b[0m angle \u001b[39m=\u001b[39m \u001b[39m0.3\u001b[39m\n\u001b[0;32m      4\u001b[0m \u001b[39mprint\u001b[39m(Rz(angle))\n\u001b[1;32m----> 5\u001b[0m FT \u001b[39m=\u001b[39m compile_R_rotation(angle, \u001b[39m0.0001\u001b[39;49m)\n\u001b[0;32m      6\u001b[0m \u001b[39mprint\u001b[39m(FT\u001b[39m.\u001b[39mtoBraid())\n\u001b[0;32m      7\u001b[0m \u001b[39mprint\u001b[39m(FT\u001b[39m.\u001b[39mtoBraid()\u001b[39m.\u001b[39mnumerical_approximate())\n",
      "Cell \u001b[1;32mIn[25], line 33\u001b[0m, in \u001b[0;36mcompile_R_rotation\u001b[1;34m(angle, epsilon)\u001b[0m\n\u001b[0;32m     30\u001b[0m \u001b[39mprint\u001b[39m(\u001b[39m\"\u001b[39m\u001b[39mdistance = \u001b[39m\u001b[39m\"\u001b[39m \u001b[39m+\u001b[39m \u001b[39mstr\u001b[39m(mp\u001b[39m.\u001b[39msqrt(\u001b[39m1\u001b[39m \u001b[39m-\u001b[39m \u001b[39m0.5\u001b[39m \u001b[39m*\u001b[39m \u001b[39mabs\u001b[39m((u\u001b[39m.\u001b[39mvalue()\u001b[39m*\u001b[39mmp\u001b[39m.\u001b[39mexp(mp\u001b[39m.\u001b[39mmpc(\u001b[39m1\u001b[39mj)\u001b[39m*\u001b[39mangle\u001b[39m/\u001b[39m\u001b[39m2\u001b[39m) \u001b[39m+\u001b[39m (u\u001b[39m.\u001b[39mstar()\u001b[39m.\u001b[39mvalue()\u001b[39m*\u001b[39mmp\u001b[39m.\u001b[39mexp(mp\u001b[39m.\u001b[39mmpc(\u001b[39m-\u001b[39m\u001b[39m1\u001b[39mj)\u001b[39m*\u001b[39mangle\u001b[39m/\u001b[39m\u001b[39m2\u001b[39m)))))))\n\u001b[0;32m     31\u001b[0m \u001b[39m#print(\"-----------------------\")\u001b[39;00m\n\u001b[0;32m     32\u001b[0m \u001b[39m#print(Exact_U(u,v,5).value())\u001b[39;00m\n\u001b[1;32m---> 33\u001b[0m Circuit \u001b[39m=\u001b[39m exact_synthesize(Exact_U(u, v, \u001b[39m5\u001b[39;49m))\n\u001b[0;32m     35\u001b[0m \u001b[39mreturn\u001b[39;00m Circuit\n",
      "File \u001b[1;32mc:\\Users\\Justi\\Code\\QCompile\\exact_synthesize.py:24\u001b[0m, in \u001b[0;36mexact_synthesize\u001b[1;34m(U)\u001b[0m\n\u001b[0;32m     22\u001b[0m \u001b[39mmin\u001b[39m \u001b[39m=\u001b[39m \u001b[39m0\u001b[39m\n\u001b[0;32m     23\u001b[0m \u001b[39mfor\u001b[39;00m j \u001b[39min\u001b[39;00m \u001b[39mrange\u001b[39m(\u001b[39m0\u001b[39m,\u001b[39m10\u001b[39m):\n\u001b[1;32m---> 24\u001b[0m     \u001b[39mif\u001b[39;00m (F\u001b[39m*\u001b[39m(T\u001b[39m*\u001b[39m\u001b[39m*\u001b[39mj)\u001b[39m*\u001b[39mV)\u001b[39m.\u001b[39mmu()\u001b[39m.\u001b[39mvalue() \u001b[39m<\u001b[39m (F\u001b[39m*\u001b[39m(T\u001b[39m*\u001b[39;49m\u001b[39m*\u001b[39;49m\u001b[39mmin\u001b[39;49m)\u001b[39m*\u001b[39mV)\u001b[39m.\u001b[39mmu()\u001b[39m.\u001b[39mvalue():\n\u001b[0;32m     25\u001b[0m         \u001b[39mmin\u001b[39m \u001b[39m=\u001b[39m j\n\u001b[0;32m     27\u001b[0m V \u001b[39m=\u001b[39m F\u001b[39m*\u001b[39m(T\u001b[39m*\u001b[39m\u001b[39m*\u001b[39m\u001b[39mmin\u001b[39m)\u001b[39m*\u001b[39mV\n",
      "File \u001b[1;32mc:\\Users\\Justi\\Code\\QCompile\\Rings.py:233\u001b[0m, in \u001b[0;36mExact_U.__pow__\u001b[1;34m(self, k)\u001b[0m\n\u001b[0;32m    231\u001b[0m T \u001b[39m=\u001b[39m Exact_U(Zomega(\u001b[39m1\u001b[39m,\u001b[39m0\u001b[39m,\u001b[39m0\u001b[39m,\u001b[39m0\u001b[39m), Zomega(\u001b[39m0\u001b[39m,\u001b[39m0\u001b[39m,\u001b[39m0\u001b[39m,\u001b[39m0\u001b[39m), \u001b[39m5\u001b[39m)\n\u001b[0;32m    232\u001b[0m \u001b[39mfor\u001b[39;00m i \u001b[39min\u001b[39;00m \u001b[39mrange\u001b[39m(k):\n\u001b[1;32m--> 233\u001b[0m     T \u001b[39m=\u001b[39m \u001b[39mself\u001b[39;49m\u001b[39m.\u001b[39;49m\u001b[39m__mul__\u001b[39;49m(T)\n\u001b[0;32m    234\u001b[0m \u001b[39mreturn\u001b[39;00m T\n",
      "File \u001b[1;32mc:\\Users\\Justi\\Code\\QCompile\\Rings.py:226\u001b[0m, in \u001b[0;36mExact_U.__mul__\u001b[1;34m(self, A)\u001b[0m\n\u001b[0;32m    224\u001b[0m omega \u001b[39m=\u001b[39m Zomega(\u001b[39m0\u001b[39m,\u001b[39m1\u001b[39m,\u001b[39m0\u001b[39m,\u001b[39m0\u001b[39m)\n\u001b[0;32m    225\u001b[0m tau \u001b[39m=\u001b[39m Zomega(\u001b[39m0\u001b[39m,\u001b[39m0\u001b[39m,\u001b[39m1\u001b[39m,\u001b[39m-\u001b[39m\u001b[39m1\u001b[39m)\n\u001b[1;32m--> 226\u001b[0m \u001b[39mreturn\u001b[39;00m Exact_U(\u001b[39mself\u001b[39m\u001b[39m.\u001b[39mu\u001b[39m*\u001b[39mA\u001b[39m.\u001b[39mu \u001b[39m+\u001b[39m \u001b[39mself\u001b[39m\u001b[39m.\u001b[39mv\u001b[39m.\u001b[39mstar()\u001b[39m*\u001b[39mA\u001b[39m.\u001b[39mv\u001b[39m*\u001b[39mtau\u001b[39m*\u001b[39m(omega\u001b[39m*\u001b[39;49m\u001b[39m*\u001b[39;49m\u001b[39mself\u001b[39;49m\u001b[39m.\u001b[39;49mk), \n\u001b[0;32m    227\u001b[0m          \u001b[39mself\u001b[39m\u001b[39m.\u001b[39mv\u001b[39m*\u001b[39mA\u001b[39m.\u001b[39mu \u001b[39m-\u001b[39m \u001b[39mself\u001b[39m\u001b[39m.\u001b[39mu\u001b[39m.\u001b[39mstar()\u001b[39m*\u001b[39mA\u001b[39m.\u001b[39mv\u001b[39m*\u001b[39m(omega\u001b[39m*\u001b[39m\u001b[39m*\u001b[39m\u001b[39mself\u001b[39m\u001b[39m.\u001b[39mk), \n\u001b[0;32m    228\u001b[0m          (\u001b[39mself\u001b[39m\u001b[39m.\u001b[39mk \u001b[39m+\u001b[39m A\u001b[39m.\u001b[39mk \u001b[39m+\u001b[39m \u001b[39m5\u001b[39m)\u001b[39m%\u001b[39m\u001b[39m10\u001b[39m)\n",
      "File \u001b[1;32mc:\\Users\\Justi\\Code\\QCompile\\Rings.py:80\u001b[0m, in \u001b[0;36mZomega.__pow__\u001b[1;34m(self, k)\u001b[0m\n\u001b[0;32m     78\u001b[0m     T \u001b[39m=\u001b[39m \u001b[39mself\u001b[39m\u001b[39m.\u001b[39m\u001b[39m__mul__\u001b[39m(T)\n\u001b[0;32m     79\u001b[0m \u001b[39melse\u001b[39;00m:\n\u001b[1;32m---> 80\u001b[0m     inv \u001b[39m=\u001b[39m Zomega(\u001b[39m1\u001b[39;49m,\u001b[39m0\u001b[39;49m,\u001b[39m0\u001b[39;49m,\u001b[39m0\u001b[39;49m)\u001b[39m/\u001b[39;49m\u001b[39mself\u001b[39;49m\n\u001b[0;32m     81\u001b[0m     \u001b[39mfor\u001b[39;00m i \u001b[39min\u001b[39;00m \u001b[39mrange\u001b[39m(\u001b[39m-\u001b[39mk):\n\u001b[0;32m     82\u001b[0m         T \u001b[39m=\u001b[39m T \u001b[39m*\u001b[39m inv\n",
      "File \u001b[1;32mc:\\Users\\Justi\\Code\\QCompile\\Rings.py:58\u001b[0m, in \u001b[0;36mZomega.__truediv__\u001b[1;34m(self, s)\u001b[0m\n\u001b[0;32m     57\u001b[0m \u001b[39mdef\u001b[39;00m \u001b[39m__truediv__\u001b[39m(\u001b[39mself\u001b[39m, s):\n\u001b[1;32m---> 58\u001b[0m     output \u001b[39m=\u001b[39m \u001b[39mself\u001b[39;49m\u001b[39m.\u001b[39;49mmult_matrix(s\u001b[39m.\u001b[39;49ma, s\u001b[39m.\u001b[39;49mb, s\u001b[39m.\u001b[39;49mc, s\u001b[39m.\u001b[39;49md)\u001b[39m*\u001b[39;49m\u001b[39m*\u001b[39;49m(\u001b[39m-\u001b[39;49m\u001b[39m1\u001b[39;49m) \u001b[39m*\u001b[39m Matrix([\u001b[39mself\u001b[39m\u001b[39m.\u001b[39ma, \u001b[39mself\u001b[39m\u001b[39m.\u001b[39mb, \u001b[39mself\u001b[39m\u001b[39m.\u001b[39mc, \u001b[39mself\u001b[39m\u001b[39m.\u001b[39md])\n\u001b[0;32m     59\u001b[0m     \u001b[39mreturn\u001b[39;00m Zomega(output[\u001b[39m0\u001b[39m],output[\u001b[39m1\u001b[39m],output[\u001b[39m2\u001b[39m],output[\u001b[39m3\u001b[39m])\n",
      "File \u001b[1;32mc:\\Python310\\lib\\site-packages\\sympy\\core\\decorators.py:106\u001b[0m, in \u001b[0;36mcall_highest_priority.<locals>.priority_decorator.<locals>.binary_op_wrapper\u001b[1;34m(self, other)\u001b[0m\n\u001b[0;32m    104\u001b[0m         \u001b[39mif\u001b[39;00m f \u001b[39mis\u001b[39;00m \u001b[39mnot\u001b[39;00m \u001b[39mNone\u001b[39;00m:\n\u001b[0;32m    105\u001b[0m             \u001b[39mreturn\u001b[39;00m f(\u001b[39mself\u001b[39m)\n\u001b[1;32m--> 106\u001b[0m \u001b[39mreturn\u001b[39;00m func(\u001b[39mself\u001b[39;49m, other)\n",
      "File \u001b[1;32mc:\\Python310\\lib\\site-packages\\sympy\\matrices\\common.py:2780\u001b[0m, in \u001b[0;36mMatrixArithmetic.__pow__\u001b[1;34m(self, exp)\u001b[0m\n\u001b[0;32m   2776\u001b[0m \u001b[39m@call_highest_priority\u001b[39m(\u001b[39m'\u001b[39m\u001b[39m__rpow__\u001b[39m\u001b[39m'\u001b[39m)\n\u001b[0;32m   2777\u001b[0m \u001b[39mdef\u001b[39;00m \u001b[39m__pow__\u001b[39m(\u001b[39mself\u001b[39m, exp):\n\u001b[0;32m   2778\u001b[0m     \u001b[39m\"\"\"Return self**exp a scalar or symbol.\"\"\"\u001b[39;00m\n\u001b[1;32m-> 2780\u001b[0m     \u001b[39mreturn\u001b[39;00m \u001b[39mself\u001b[39;49m\u001b[39m.\u001b[39;49mpow(exp)\n",
      "File \u001b[1;32mc:\\Python310\\lib\\site-packages\\sympy\\matrices\\common.py:2824\u001b[0m, in \u001b[0;36mMatrixArithmetic.pow\u001b[1;34m(self, exp, method)\u001b[0m\n\u001b[0;32m   2822\u001b[0m     \u001b[39mif\u001b[39;00m exp \u001b[39m<\u001b[39m \u001b[39m0\u001b[39m:\n\u001b[0;32m   2823\u001b[0m         exp \u001b[39m=\u001b[39m \u001b[39m-\u001b[39mexp\n\u001b[1;32m-> 2824\u001b[0m         a \u001b[39m=\u001b[39m a\u001b[39m.\u001b[39;49minv()\n\u001b[0;32m   2825\u001b[0m \u001b[39m# When certain conditions are met,\u001b[39;00m\n\u001b[0;32m   2826\u001b[0m \u001b[39m# Jordan block algorithm is faster than\u001b[39;00m\n\u001b[0;32m   2827\u001b[0m \u001b[39m# computation by recursion.\u001b[39;00m\n\u001b[0;32m   2828\u001b[0m \u001b[39mif\u001b[39;00m method \u001b[39m==\u001b[39m \u001b[39m'\u001b[39m\u001b[39mjordan\u001b[39m\u001b[39m'\u001b[39m:\n",
      "File \u001b[1;32mc:\\Python310\\lib\\site-packages\\sympy\\matrices\\matrices.py:2177\u001b[0m, in \u001b[0;36mMatrixBase.inv\u001b[1;34m(self, method, iszerofunc, try_block_diag)\u001b[0m\n\u001b[0;32m   2176\u001b[0m \u001b[39mdef\u001b[39;00m \u001b[39minv\u001b[39m(\u001b[39mself\u001b[39m, method\u001b[39m=\u001b[39m\u001b[39mNone\u001b[39;00m, iszerofunc\u001b[39m=\u001b[39m_iszero, try_block_diag\u001b[39m=\u001b[39m\u001b[39mFalse\u001b[39;00m):\n\u001b[1;32m-> 2177\u001b[0m     \u001b[39mreturn\u001b[39;00m _inv(\u001b[39mself\u001b[39;49m, method\u001b[39m=\u001b[39;49mmethod, iszerofunc\u001b[39m=\u001b[39;49miszerofunc,\n\u001b[0;32m   2178\u001b[0m             try_block_diag\u001b[39m=\u001b[39;49mtry_block_diag)\n",
      "File \u001b[1;32mc:\\Python310\\lib\\site-packages\\sympy\\matrices\\inverse.py:459\u001b[0m, in \u001b[0;36m_inv\u001b[1;34m(M, method, iszerofunc, try_block_diag)\u001b[0m\n\u001b[0;32m    456\u001b[0m     \u001b[39mreturn\u001b[39;00m diag(\u001b[39m*\u001b[39mr)\n\u001b[0;32m    458\u001b[0m \u001b[39mif\u001b[39;00m method \u001b[39m==\u001b[39m \u001b[39m\"\u001b[39m\u001b[39mGE\u001b[39m\u001b[39m\"\u001b[39m:\n\u001b[1;32m--> 459\u001b[0m     rv \u001b[39m=\u001b[39m M\u001b[39m.\u001b[39;49minverse_GE(iszerofunc\u001b[39m=\u001b[39;49miszerofunc)\n\u001b[0;32m    460\u001b[0m \u001b[39melif\u001b[39;00m method \u001b[39m==\u001b[39m \u001b[39m\"\u001b[39m\u001b[39mLU\u001b[39m\u001b[39m\"\u001b[39m:\n\u001b[0;32m    461\u001b[0m     rv \u001b[39m=\u001b[39m M\u001b[39m.\u001b[39minverse_LU(iszerofunc\u001b[39m=\u001b[39miszerofunc)\n",
      "File \u001b[1;32mc:\\Python310\\lib\\site-packages\\sympy\\matrices\\matrices.py:2162\u001b[0m, in \u001b[0;36mMatrixBase.inverse_GE\u001b[1;34m(self, iszerofunc)\u001b[0m\n\u001b[0;32m   2161\u001b[0m \u001b[39mdef\u001b[39;00m \u001b[39minverse_GE\u001b[39m(\u001b[39mself\u001b[39m, iszerofunc\u001b[39m=\u001b[39m_iszero):\n\u001b[1;32m-> 2162\u001b[0m     \u001b[39mreturn\u001b[39;00m _inv_GE(\u001b[39mself\u001b[39;49m, iszerofunc\u001b[39m=\u001b[39;49miszerofunc)\n",
      "File \u001b[1;32mc:\\Python310\\lib\\site-packages\\sympy\\matrices\\inverse.py:242\u001b[0m, in \u001b[0;36m_inv_GE\u001b[1;34m(M, iszerofunc)\u001b[0m\n\u001b[0;32m    239\u001b[0m     \u001b[39mraise\u001b[39;00m NonSquareMatrixError(\u001b[39m\"\u001b[39m\u001b[39mA Matrix must be square to invert.\u001b[39m\u001b[39m\"\u001b[39m)\n\u001b[0;32m    241\u001b[0m big \u001b[39m=\u001b[39m Matrix\u001b[39m.\u001b[39mhstack(M\u001b[39m.\u001b[39mas_mutable(), Matrix\u001b[39m.\u001b[39meye(M\u001b[39m.\u001b[39mrows))\n\u001b[1;32m--> 242\u001b[0m red \u001b[39m=\u001b[39m big\u001b[39m.\u001b[39;49mrref(iszerofunc\u001b[39m=\u001b[39;49miszerofunc, simplify\u001b[39m=\u001b[39;49m\u001b[39mTrue\u001b[39;49;00m)[\u001b[39m0\u001b[39m]\n\u001b[0;32m    244\u001b[0m \u001b[39mif\u001b[39;00m \u001b[39many\u001b[39m(iszerofunc(red[j, j]) \u001b[39mfor\u001b[39;00m j \u001b[39min\u001b[39;00m \u001b[39mrange\u001b[39m(red\u001b[39m.\u001b[39mrows)):\n\u001b[0;32m    245\u001b[0m     \u001b[39mraise\u001b[39;00m NonInvertibleMatrixError(\u001b[39m\"\u001b[39m\u001b[39mMatrix det == 0; not invertible.\u001b[39m\u001b[39m\"\u001b[39m)\n",
      "File \u001b[1;32mc:\\Python310\\lib\\site-packages\\sympy\\matrices\\matrices.py:172\u001b[0m, in \u001b[0;36mMatrixReductions.rref\u001b[1;34m(self, iszerofunc, simplify, pivots, normalize_last)\u001b[0m\n\u001b[0;32m    170\u001b[0m \u001b[39mdef\u001b[39;00m \u001b[39mrref\u001b[39m(\u001b[39mself\u001b[39m, iszerofunc\u001b[39m=\u001b[39m_iszero, simplify\u001b[39m=\u001b[39m\u001b[39mFalse\u001b[39;00m, pivots\u001b[39m=\u001b[39m\u001b[39mTrue\u001b[39;00m,\n\u001b[0;32m    171\u001b[0m         normalize_last\u001b[39m=\u001b[39m\u001b[39mTrue\u001b[39;00m):\n\u001b[1;32m--> 172\u001b[0m     \u001b[39mreturn\u001b[39;00m _rref(\u001b[39mself\u001b[39;49m, iszerofunc\u001b[39m=\u001b[39;49miszerofunc, simplify\u001b[39m=\u001b[39;49msimplify,\n\u001b[0;32m    173\u001b[0m         pivots\u001b[39m=\u001b[39;49mpivots, normalize_last\u001b[39m=\u001b[39;49mnormalize_last)\n",
      "File \u001b[1;32mc:\\Python310\\lib\\site-packages\\sympy\\matrices\\reductions.py:320\u001b[0m, in \u001b[0;36m_rref\u001b[1;34m(M, iszerofunc, simplify, pivots, normalize_last)\u001b[0m\n\u001b[0;32m    247\u001b[0m \u001b[39m\"\"\"Return reduced row-echelon form of matrix and indices of pivot vars.\u001b[39;00m\n\u001b[0;32m    248\u001b[0m \n\u001b[0;32m    249\u001b[0m \u001b[39mParameters\u001b[39;00m\n\u001b[1;32m   (...)\u001b[0m\n\u001b[0;32m    315\u001b[0m \u001b[39mof the matrix, set ``noramlize_last=False``\u001b[39;00m\n\u001b[0;32m    316\u001b[0m \u001b[39m\"\"\"\u001b[39;00m\n\u001b[0;32m    318\u001b[0m simpfunc \u001b[39m=\u001b[39m simplify \u001b[39mif\u001b[39;00m \u001b[39misinstance\u001b[39m(simplify, FunctionType) \u001b[39melse\u001b[39;00m _simplify\n\u001b[1;32m--> 320\u001b[0m mat, pivot_cols, _ \u001b[39m=\u001b[39m _row_reduce(M, iszerofunc, simpfunc,\n\u001b[0;32m    321\u001b[0m         normalize_last, normalize\u001b[39m=\u001b[39;49m\u001b[39mTrue\u001b[39;49;00m, zero_above\u001b[39m=\u001b[39;49m\u001b[39mTrue\u001b[39;49;00m)\n\u001b[0;32m    323\u001b[0m \u001b[39mif\u001b[39;00m pivots:\n\u001b[0;32m    324\u001b[0m     mat \u001b[39m=\u001b[39m (mat, pivot_cols)\n",
      "File \u001b[1;32mc:\\Python310\\lib\\site-packages\\sympy\\matrices\\reductions.py:124\u001b[0m, in \u001b[0;36m_row_reduce\u001b[1;34m(M, iszerofunc, simpfunc, normalize_last, normalize, zero_above)\u001b[0m\n\u001b[0;32m    121\u001b[0m \u001b[39mdef\u001b[39;00m \u001b[39m_row_reduce\u001b[39m(M, iszerofunc, simpfunc, normalize_last\u001b[39m=\u001b[39m\u001b[39mTrue\u001b[39;00m,\n\u001b[0;32m    122\u001b[0m                 normalize\u001b[39m=\u001b[39m\u001b[39mTrue\u001b[39;00m, zero_above\u001b[39m=\u001b[39m\u001b[39mTrue\u001b[39;00m):\n\u001b[1;32m--> 124\u001b[0m     mat, pivot_cols, swaps \u001b[39m=\u001b[39m _row_reduce_list(\u001b[39mlist\u001b[39;49m(M), M\u001b[39m.\u001b[39;49mrows, M\u001b[39m.\u001b[39;49mcols, M\u001b[39m.\u001b[39;49mone,\n\u001b[0;32m    125\u001b[0m             iszerofunc, simpfunc, normalize_last\u001b[39m=\u001b[39;49mnormalize_last,\n\u001b[0;32m    126\u001b[0m             normalize\u001b[39m=\u001b[39;49mnormalize, zero_above\u001b[39m=\u001b[39;49mzero_above)\n\u001b[0;32m    128\u001b[0m     \u001b[39mreturn\u001b[39;00m M\u001b[39m.\u001b[39m_new(M\u001b[39m.\u001b[39mrows, M\u001b[39m.\u001b[39mcols, mat), pivot_cols, swaps\n",
      "File \u001b[1;32mc:\\Python310\\lib\\site-packages\\sympy\\matrices\\reductions.py:106\u001b[0m, in \u001b[0;36m_row_reduce_list\u001b[1;34m(mat, rows, cols, one, iszerofunc, simpfunc, normalize_last, normalize, zero_above)\u001b[0m\n\u001b[0;32m    103\u001b[0m         \u001b[39mif\u001b[39;00m iszerofunc(val):\n\u001b[0;32m    104\u001b[0m             \u001b[39mcontinue\u001b[39;00m\n\u001b[1;32m--> 106\u001b[0m         cross_cancel(pivot_val, row, val, piv_row)\n\u001b[0;32m    107\u001b[0m     piv_row \u001b[39m+\u001b[39m\u001b[39m=\u001b[39m \u001b[39m1\u001b[39m\n\u001b[0;32m    109\u001b[0m \u001b[39m# normalize each row\u001b[39;00m\n",
      "File \u001b[1;32mc:\\Python310\\lib\\site-packages\\sympy\\matrices\\reductions.py:55\u001b[0m, in \u001b[0;36m_row_reduce_list.<locals>.cross_cancel\u001b[1;34m(a, i, b, j)\u001b[0m\n\u001b[0;32m     53\u001b[0m q \u001b[39m=\u001b[39m (j \u001b[39m-\u001b[39m i)\u001b[39m*\u001b[39mcols\n\u001b[0;32m     54\u001b[0m \u001b[39mfor\u001b[39;00m p \u001b[39min\u001b[39;00m \u001b[39mrange\u001b[39m(i\u001b[39m*\u001b[39mcols, (i \u001b[39m+\u001b[39m \u001b[39m1\u001b[39m)\u001b[39m*\u001b[39mcols):\n\u001b[1;32m---> 55\u001b[0m     mat[p] \u001b[39m=\u001b[39m isimp(a\u001b[39m*\u001b[39;49mmat[p] \u001b[39m-\u001b[39;49m b\u001b[39m*\u001b[39;49mmat[p \u001b[39m+\u001b[39;49m q])\n",
      "File \u001b[1;32mc:\\Python310\\lib\\site-packages\\sympy\\matrices\\utilities.py:27\u001b[0m, in \u001b[0;36m_dotprodsimp\u001b[1;34m(expr, withsimp)\u001b[0m\n\u001b[0;32m     25\u001b[0m \u001b[39m\"\"\"Wrapper for simplify.dotprodsimp to avoid circular imports.\"\"\"\u001b[39;00m\n\u001b[0;32m     26\u001b[0m \u001b[39mfrom\u001b[39;00m \u001b[39msympy\u001b[39;00m\u001b[39m.\u001b[39;00m\u001b[39msimplify\u001b[39;00m\u001b[39m.\u001b[39;00m\u001b[39msimplify\u001b[39;00m \u001b[39mimport\u001b[39;00m dotprodsimp \u001b[39mas\u001b[39;00m dps\n\u001b[1;32m---> 27\u001b[0m \u001b[39mreturn\u001b[39;00m dps(expr, withsimp\u001b[39m=\u001b[39;49mwithsimp)\n",
      "File \u001b[1;32mc:\\Python310\\lib\\site-packages\\sympy\\simplify\\simplify.py:2083\u001b[0m, in \u001b[0;36mdotprodsimp\u001b[1;34m(expr, withsimp)\u001b[0m\n\u001b[0;32m   2079\u001b[0m     \u001b[39mreturn\u001b[39;00m dummies\u001b[39m.\u001b[39msetdefault(expr, Dummy())\n\u001b[0;32m   2081\u001b[0m simplified \u001b[39m=\u001b[39m \u001b[39mFalse\u001b[39;00m \u001b[39m# doesn't really mean simplified, rather \"can simplify again\"\u001b[39;00m\n\u001b[1;32m-> 2083\u001b[0m \u001b[39mif\u001b[39;00m \u001b[39misinstance\u001b[39m(expr, Basic) \u001b[39mand\u001b[39;00m (expr\u001b[39m.\u001b[39mis_Add \u001b[39mor\u001b[39;00m expr\u001b[39m.\u001b[39mis_Mul \u001b[39mor\u001b[39;00m expr\u001b[39m.\u001b[39mis_Pow):\n\u001b[0;32m   2084\u001b[0m     expr2 \u001b[39m=\u001b[39m expr\u001b[39m.\u001b[39mexpand(deep\u001b[39m=\u001b[39m\u001b[39mTrue\u001b[39;00m, modulus\u001b[39m=\u001b[39m\u001b[39mNone\u001b[39;00m, power_base\u001b[39m=\u001b[39m\u001b[39mFalse\u001b[39;00m,\n\u001b[0;32m   2085\u001b[0m         power_exp\u001b[39m=\u001b[39m\u001b[39mFalse\u001b[39;00m, mul\u001b[39m=\u001b[39m\u001b[39mTrue\u001b[39;00m, log\u001b[39m=\u001b[39m\u001b[39mFalse\u001b[39;00m, multinomial\u001b[39m=\u001b[39m\u001b[39mTrue\u001b[39;00m, basic\u001b[39m=\u001b[39m\u001b[39mFalse\u001b[39;00m)\n\u001b[0;32m   2087\u001b[0m     \u001b[39mif\u001b[39;00m expr2 \u001b[39m!=\u001b[39m expr:\n",
      "\u001b[1;31mKeyboardInterrupt\u001b[0m: "
     ]
    }
   ],
   "source": [
    "# Testing compile_R_rotation\n",
    "\n",
    "angle = 0.3\n",
    "print(Rz(angle))\n",
    "FT = compile_R_rotation(angle, 0.0001)\n",
    "print(FT.toBraid())\n",
    "print(FT.toBraid().numerical_approximate())\n"
   ]
  },
  {
   "cell_type": "code",
   "execution_count": 38,
   "metadata": {},
   "outputs": [
    {
     "name": "stdout",
     "output_type": "stream",
     "text": [
      "u,v value: (36+8j), (40+32j)\n",
      "294405716540324035696780176464778496\n"
     ]
    }
   ],
   "source": [
    "u = Zomega(-255009288268180616, 341634187605978540, -140162031400595300, -70979508258857508)\n",
    "v = Zomega(45639281038229241, -245501868762956335, 323384460018115951, -171655960820992834)\n",
    "print(\"u,v value: \" + str(u.value()) + \", \" + str(v.value()))\n",
    "print(u.N())\n"
   ]
  },
  {
   "cell_type": "code",
   "execution_count": 21,
   "metadata": {},
   "outputs": [],
   "source": [
    "def compile_RX_rotation(angle, epsilon):\n",
    "    epsilon = epsilon * epsilon\n",
    "    r = sqrt(phi)\n",
    "    C = sqrt(phi/(4*r))\n",
    "    m = ceil(log(C*epsilon*r, tau)) + 1\n",
    "    theta = 0\n",
    "    for k in range(10):\n",
    "        adjusted_angle = (angle/2 + pi/2 - pi*k/5) - ((angle/2 + pi/2 - pi*k/5)//(2*pi)) * (2*pi)\n",
    "        if adjusted_angle >= 0 and adjusted_angle <= pi/5:\n",
    "            theta = adjusted_angle\n",
    "            break\n",
    "    \n",
    "    not_found, u, v = True, 0, 0\n",
    "\n",
    "    while not_found:\n",
    "        u0 = random_sample(theta, epsilon, r)\n",
    "        tau_t = Ztau(0,1)\n",
    "        phi_t = Ztau(1,1)\n",
    "        xi = phi_t**(2*m) - tau_t * Ztau.fromOmega(u0*u0.star())\n",
    "        factors = easy_factor(xi)\n",
    "        if easy_solveable(factors):\n",
    "            not_found = False\n",
    "            #print(\"found one!\")\n",
    "            #print(k)\n",
    "            v = Zomega(0,1,0,0)**k * Zomega.fromTau(Ztau(0,1))**m * u0\n",
    "            #print(\"norm solution: \" + str(solve_norm_equation(xi)))\n",
    "            u = Zomega.fromTau(Ztau(0,1))**m * solve_norm_equation(xi)\n",
    "    \n",
    "    # v = Zomega(-1,0,0,0) * v.star()\n",
    "    ex = Exact_U(u, v, 5)\n",
    "    print(ex.value())\n",
    "    #print(\"-----------------------\")\n",
    "    Circuit = exact_synthesize(ex)\n",
    "\n",
    "    return Circuit"
   ]
  },
  {
   "cell_type": "code",
   "execution_count": null,
   "metadata": {},
   "outputs": [],
   "source": [
    "# Testing compile_RX_rotation\n",
    "\n",
    "angle = pi/2\n",
    "print(np.matmul(Rz(angle),Pauli_X()))\n",
    "FT = compile_RX_rotation(angle, 0.0001)\n",
    "print(FT)\n",
    "print(FT.numerical_approximate())\n",
    "print(FT.toBraid())\n",
    "print(FT.toBraid().numerical_approximate())"
   ]
  },
  {
   "cell_type": "code",
   "execution_count": 26,
   "metadata": {},
   "outputs": [],
   "source": [
    "def decompose_unitary(U):\n",
    "    # decompose U into e^i*delta Rz(alpha)*F*Rz(beta)*F*Rz(gamma) or e^id Rz(a)*F*Rz(b)*F*Rz(c) X\n",
    "    X = False\n",
    "    a, b, c, d = U[0,0], U[0,1], U[1,0], U[1,1]\n",
    "    if abs(a) < 0.5:\n",
    "        X = True\n",
    "        a, b, c, d = U[0,1], U[0,0], U[1,1], U[1,0]\n",
    "    \n",
    "    delta = 0.5 * cmath.phase(a*d - b*c)\n",
    "\n",
    "    a, b, c, d = cmath.exp(-1j * delta)*a, cmath.exp(-1j * delta)*b, cmath.exp(-1j * delta)*c, cmath.exp(-1j * delta)*d, \n",
    "    \n",
    "    beta = acos(1 - abs(c)**2/(2*tau**3))\n",
    "    alpha = -(cmath.phase(a) - cmath.phase(cmath.exp(1j*beta) + tau)\n",
    "              - cmath.phase(c) + cmath.phase(1 - cmath.exp(1j*beta)))\n",
    "    gamma = -2*(cmath.phase(a) - cmath.phase(cmath.exp(1j*beta) + tau)) - alpha - beta\n",
    "    \n",
    "    return (alpha, beta, gamma, delta, X)\n"
   ]
  },
  {
   "cell_type": "code",
   "execution_count": 27,
   "metadata": {},
   "outputs": [],
   "source": [
    "def compile_unitary(U, epsilon):\n",
    "    # break U into rotations and then compile them individually\n",
    "    # has precision epsilon^(1/6)\n",
    "    (alpha, beta, gamma, delta, X) = decompose_unitary(U)\n",
    "    #print(cmath.exp(1j*delta)*np.matmul(Rz(alpha), np.matmul(F(), np.matmul(Rz(beta), np.matmul(F(), Rz(gamma))))))\n",
    "    A = compile_R_rotation(alpha, epsilon)\n",
    "    B = compile_R_rotation(beta, epsilon)\n",
    "    if X:\n",
    "        C = compile_RX_rotation(gamma, epsilon)\n",
    "    else:\n",
    "        C = compile_R_rotation(gamma, epsilon)\n",
    "\n",
    "\n",
    "    # debug block\n",
    "    A_num, B_num, C_num = A.numerical_approximate(), B.numerical_approximate(), C.numerical_approximate()\n",
    "    estimate = cmath.exp(delta*pi*1j) * np.matmul(A_num, np.matmul(F(), np.matmul(B_num, np.matmul(F(), C_num))))\n",
    "    print(abs(estimate[0]))\n",
    "\n",
    "    F_circ = FTCircuit()\n",
    "    F_circ.join(\"F\", 1)\n",
    "\n",
    "    A_braid, B_braid, C_braid, F_braid = A.toBraid(), B.toBraid(), C.toBraid(), F_circ.toBraid()\n",
    "\n",
    "    total_braid = A_braid + F_braid + B_braid + F_braid + C_braid\n",
    "    total_braid.addPhase(delta)\n",
    "\n",
    "    return total_braid"
   ]
  },
  {
   "cell_type": "code",
   "execution_count": 28,
   "metadata": {},
   "outputs": [
    {
     "data": {
      "text/plain": [
       "'\\nU = random_unitary(2)\\nprint(U)\\nprint(decompose_unitary(U))\\nbraid = compile_unitary(U, 0.0001)\\nprint(braid)\\nprint(braid.numerical_approximate())\\n'"
      ]
     },
     "execution_count": 28,
     "metadata": {},
     "output_type": "execute_result"
    }
   ],
   "source": [
    "'''\n",
    "U = random_unitary(2)\n",
    "print(U)\n",
    "print(decompose_unitary(U))\n",
    "braid = compile_unitary(U, 0.0001)\n",
    "print(braid)\n",
    "print(braid.numerical_approximate())\n",
    "'''"
   ]
  },
  {
   "cell_type": "code",
   "execution_count": 25,
   "metadata": {},
   "outputs": [],
   "source": [
    "def compile_R_weave(angle, epsilon):\n",
    "    weave = False\n",
    "    while not weave:\n",
    "        C = mp.sqrt(phi/4)\n",
    "        m = int(float(mp.nstr(mp.ceil(mp.log(C*epsilon, tau)), 1))) + 1\n",
    "        theta = 0\n",
    "        for k in range(10):       \n",
    "            adjusted_angle = (-angle/2 - mp.pi*k/5) - floor(((-angle/2 - mp.pi*k/5)/(2*mp.pi))) * (2*mp.pi)\n",
    "            if adjusted_angle >= 0 and adjusted_angle <= mp.pi/5:\n",
    "                theta = adjusted_angle\n",
    "                break\n",
    "        \n",
    "        not_found, u, v = True, 0, 0\n",
    "\n",
    "        while not_found:\n",
    "            u0 = random_sample(theta, epsilon, 1)\n",
    "            phi_t = Ztau(1, 1)\n",
    "            xi = phi_t*(phi_t**(2*m) - Ztau.fromOmega(u0*u0.star()))\n",
    "            #print(\"xi = \" + str(xi))\n",
    "            factors = easy_factor(xi)\n",
    "            #for factor in factors:\n",
    "            #    print(factor[0])\n",
    "            if easy_solveable(factors):\n",
    "                not_found = False\n",
    "                u = Zomega(0,1,0,0)**k * Zomega.fromTau(Ztau(0,1))**m * u0\n",
    "                v = Zomega.fromTau(Ztau(0,1))**m * solve_norm_equation(xi)\n",
    "        \n",
    "        print(\"u, v = \" + str(u) + \", \" + str(v))\n",
    "        # print(\"distance = \" + str(mp.sqrt(1 - 0.5 * abs((u.value()*mp.exp(mp.mpc(1j)*angle/2) + (u.star().value()*mp.exp(mp.mpc(-1j)*angle/2)))))))   \n",
    "        (Circuit, Remainder) = exact_synthesize_weave(Exact_U(u, v, 5))\n",
    "        # print(Circuit)\n",
    "        # print(Remainder)\n",
    "\n",
    "        if len(Remainder.circuit) == 0:\n",
    "            weave = True\n",
    "\n",
    "    return Circuit"
   ]
  },
  {
   "cell_type": "code",
   "execution_count": 59,
   "metadata": {},
   "outputs": [
    {
     "name": "stdout",
     "output_type": "stream",
     "text": [
      "[[-1.-1.2246468e-16j  0.+0.0000000e+00j]\n",
      " [ 0.+0.0000000e+00j -1.+1.2246468e-16j]]\n",
      "u, v = (63619386817397248 + 104934693802365296ω + -272726231385265739ω² + 207873024016341045ω³), (-148110770243294308 + 259560599553875593ω + -180329611864894780ω² + 19912339200298870ω³)\n",
      "u, v = (64096772492288733 + 103979922452582326ω + -271953805137549009ω² + 207690678914274805ω³), (-143503407527744767 + 113776229178869737ω + 48099584958109778ω² + -118417161702448815ω³)\n"
     ]
    },
    {
     "ename": "KeyboardInterrupt",
     "evalue": "",
     "output_type": "error",
     "traceback": [
      "\u001b[1;31m---------------------------------------------------------------------------\u001b[0m",
      "\u001b[1;31mKeyboardInterrupt\u001b[0m                         Traceback (most recent call last)",
      "Cell \u001b[1;32mIn[59], line 5\u001b[0m\n\u001b[0;32m      3\u001b[0m is_desired_phase \u001b[39m=\u001b[39m \u001b[39mFalse\u001b[39;00m\n\u001b[0;32m      4\u001b[0m \u001b[39mwhile\u001b[39;00m \u001b[39mnot\u001b[39;00m is_desired_phase:\n\u001b[1;32m----> 5\u001b[0m     FT \u001b[39m=\u001b[39m compile_R_weave(angle, \u001b[39m0.000000037\u001b[39;49m)\n\u001b[0;32m      6\u001b[0m     \u001b[39mprint\u001b[39m(FT)\n\u001b[0;32m      7\u001b[0m     weave \u001b[39m=\u001b[39m FT\u001b[39m.\u001b[39mtoBraid()\n",
      "Cell \u001b[1;32mIn[25], line 30\u001b[0m, in \u001b[0;36mcompile_R_weave\u001b[1;34m(angle, epsilon)\u001b[0m\n\u001b[0;32m     28\u001b[0m \u001b[39mprint\u001b[39m(\u001b[39m\"\u001b[39m\u001b[39mu, v = \u001b[39m\u001b[39m\"\u001b[39m \u001b[39m+\u001b[39m \u001b[39mstr\u001b[39m(u) \u001b[39m+\u001b[39m \u001b[39m\"\u001b[39m\u001b[39m, \u001b[39m\u001b[39m\"\u001b[39m \u001b[39m+\u001b[39m \u001b[39mstr\u001b[39m(v))\n\u001b[0;32m     29\u001b[0m \u001b[39m# print(\"distance = \" + str(mp.sqrt(1 - 0.5 * abs((u.value()*mp.exp(mp.mpc(1j)*angle/2) + (u.star().value()*mp.exp(mp.mpc(-1j)*angle/2)))))))   \u001b[39;00m\n\u001b[1;32m---> 30\u001b[0m (Circuit, Remainder) \u001b[39m=\u001b[39m exact_synthesize_weave(Exact_U(u, v, \u001b[39m5\u001b[39;49m))\n\u001b[0;32m     31\u001b[0m \u001b[39m# print(Circuit)\u001b[39;00m\n\u001b[0;32m     32\u001b[0m \u001b[39m# print(Remainder)\u001b[39;00m\n\u001b[0;32m     34\u001b[0m \u001b[39mif\u001b[39;00m \u001b[39mlen\u001b[39m(Remainder\u001b[39m.\u001b[39mcircuit) \u001b[39m==\u001b[39m \u001b[39m0\u001b[39m:\n",
      "File \u001b[1;32mc:\\Users\\Justi\\Code\\QCompile\\exact_synthesize.py:58\u001b[0m, in \u001b[0;36mexact_synthesize_weave\u001b[1;34m(U)\u001b[0m\n\u001b[0;32m     56\u001b[0m \u001b[39m#print(\"V = \" + str(V))\u001b[39;00m\n\u001b[0;32m     57\u001b[0m \u001b[39mfor\u001b[39;00m j \u001b[39min\u001b[39;00m \u001b[39mrange\u001b[39m(\u001b[39m0\u001b[39m,\u001b[39m5\u001b[39m):\n\u001b[1;32m---> 58\u001b[0m     \u001b[39mif\u001b[39;00m (F\u001b[39m*\u001b[39m(T\u001b[39m*\u001b[39;49m\u001b[39m*\u001b[39;49m(\u001b[39m2\u001b[39;49m\u001b[39m*\u001b[39;49mj))\u001b[39m*\u001b[39mV)\u001b[39m.\u001b[39mmu()\u001b[39m.\u001b[39mvalue() \u001b[39m<\u001b[39m (F\u001b[39m*\u001b[39m(T\u001b[39m*\u001b[39m\u001b[39m*\u001b[39m\u001b[39mmin\u001b[39m)\u001b[39m*\u001b[39mV)\u001b[39m.\u001b[39mmu()\u001b[39m.\u001b[39mvalue():\n\u001b[0;32m     59\u001b[0m         \u001b[39mmin\u001b[39m \u001b[39m=\u001b[39m \u001b[39m2\u001b[39m\u001b[39m*\u001b[39mj\n\u001b[0;32m     61\u001b[0m V \u001b[39m=\u001b[39m F\u001b[39m*\u001b[39m(T\u001b[39m*\u001b[39m\u001b[39m*\u001b[39m\u001b[39mmin\u001b[39m)\u001b[39m*\u001b[39mV\n",
      "File \u001b[1;32mc:\\Users\\Justi\\Code\\QCompile\\Rings.py:233\u001b[0m, in \u001b[0;36mExact_U.__pow__\u001b[1;34m(self, k)\u001b[0m\n\u001b[0;32m    231\u001b[0m T \u001b[39m=\u001b[39m Exact_U(Zomega(\u001b[39m1\u001b[39m,\u001b[39m0\u001b[39m,\u001b[39m0\u001b[39m,\u001b[39m0\u001b[39m), Zomega(\u001b[39m0\u001b[39m,\u001b[39m0\u001b[39m,\u001b[39m0\u001b[39m,\u001b[39m0\u001b[39m), \u001b[39m5\u001b[39m)\n\u001b[0;32m    232\u001b[0m \u001b[39mfor\u001b[39;00m i \u001b[39min\u001b[39;00m \u001b[39mrange\u001b[39m(k):\n\u001b[1;32m--> 233\u001b[0m     T \u001b[39m=\u001b[39m \u001b[39mself\u001b[39;49m\u001b[39m.\u001b[39;49m\u001b[39m__mul__\u001b[39;49m(T)\n\u001b[0;32m    234\u001b[0m \u001b[39mreturn\u001b[39;00m T\n",
      "File \u001b[1;32mc:\\Users\\Justi\\Code\\QCompile\\Rings.py:226\u001b[0m, in \u001b[0;36mExact_U.__mul__\u001b[1;34m(self, A)\u001b[0m\n\u001b[0;32m    224\u001b[0m omega \u001b[39m=\u001b[39m Zomega(\u001b[39m0\u001b[39m,\u001b[39m1\u001b[39m,\u001b[39m0\u001b[39m,\u001b[39m0\u001b[39m)\n\u001b[0;32m    225\u001b[0m tau \u001b[39m=\u001b[39m Zomega(\u001b[39m0\u001b[39m,\u001b[39m0\u001b[39m,\u001b[39m1\u001b[39m,\u001b[39m-\u001b[39m\u001b[39m1\u001b[39m)\n\u001b[1;32m--> 226\u001b[0m \u001b[39mreturn\u001b[39;00m Exact_U(\u001b[39mself\u001b[39m\u001b[39m.\u001b[39mu\u001b[39m*\u001b[39mA\u001b[39m.\u001b[39mu \u001b[39m+\u001b[39m \u001b[39mself\u001b[39m\u001b[39m.\u001b[39mv\u001b[39m.\u001b[39mstar()\u001b[39m*\u001b[39mA\u001b[39m.\u001b[39mv\u001b[39m*\u001b[39mtau\u001b[39m*\u001b[39m(omega\u001b[39m*\u001b[39;49m\u001b[39m*\u001b[39;49m\u001b[39mself\u001b[39;49m\u001b[39m.\u001b[39;49mk), \n\u001b[0;32m    227\u001b[0m          \u001b[39mself\u001b[39m\u001b[39m.\u001b[39mv\u001b[39m*\u001b[39mA\u001b[39m.\u001b[39mu \u001b[39m-\u001b[39m \u001b[39mself\u001b[39m\u001b[39m.\u001b[39mu\u001b[39m.\u001b[39mstar()\u001b[39m*\u001b[39mA\u001b[39m.\u001b[39mv\u001b[39m*\u001b[39m(omega\u001b[39m*\u001b[39m\u001b[39m*\u001b[39m\u001b[39mself\u001b[39m\u001b[39m.\u001b[39mk), \n\u001b[0;32m    228\u001b[0m          (\u001b[39mself\u001b[39m\u001b[39m.\u001b[39mk \u001b[39m+\u001b[39m A\u001b[39m.\u001b[39mk \u001b[39m+\u001b[39m \u001b[39m5\u001b[39m)\u001b[39m%\u001b[39m\u001b[39m10\u001b[39m)\n",
      "File \u001b[1;32mc:\\Users\\Justi\\Code\\QCompile\\Rings.py:78\u001b[0m, in \u001b[0;36mZomega.__pow__\u001b[1;34m(self, k)\u001b[0m\n\u001b[0;32m     76\u001b[0m T \u001b[39m=\u001b[39m Zomega(\u001b[39m1\u001b[39m, \u001b[39m0\u001b[39m, \u001b[39m0\u001b[39m, \u001b[39m0\u001b[39m)\n\u001b[0;32m     77\u001b[0m \u001b[39mfor\u001b[39;00m i \u001b[39min\u001b[39;00m \u001b[39mrange\u001b[39m(k):\n\u001b[1;32m---> 78\u001b[0m     T \u001b[39m=\u001b[39m \u001b[39mself\u001b[39;49m\u001b[39m.\u001b[39;49m\u001b[39m__mul__\u001b[39;49m(T)\n\u001b[0;32m     79\u001b[0m \u001b[39melse\u001b[39;00m:\n\u001b[0;32m     80\u001b[0m     inv \u001b[39m=\u001b[39m Zomega(\u001b[39m1\u001b[39m,\u001b[39m0\u001b[39m,\u001b[39m0\u001b[39m,\u001b[39m0\u001b[39m)\u001b[39m/\u001b[39m\u001b[39mself\u001b[39m\n",
      "File \u001b[1;32mc:\\Users\\Justi\\Code\\QCompile\\Rings.py:39\u001b[0m, in \u001b[0;36mZomega.__mul__\u001b[1;34m(self, s)\u001b[0m\n\u001b[0;32m     38\u001b[0m \u001b[39mdef\u001b[39;00m \u001b[39m__mul__\u001b[39m(\u001b[39mself\u001b[39m, s):\n\u001b[1;32m---> 39\u001b[0m     output \u001b[39m=\u001b[39m \u001b[39mself\u001b[39;49m\u001b[39m.\u001b[39;49mmult_matrix(\u001b[39mself\u001b[39;49m\u001b[39m.\u001b[39;49ma, \u001b[39mself\u001b[39;49m\u001b[39m.\u001b[39;49mb, \u001b[39mself\u001b[39;49m\u001b[39m.\u001b[39;49mc, \u001b[39mself\u001b[39;49m\u001b[39m.\u001b[39;49md) \u001b[39m*\u001b[39m Matrix([s\u001b[39m.\u001b[39ma, s\u001b[39m.\u001b[39mb, s\u001b[39m.\u001b[39mc, s\u001b[39m.\u001b[39md])\n\u001b[0;32m     40\u001b[0m     \u001b[39mreturn\u001b[39;00m Zomega(output[\u001b[39m0\u001b[39m],output[\u001b[39m1\u001b[39m],output[\u001b[39m2\u001b[39m],output[\u001b[39m3\u001b[39m])\n",
      "File \u001b[1;32mc:\\Users\\Justi\\Code\\QCompile\\Rings.py:43\u001b[0m, in \u001b[0;36mZomega.mult_matrix\u001b[1;34m(self, a, b, c, d)\u001b[0m\n\u001b[0;32m     42\u001b[0m \u001b[39mdef\u001b[39;00m \u001b[39mmult_matrix\u001b[39m(\u001b[39mself\u001b[39m, a, b, c, d):\n\u001b[1;32m---> 43\u001b[0m     \u001b[39mreturn\u001b[39;00m Matrix([\n\u001b[0;32m     44\u001b[0m         [a,  \u001b[39m-\u001b[39;49md, \u001b[39m-\u001b[39;49mc\u001b[39m-\u001b[39;49md, \u001b[39m-\u001b[39;49mb\u001b[39m-\u001b[39;49mc],\n\u001b[0;32m     45\u001b[0m         [b, a\u001b[39m+\u001b[39;49md,    c,  b\u001b[39m-\u001b[39;49md],\n\u001b[0;32m     46\u001b[0m         [c, b\u001b[39m-\u001b[39;49md,  a\u001b[39m-\u001b[39;49mc,   \u001b[39m-\u001b[39;49mb],\n\u001b[0;32m     47\u001b[0m         [d, c\u001b[39m+\u001b[39;49md,  b\u001b[39m+\u001b[39;49mc,  a\u001b[39m+\u001b[39;49mb]\n\u001b[0;32m     48\u001b[0m     ])\n",
      "File \u001b[1;32mc:\\Python310\\lib\\site-packages\\sympy\\matrices\\repmatrix.py:329\u001b[0m, in \u001b[0;36mMutableRepMatrix.__new__\u001b[1;34m(cls, *args, **kwargs)\u001b[0m\n\u001b[0;32m    328\u001b[0m \u001b[39mdef\u001b[39;00m \u001b[39m__new__\u001b[39m(\u001b[39mcls\u001b[39m, \u001b[39m*\u001b[39margs, \u001b[39m*\u001b[39m\u001b[39m*\u001b[39mkwargs):\n\u001b[1;32m--> 329\u001b[0m     \u001b[39mreturn\u001b[39;00m \u001b[39mcls\u001b[39m\u001b[39m.\u001b[39m_new(\u001b[39m*\u001b[39margs, \u001b[39m*\u001b[39m\u001b[39m*\u001b[39mkwargs)\n",
      "File \u001b[1;32mc:\\Python310\\lib\\site-packages\\sympy\\matrices\\repmatrix.py:345\u001b[0m, in \u001b[0;36mMutableRepMatrix._new\u001b[1;34m(cls, copy, *args, **kwargs)\u001b[0m\n\u001b[0;32m    341\u001b[0m     flat_list \u001b[39m=\u001b[39m \u001b[39mlist\u001b[39m(flat_list) \u001b[39m# create a shallow copy\u001b[39;00m\n\u001b[0;32m    343\u001b[0m rep \u001b[39m=\u001b[39m \u001b[39mcls\u001b[39m\u001b[39m.\u001b[39m_flat_list_to_DomainMatrix(rows, cols, flat_list)\n\u001b[1;32m--> 345\u001b[0m \u001b[39mreturn\u001b[39;00m \u001b[39mcls\u001b[39;49m\u001b[39m.\u001b[39;49m_fromrep(rep)\n",
      "\u001b[1;31mKeyboardInterrupt\u001b[0m: "
     ]
    }
   ],
   "source": [
    "angle = 2*mp.pi\n",
    "print(Rz(angle))\n",
    "is_desired_phase = False\n",
    "while not is_desired_phase:\n",
    "    FT = compile_R_weave(angle, 0.000000037)\n",
    "    print(FT)\n",
    "    weave = FT.toBraid()\n",
    "    print(weave)\n",
    "    print(weave.numerical_approximate())\n",
    "    print(weave.individual_winding())\n",
    "    if weave.phase == 0 and weave.individual_winding() == (0,0):\n",
    "        is_desired_phase = True"
   ]
  },
  {
   "cell_type": "code",
   "execution_count": 18,
   "metadata": {},
   "outputs": [
    {
     "name": "stdout",
     "output_type": "stream",
     "text": [
      "[[-1.00000000e+00-3.97036784e-07j  9.78967310e-07+1.98919372e-07j]\n",
      " [-9.78967312e-07+1.98919372e-07j -1.00000000e+00+3.97036854e-07j]]\n",
      "(0, 0)\n"
     ]
    }
   ],
   "source": [
    "output = \"1111112222222211111111221122221122112222221122222222111111112222222211112211112211111122221122222222111111112222222211111122221122112222222211111111222222221111111122111111222222221111111122222222111111112211221111111122222222111111112211111111222222221111112222222211111111222222221111111122112222222211111111\"\n",
    "print(Braid.evaluate_braid_string(output))\n",
    "print(Braid.evaluate_individual_winding(output))"
   ]
  }
 ],
 "metadata": {
  "kernelspec": {
   "display_name": "Python 3",
   "language": "python",
   "name": "python3"
  },
  "language_info": {
   "codemirror_mode": {
    "name": "ipython",
    "version": 3
   },
   "file_extension": ".py",
   "mimetype": "text/x-python",
   "name": "python",
   "nbconvert_exporter": "python",
   "pygments_lexer": "ipython3",
   "version": "3.10.5"
  },
  "orig_nbformat": 4
 },
 "nbformat": 4,
 "nbformat_minor": 2
}
