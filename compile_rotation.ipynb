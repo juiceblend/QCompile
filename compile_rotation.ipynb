{
 "cells": [
  {
   "cell_type": "code",
   "execution_count": 13,
   "metadata": {},
   "outputs": [],
   "source": [
    "from Rings import Zomega, Ztau, Exact_U\n",
    "from norm_equation import easy_factor, easy_solveable, solve_norm_equation\n",
    "from exact_synthesize import exact_synthesize, exact_synthesize_weave\n",
    "from Circuits import FTCircuit, Braid\n",
    "from math import sqrt, ceil, pi, log, sin, cos, tan, acos\n",
    "import cmath\n",
    "import random\n",
    "import numpy as np\n",
    "from toqito.random import random_unitary"
   ]
  },
  {
   "attachments": {},
   "cell_type": "markdown",
   "metadata": {},
   "source": [
    "`approx_real` approximates a real number x to precision \\(\\tau^{n-1}(1 - \\tau^n)\\)"
   ]
  },
  {
   "cell_type": "code",
   "execution_count": 14,
   "metadata": {},
   "outputs": [],
   "source": [
    "FibArray = [1, 1]\n",
    " \n",
    "def Fib(n):\n",
    "    if n<0:\n",
    "        print(\"Incorrect input\")\n",
    "    elif n<= len(FibArray):\n",
    "        return FibArray[n-1]\n",
    "    else:\n",
    "        temp_fib = Fib(n-1)+Fib(n-2)\n",
    "        FibArray.append(temp_fib)\n",
    "        return temp_fib    "
   ]
  },
  {
   "cell_type": "code",
   "execution_count": 15,
   "metadata": {},
   "outputs": [],
   "source": [
    "def approx_real(x,n):\n",
    "    p, q = Fib(n), Fib(n+1)\n",
    "    u, v = (-1)**(n+1)*Fib(n), (-1)**n * Fib(n-1)\n",
    "    c = round(x*q)\n",
    "    a = c*v + p * round(c*u/q)\n",
    "    b = c*u - q * round(c*u/q)\n",
    "\n",
    "    return Ztau(a, b)"
   ]
  },
  {
   "cell_type": "code",
   "execution_count": 16,
   "metadata": {},
   "outputs": [
    {
     "name": "stdout",
     "output_type": "stream",
     "text": [
      "(-317 + 518τ)\n"
     ]
    }
   ],
   "source": [
    "print(approx_real(pi, 20))"
   ]
  },
  {
   "attachments": {},
   "cell_type": "markdown",
   "metadata": {},
   "source": [
    "`random_sample` generates an element of Z[omega] approximating (r*phi^m) * exp(-i theta/2) to within precision epsilon"
   ]
  },
  {
   "cell_type": "code",
   "execution_count": 17,
   "metadata": {},
   "outputs": [],
   "source": [
    "phi = 0.5 * (sqrt(5) + 1)\n",
    "tau = 0.5 * (sqrt(5) - 1)"
   ]
  },
  {
   "cell_type": "code",
   "execution_count": null,
   "metadata": {},
   "outputs": [],
   "source": [
    "def Rz(angle):\n",
    "    return np.array([\n",
    "        [cmath.exp(-0.5j*angle), 0],\n",
    "        [0, cmath.exp(0.5j*angle)]\n",
    "    ])\n",
    "\n",
    "def Pauli_X():\n",
    "    return np.array([\n",
    "        [0, 1],\n",
    "        [1, 0]\n",
    "    ])\n",
    "\n",
    "def F():\n",
    "    return np.array([\n",
    "        [tau, sqrt(tau)],\n",
    "        [sqrt(tau), -1*tau]\n",
    "    ])"
   ]
  },
  {
   "cell_type": "code",
   "execution_count": 18,
   "metadata": {},
   "outputs": [],
   "source": [
    "def random_sample(theta, epsilon, r):\n",
    "    C = sqrt(phi/(4*r))\n",
    "    m = ceil(log(C*epsilon*r, tau)) + 1\n",
    "    N = ceil(phi**m)\n",
    "\n",
    "    y_min = r*phi**m *(sin(theta) - epsilon*(sqrt(4-epsilon**2)*cos(theta) + epsilon*sin(theta))/2)\n",
    "    y_max = r*phi**m *(sin(theta) + epsilon*(sqrt(4-epsilon**2)*cos(theta) - epsilon*sin(theta))/2)\n",
    "    x_max = r*phi**m *((1 - epsilon**2/2)*cos(theta) - epsilon*sqrt(1 - epsilon**2/4)*sin(theta))\n",
    "    x_c = x_max - r*epsilon**2*phi**m/(4*cos(theta))\n",
    "\n",
    "    j = random.randint(1, N-1)\n",
    "    y = y_min + j*(y_max - y_min)/N\n",
    "    a_y = approx_real(y/sqrt(2-tau), m)\n",
    "    x = x_c - (a_y.value()*sqrt(2-tau) - y_min)*tan(theta)\n",
    "    a_x = approx_real(x,m)\n",
    "\n",
    "    return Zomega.fromTau(a_x) + Zomega(-1,2,-1,1)*Zomega.fromTau(a_y)\n"
   ]
  },
  {
   "cell_type": "code",
   "execution_count": 19,
   "metadata": {},
   "outputs": [
    {
     "name": "stdout",
     "output_type": "stream",
     "text": [
      "752.721359549996 + 244.004124678207*I\n",
      "791.282160788914\n",
      "796.0200999949628\n",
      "7.960200999949628\n"
     ]
    }
   ],
   "source": [
    "r = 4\n",
    "epsilon = 1/100\n",
    "C = sqrt(phi/(4*r))\n",
    "m = ceil(log(C*epsilon*r, tau)) + 1\n",
    "ho = random_sample(pi/10, epsilon, r).value()\n",
    "print(ho)\n",
    "print(abs(ho))\n",
    "print(r*phi**m)\n",
    "print(r*(epsilon) * phi**m)"
   ]
  },
  {
   "cell_type": "code",
   "execution_count": 33,
   "metadata": {},
   "outputs": [],
   "source": [
    "def compile_R_rotation(angle, epsilon):\n",
    "    epsilon = epsilon * epsilon\n",
    "    C = sqrt(phi/4)\n",
    "    m = ceil(log(C*epsilon, tau)) + 1\n",
    "    theta = 0\n",
    "    for k in range(10):       \n",
    "        adjusted_angle = (-angle/2 - pi*k/5) - ((-angle/2 - pi*k/5)//(2*pi)) * (2*pi)\n",
    "        if adjusted_angle >= 0 and adjusted_angle <= pi/5:\n",
    "            theta = adjusted_angle\n",
    "            break\n",
    "    \n",
    "    not_found, u, v = True, 0, 0\n",
    "\n",
    "    while not_found:\n",
    "        u0 = random_sample(theta, epsilon, 1)\n",
    "        phi_t = Ztau(1, 1)\n",
    "        xi = phi_t*(phi_t**(2*m) - Ztau.fromOmega(u0*u0.star()))\n",
    "        factors = easy_factor(xi)\n",
    "        if easy_solveable(factors):\n",
    "            not_found = False\n",
    "            #print(\"found one!\")\n",
    "            #print(\"u0 angle: \" + str(cmath.phase(u0.value())))\n",
    "            u = Zomega(0,1,0,0)**k * Zomega.fromTau(Ztau(0,1))**m * u0\n",
    "            #print(\"norm solution: \" + str(solve_norm_equation(xi)))\n",
    "            v = Zomega.fromTau(Ztau(0,1))**m * solve_norm_equation(xi)\n",
    "    \n",
    "    print(\"u, v = \" + str(u) + \", \" + str(v))\n",
    "    #print(\"u,v value: \" + str(u.value()) + \", \" + str(v.value()))\n",
    "    #print(\"u angle: \" + str(cmath.phase(u.value())))\n",
    "    print(\"distance = \" + str(sqrt(1 - 0.5 * abs((u.value()*cmath.exp(1j*angle/2) + (u.star().value()*cmath.exp(-1j*angle/2)))))))\n",
    "    #print(\"-----------------------\")\n",
    "    print(Exact_U(u,v,5).value())\n",
    "    Circuit = exact_synthesize(Exact_U(u, v, 5))\n",
    "\n",
    "    return Circuit"
   ]
  },
  {
   "cell_type": "code",
   "execution_count": 34,
   "metadata": {},
   "outputs": [
    {
     "name": "stdout",
     "output_type": "stream",
     "text": [
      "[[0.22252093-0.97492791j 0.        +0.j        ]\n",
      " [0.        +0.j         0.22252093+0.97492791j]]\n",
      "u, v = (-255009288268180616 + 341634187605978540ω + -140162031400595300ω² + -70979508258857508ω³), (45639281038229241 + -245501868762956335ω + 323384460018115951ω² + -171655960820992834ω³)\n"
     ]
    },
    {
     "ename": "ValueError",
     "evalue": "math domain error",
     "output_type": "error",
     "traceback": [
      "\u001b[1;31m---------------------------------------------------------------------------\u001b[0m",
      "\u001b[1;31mValueError\u001b[0m                                Traceback (most recent call last)",
      "Cell \u001b[1;32mIn[34], line 5\u001b[0m\n\u001b[0;32m      3\u001b[0m angle \u001b[39m=\u001b[39m \u001b[39m6\u001b[39m\u001b[39m*\u001b[39mpi\u001b[39m/\u001b[39m\u001b[39m7\u001b[39m\n\u001b[0;32m      4\u001b[0m \u001b[39mprint\u001b[39m(Rz(angle))\n\u001b[1;32m----> 5\u001b[0m FT \u001b[39m=\u001b[39m compile_R_rotation(angle, \u001b[39m0.0001\u001b[39;49m)\n\u001b[0;32m      6\u001b[0m \u001b[39mprint\u001b[39m(FT\u001b[39m.\u001b[39mtoBraid())\n\u001b[0;32m      7\u001b[0m \u001b[39mprint\u001b[39m(FT\u001b[39m.\u001b[39mtoBraid()\u001b[39m.\u001b[39mnumerical_approximate())\n",
      "Cell \u001b[1;32mIn[33], line 30\u001b[0m, in \u001b[0;36mcompile_R_rotation\u001b[1;34m(angle, epsilon)\u001b[0m\n\u001b[0;32m     27\u001b[0m \u001b[39mprint\u001b[39m(\u001b[39m\"\u001b[39m\u001b[39mu, v = \u001b[39m\u001b[39m\"\u001b[39m \u001b[39m+\u001b[39m \u001b[39mstr\u001b[39m(u) \u001b[39m+\u001b[39m \u001b[39m\"\u001b[39m\u001b[39m, \u001b[39m\u001b[39m\"\u001b[39m \u001b[39m+\u001b[39m \u001b[39mstr\u001b[39m(v))\n\u001b[0;32m     28\u001b[0m \u001b[39m#print(\"u,v value: \" + str(u.value()) + \", \" + str(v.value()))\u001b[39;00m\n\u001b[0;32m     29\u001b[0m \u001b[39m#print(\"u angle: \" + str(cmath.phase(u.value())))\u001b[39;00m\n\u001b[1;32m---> 30\u001b[0m \u001b[39mprint\u001b[39m(\u001b[39m\"\u001b[39m\u001b[39mdistance = \u001b[39m\u001b[39m\"\u001b[39m \u001b[39m+\u001b[39m \u001b[39mstr\u001b[39m(sqrt(\u001b[39m1\u001b[39;49m \u001b[39m-\u001b[39;49m \u001b[39m0.5\u001b[39;49m \u001b[39m*\u001b[39;49m \u001b[39mabs\u001b[39;49m((u\u001b[39m.\u001b[39;49mvalue()\u001b[39m*\u001b[39;49mcmath\u001b[39m.\u001b[39;49mexp(\u001b[39m1\u001b[39;49mj\u001b[39m*\u001b[39;49mangle\u001b[39m/\u001b[39;49m\u001b[39m2\u001b[39;49m) \u001b[39m+\u001b[39;49m (u\u001b[39m.\u001b[39;49mstar()\u001b[39m.\u001b[39;49mvalue()\u001b[39m*\u001b[39;49mcmath\u001b[39m.\u001b[39;49mexp(\u001b[39m-\u001b[39;49m\u001b[39m1\u001b[39;49mj\u001b[39m*\u001b[39;49mangle\u001b[39m/\u001b[39;49m\u001b[39m2\u001b[39;49m)))))))\n\u001b[0;32m     31\u001b[0m \u001b[39m#print(\"-----------------------\")\u001b[39;00m\n\u001b[0;32m     32\u001b[0m \u001b[39mprint\u001b[39m(Exact_U(u,v,\u001b[39m5\u001b[39m)\u001b[39m.\u001b[39mvalue())\n",
      "\u001b[1;31mValueError\u001b[0m: math domain error"
     ]
    }
   ],
   "source": [
    "# Testing compile_R_rotation\n",
    "\n",
    "angle = 6*pi/7\n",
    "print(Rz(angle))\n",
    "FT = compile_R_rotation(angle, 0.0001)\n",
    "print(FT.toBraid())\n",
    "print(FT.toBraid().numerical_approximate())\n"
   ]
  },
  {
   "cell_type": "code",
   "execution_count": 38,
   "metadata": {},
   "outputs": [
    {
     "name": "stdout",
     "output_type": "stream",
     "text": [
      "u,v value: (36+8j), (40+32j)\n",
      "294405716540324035696780176464778496\n"
     ]
    }
   ],
   "source": [
    "u = Zomega(-255009288268180616, 341634187605978540, -140162031400595300, -70979508258857508)\n",
    "v = Zomega(45639281038229241, -245501868762956335, 323384460018115951, -171655960820992834)\n",
    "print(\"u,v value: \" + str(u.value()) + \", \" + str(v.value()))\n",
    "print(u.N())\n"
   ]
  },
  {
   "cell_type": "code",
   "execution_count": 21,
   "metadata": {},
   "outputs": [],
   "source": [
    "def compile_RX_rotation(angle, epsilon):\n",
    "    epsilon = epsilon * epsilon\n",
    "    r = sqrt(phi)\n",
    "    C = sqrt(phi/(4*r))\n",
    "    m = ceil(log(C*epsilon*r, tau)) + 1\n",
    "    theta = 0\n",
    "    for k in range(10):\n",
    "        adjusted_angle = (angle/2 + pi/2 - pi*k/5) - ((angle/2 + pi/2 - pi*k/5)//(2*pi)) * (2*pi)\n",
    "        if adjusted_angle >= 0 and adjusted_angle <= pi/5:\n",
    "            theta = adjusted_angle\n",
    "            break\n",
    "    \n",
    "    not_found, u, v = True, 0, 0\n",
    "\n",
    "    while not_found:\n",
    "        u0 = random_sample(theta, epsilon, r)\n",
    "        tau_t = Ztau(0,1)\n",
    "        phi_t = Ztau(1,1)\n",
    "        xi = phi_t**(2*m) - tau_t * Ztau.fromOmega(u0*u0.star())\n",
    "        factors = easy_factor(xi)\n",
    "        if easy_solveable(factors):\n",
    "            not_found = False\n",
    "            #print(\"found one!\")\n",
    "            #print(k)\n",
    "            v = Zomega(0,1,0,0)**k * Zomega.fromTau(Ztau(0,1))**m * u0\n",
    "            #print(\"norm solution: \" + str(solve_norm_equation(xi)))\n",
    "            u = Zomega.fromTau(Ztau(0,1))**m * solve_norm_equation(xi)\n",
    "    \n",
    "    # v = Zomega(-1,0,0,0) * v.star()\n",
    "    ex = Exact_U(u, v, 5)\n",
    "    print(ex.value())\n",
    "    #print(\"-----------------------\")\n",
    "    Circuit = exact_synthesize(ex)\n",
    "\n",
    "    return Circuit"
   ]
  },
  {
   "cell_type": "code",
   "execution_count": null,
   "metadata": {},
   "outputs": [],
   "source": [
    "# Testing compile_RX_rotation\n",
    "\n",
    "angle = pi/2\n",
    "print(np.matmul(Rz(angle),Pauli_X()))\n",
    "FT = compile_RX_rotation(angle, 0.0001)\n",
    "print(FT)\n",
    "print(FT.numerical_approximate())\n",
    "print(FT.toBraid())\n",
    "print(FT.toBraid().numerical_approximate())"
   ]
  },
  {
   "cell_type": "code",
   "execution_count": 26,
   "metadata": {},
   "outputs": [],
   "source": [
    "def decompose_unitary(U):\n",
    "    # decompose U into e^i*delta Rz(alpha)*F*Rz(beta)*F*Rz(gamma) or e^id Rz(a)*F*Rz(b)*F*Rz(c) X\n",
    "    X = False\n",
    "    a, b, c, d = U[0,0], U[0,1], U[1,0], U[1,1]\n",
    "    if abs(a) < 0.5:\n",
    "        X = True\n",
    "        a, b, c, d = U[0,1], U[0,0], U[1,1], U[1,0]\n",
    "    \n",
    "    delta = 0.5 * cmath.phase(a*d - b*c)\n",
    "\n",
    "    a, b, c, d = cmath.exp(-1j * delta)*a, cmath.exp(-1j * delta)*b, cmath.exp(-1j * delta)*c, cmath.exp(-1j * delta)*d, \n",
    "    \n",
    "    beta = acos(1 - abs(c)**2/(2*tau**3))\n",
    "    alpha = -(cmath.phase(a) - cmath.phase(cmath.exp(1j*beta) + tau)\n",
    "              - cmath.phase(c) + cmath.phase(1 - cmath.exp(1j*beta)))\n",
    "    gamma = -2*(cmath.phase(a) - cmath.phase(cmath.exp(1j*beta) + tau)) - alpha - beta\n",
    "    \n",
    "    return (alpha, beta, gamma, delta, X)\n"
   ]
  },
  {
   "cell_type": "code",
   "execution_count": 27,
   "metadata": {},
   "outputs": [],
   "source": [
    "def compile_unitary(U, epsilon):\n",
    "    # break U into rotations and then compile them individually\n",
    "    # has precision epsilon^(1/6)\n",
    "    (alpha, beta, gamma, delta, X) = decompose_unitary(U)\n",
    "    #print(cmath.exp(1j*delta)*np.matmul(Rz(alpha), np.matmul(F(), np.matmul(Rz(beta), np.matmul(F(), Rz(gamma))))))\n",
    "    A = compile_R_rotation(alpha, epsilon)\n",
    "    B = compile_R_rotation(beta, epsilon)\n",
    "    if X:\n",
    "        C = compile_RX_rotation(gamma, epsilon)\n",
    "    else:\n",
    "        C = compile_R_rotation(gamma, epsilon)\n",
    "\n",
    "\n",
    "    # debug block\n",
    "    A_num, B_num, C_num = A.numerical_approximate(), B.numerical_approximate(), C.numerical_approximate()\n",
    "    estimate = cmath.exp(delta*pi*1j) * np.matmul(A_num, np.matmul(F(), np.matmul(B_num, np.matmul(F(), C_num))))\n",
    "    print(abs(estimate[0]))\n",
    "\n",
    "    F_circ = FTCircuit()\n",
    "    F_circ.join(\"F\", 1)\n",
    "\n",
    "    A_braid, B_braid, C_braid, F_braid = A.toBraid(), B.toBraid(), C.toBraid(), F_circ.toBraid()\n",
    "\n",
    "    total_braid = A_braid + F_braid + B_braid + F_braid + C_braid\n",
    "    total_braid.addPhase(delta)\n",
    "\n",
    "    return total_braid"
   ]
  },
  {
   "cell_type": "code",
   "execution_count": 28,
   "metadata": {},
   "outputs": [
    {
     "data": {
      "text/plain": [
       "'\\nU = random_unitary(2)\\nprint(U)\\nprint(decompose_unitary(U))\\nbraid = compile_unitary(U, 0.0001)\\nprint(braid)\\nprint(braid.numerical_approximate())\\n'"
      ]
     },
     "execution_count": 28,
     "metadata": {},
     "output_type": "execute_result"
    }
   ],
   "source": [
    "'''\n",
    "U = random_unitary(2)\n",
    "print(U)\n",
    "print(decompose_unitary(U))\n",
    "braid = compile_unitary(U, 0.0001)\n",
    "print(braid)\n",
    "print(braid.numerical_approximate())\n",
    "'''"
   ]
  },
  {
   "cell_type": "code",
   "execution_count": 29,
   "metadata": {},
   "outputs": [],
   "source": [
    "def compile_R_weave(angle, epsilon):\n",
    "    epsilon = epsilon * epsilon\n",
    "    weave = False\n",
    "    while not weave:\n",
    "        C = sqrt(phi/4)\n",
    "        m = ceil(log(C*epsilon, tau)) + 1\n",
    "        theta = 0\n",
    "        for k in range(10):       \n",
    "            adjusted_angle = (-angle/2 - pi*k/5) - ((-angle/2 - pi*k/5)//(2*pi)) * (2*pi)\n",
    "            if adjusted_angle >= 0 and adjusted_angle <= pi/5:\n",
    "                theta = adjusted_angle\n",
    "                break\n",
    "        \n",
    "        not_found, u, v = True, 0, 0\n",
    "\n",
    "        while not_found:\n",
    "            u0 = random_sample(theta, epsilon, 1)\n",
    "            phi_t = Ztau(1, 1)\n",
    "            xi = phi_t*(phi_t**(2*m) - Ztau.fromOmega(u0*u0.star()))\n",
    "            factors = easy_factor(xi)\n",
    "            if easy_solveable(factors):\n",
    "                not_found = False\n",
    "                u = Zomega(0,1,0,0)**k * Zomega.fromTau(Ztau(0,1))**m * u0\n",
    "                v = Zomega.fromTau(Ztau(0,1))**m * solve_norm_equation(xi)\n",
    "        \n",
    "        #print(\"u, v = \" + str(u) + \", \" + str(v))\n",
    "        #print(\"distance = \" + str(sqrt(1 - 0.5 * abs((u.value()*cmath.exp(1j*angle/2) + (u.star().value()*cmath.exp(-1j*angle/2)))))))\n",
    "        \n",
    "        (Circuit, Remainder) = exact_synthesize_weave(Exact_U(u, v, 5))\n",
    "        # print(Circuit)\n",
    "        # print(Remainder)\n",
    "        if len(Remainder.circuit) == 0:\n",
    "            weave = True\n",
    "\n",
    "    return Circuit"
   ]
  },
  {
   "cell_type": "code",
   "execution_count": 30,
   "metadata": {},
   "outputs": [
    {
     "name": "stdout",
     "output_type": "stream",
     "text": [
      "[[-1.-1.2246468e-16j  0.+0.0000000e+00j]\n",
      " [ 0.+0.0000000e+00j -1.+1.2246468e-16j]]\n",
      "(0 + 0ω + 0ω² + -1ω³)(T^4)(F)(T^8)(F)(T^4)(F)(T^4)(F)(T^2)(F)(T^8)(F)(T^4)(F)(T^6)(F)(T^4)(F)(T^4)(F)(T^4)(F)(T^6)(F)(T^6)(F)(T^4)(F)(T^8)(F)(T^4)(F)(T^6)(F)(T^6)(F)(T^2)(F)(T^4)(F)(T^4)(F)(T^4)(F)(T^4)(F)(T^8)(F)(T^6)(F)(T^6)(F)(T^8)(F)(T^6)(F)(T^6)(F)(T^6)(F)(T^2)(F)(T^6)(F)(T^6)(F)(T^6)(F)(T^4)(F)(T^6)(F)(T^4)(F)(T^2)(F)(T^2)\n",
      "exp(1.2πi)111111222222112222222211222222221111111122222222111111222222221111111122222222111122222222111111112222112211221111112222222211111111221111221111111122222222112211222222221122221111112211222211\n",
      "[[-0.99990489-0.00016189j -0.01337823-0.00334877j]\n",
      " [ 0.01337823-0.00334877j -0.99990489+0.00016189j]]\n",
      "(0 + 0ω + 0ω² + 1ω³)(T^0)(F)(T^6)(F)(T^6)(F)(T^6)(F)(T^4)(F)(T^6)(F)(T^6)(F)(T^6)(F)(T^8)(F)(T^8)(F)(T^4)(F)(T^4)(F)(T^8)(F)(T^4)(F)(T^6)(F)(T^6)(F)(T^8)(F)(T^6)(F)(T^4)(F)(T^2)(F)(T^2)(F)(T^8)(F)(T^4)(F)(T^8)(F)(T^2)(F)(T^8)(F)(T^4)(F)(T^6)(F)(T^6)(F)(T^8)(F)(T^0)\n",
      "exp(0.2πi)22221111111122222222112222111111222211222211111122222211222222221111222222221111111122111122112222111122222222111111112222222211222222221111111122222222\n",
      "[[-0.99990489-0.00013794j  0.00658795-0.01211597j]\n",
      " [-0.00658795-0.01211597j -0.99990489+0.00013794j]]\n",
      "(0 + 0ω + 1ω² + 0ω³)(T^8)(F)(T^2)(F)(T^4)(F)(T^4)(F)(T^6)(F)(T^4)(F)(T^4)(F)(T^4)(F)(T^6)(F)(T^4)(F)(T^4)(F)(T^4)(F)(T^6)(F)(T^6)(F)(T^6)(F)(T^2)(F)(T^6)(F)(T^2)(F)(T^4)(F)(T^8)(F)(T^6)(F)(T^6)(F)(T^8)(F)(T^4)(F)(T^2)(F)(T^8)(F)(T^6)(F)(T^8)(F)(T^4)(F)(T^6)(F)(T^2)(F)(T^4)(F)(T^6)(F)(T^4)(F)(T^8)\n",
      "exp(0.8πi)111122111111112211111122222222112222111111112222111111221111222222221111111122221122222211111111222222111111112222222211111111221122111111112211221111111122112222221111\n",
      "[[-9.99904887e-01-9.07672134e-05j  2.84669660e-04-1.37887033e-02j]\n",
      " [-2.84669660e-04-1.37887033e-02j -9.99904887e-01+9.07672134e-05j]]\n",
      "(0 + 0ω + 0ω² + -1ω³)(T^0)(F)(T^8)(F)(T^4)(F)(T^6)(F)(T^6)(F)(T^6)(F)(T^6)(F)(T^2)(F)(T^4)(F)(T^6)(F)(T^2)(F)(T^6)(F)(T^6)(F)(T^6)(F)(T^8)(F)(T^6)(F)(T^6)(F)(T^6)(F)(T^2)(F)(T^4)(F)(T^4)(F)(T^2)(F)(T^4)(F)(T^8)(F)(T^6)(F)(T^8)(F)(T^4)(F)(T^2)(F)(T^8)(F)(T^6)(F)(T^8)(F)(T^8)(F)(T^6)(F)(T^4)(F)(T^6)\n",
      "exp(1.2πi)111111112211111111222211112222222211112222221122221111111122221122222211221111112222222211111111222222221111222222221111111122222222111111222222221122222211111111222222221111111122222222112222\n",
      "[[-0.99990489-6.54058448e-05j  0.00348784+1.33434744e-02j]\n",
      " [-0.00348784+1.33434744e-02j -0.99990489+6.54058449e-05j]]\n",
      "(0 + 0ω + -1ω² + 0ω³)(T^8)(F)(T^8)(F)(T^6)(F)(T^6)(F)(T^2)(F)(T^6)(F)(T^8)(F)(T^6)(F)(T^4)(F)(T^4)(F)(T^2)(F)(T^2)(F)(T^8)(F)(T^4)(F)(T^4)(F)(T^4)(F)(T^8)(F)(T^4)(F)(T^6)(F)(T^4)(F)(T^2)(F)(T^6)(F)(T^6)(F)(T^6)(F)(T^2)(F)(T^4)(F)(T^6)(F)(T^6)(F)(T^6)(F)(T^4)(F)(T^4)(F)(T^8)(F)(T^4)(F)(T^6)(F)(T^2)\n",
      "exp(1.8πi)1111112222222211222211221111111122222222111111112211111122222222111111112222222211111122111111112211112211221111222222111111221122222222111122222222111111222222221111111122221111\n",
      "[[-0.99990489-0.00011146j  0.00189386+0.01366081j]\n",
      " [-0.00189386+0.01366081j -0.99990489+0.00011146j]]\n",
      "(-1 + 1ω + -1ω² + 1ω³)(T^6)(F)(T^4)(F)(T^4)(F)(T^4)(F)(T^4)(F)(T^6)(F)(T^6)(F)(T^6)(F)(T^6)(F)(T^2)(F)(T^6)(F)(T^4)(F)(T^6)(F)(T^4)(F)(T^6)(F)(T^6)(F)(T^6)(F)(T^4)(F)(T^6)(F)(T^6)(F)(T^6)(F)(T^4)(F)(T^4)(F)(T^4)(F)(T^6)(F)(T^4)(F)(T^4)(F)(T^4)(F)(T^4)(F)(T^6)(F)(T^6)(F)(T^6)(F)(T^8)(F)(T^4)(F)(T^8)(F)(T^8)(F)(T^6)(F)(T^8)(F)(T^8)(F)(T^2)(F)(T^0)\n",
      "exp(1.6πi)22222211112222111111112222111122111122222222111111112222222211221122111111112211221111111122222222111111112211111111222222221111111122111111112211111111222222111111112222222211111111222222221122112211111111\n",
      "[[-0.99990489-0.00015428j  0.00499   -0.01285666j]\n",
      " [-0.00499   -0.01285666j -0.99990489+0.00015428j]]\n"
     ]
    },
    {
     "ename": "KeyboardInterrupt",
     "evalue": "",
     "output_type": "error",
     "traceback": [
      "\u001b[1;31m---------------------------------------------------------------------------\u001b[0m",
      "\u001b[1;31mKeyboardInterrupt\u001b[0m                         Traceback (most recent call last)",
      "Cell \u001b[1;32mIn[30], line 5\u001b[0m\n\u001b[0;32m      3\u001b[0m is_desired_phase \u001b[39m=\u001b[39m \u001b[39mFalse\u001b[39;00m\n\u001b[0;32m      4\u001b[0m \u001b[39mwhile\u001b[39;00m \u001b[39mnot\u001b[39;00m is_desired_phase:\n\u001b[1;32m----> 5\u001b[0m     FT \u001b[39m=\u001b[39m compile_R_weave(angle, \u001b[39m0.0001\u001b[39;49m)\n\u001b[0;32m      6\u001b[0m     \u001b[39mprint\u001b[39m(FT)\n\u001b[0;32m      7\u001b[0m     weave \u001b[39m=\u001b[39m FT\u001b[39m.\u001b[39mtoBraid()\n",
      "Cell \u001b[1;32mIn[29], line 29\u001b[0m, in \u001b[0;36mcompile_R_weave\u001b[1;34m(angle, epsilon)\u001b[0m\n\u001b[0;32m     23\u001b[0m         v \u001b[39m=\u001b[39m Zomega\u001b[39m.\u001b[39mfromTau(Ztau(\u001b[39m0\u001b[39m,\u001b[39m1\u001b[39m))\u001b[39m*\u001b[39m\u001b[39m*\u001b[39mm \u001b[39m*\u001b[39m solve_norm_equation(xi)\n\u001b[0;32m     25\u001b[0m \u001b[39m#print(\"u, v = \" + str(u) + \", \" + str(v))\u001b[39;00m\n\u001b[0;32m     26\u001b[0m \u001b[39m#print(\"distance = \" + str(sqrt(1 - 0.5 * abs((u.value()*cmath.exp(1j*angle/2) + (u.star().value()*cmath.exp(-1j*angle/2)))))))\u001b[39;00m\n\u001b[0;32m     27\u001b[0m \n\u001b[0;32m     28\u001b[0m \u001b[39m# TEMPORARY FIX! IN ORDER TO APPROXIMATE -I\u001b[39;00m\n\u001b[1;32m---> 29\u001b[0m (Circuit, Remainder) \u001b[39m=\u001b[39m exact_synthesize_weave(Exact_U(u, v, \u001b[39m5\u001b[39;49m))\n\u001b[0;32m     30\u001b[0m \u001b[39m# print(Circuit)\u001b[39;00m\n\u001b[0;32m     31\u001b[0m \u001b[39m# print(Remainder)\u001b[39;00m\n\u001b[0;32m     32\u001b[0m \u001b[39mif\u001b[39;00m \u001b[39mlen\u001b[39m(Remainder\u001b[39m.\u001b[39mcircuit) \u001b[39m==\u001b[39m \u001b[39m0\u001b[39m:\n",
      "File \u001b[1;32mc:\\Users\\Justi\\Code\\QCompile\\exact_synthesize.py:61\u001b[0m, in \u001b[0;36mexact_synthesize_weave\u001b[1;34m(U)\u001b[0m\n\u001b[0;32m     58\u001b[0m     \u001b[39mif\u001b[39;00m (F\u001b[39m*\u001b[39m(T\u001b[39m*\u001b[39m\u001b[39m*\u001b[39m(\u001b[39m2\u001b[39m\u001b[39m*\u001b[39mj))\u001b[39m*\u001b[39mV)\u001b[39m.\u001b[39mmu()\u001b[39m.\u001b[39mvalue() \u001b[39m<\u001b[39m (F\u001b[39m*\u001b[39m(T\u001b[39m*\u001b[39m\u001b[39m*\u001b[39m\u001b[39mmin\u001b[39m)\u001b[39m*\u001b[39mV)\u001b[39m.\u001b[39mmu()\u001b[39m.\u001b[39mvalue():\n\u001b[0;32m     59\u001b[0m         \u001b[39mmin\u001b[39m \u001b[39m=\u001b[39m \u001b[39m2\u001b[39m\u001b[39m*\u001b[39mj\n\u001b[1;32m---> 61\u001b[0m V \u001b[39m=\u001b[39m F\u001b[39m*\u001b[39;49m(T\u001b[39m*\u001b[39;49m\u001b[39m*\u001b[39;49m\u001b[39mmin\u001b[39;49m)\u001b[39m*\u001b[39mV\n\u001b[0;32m     62\u001b[0m g \u001b[39m=\u001b[39m V\u001b[39m.\u001b[39mmu()\n\u001b[0;32m     63\u001b[0m Circuit\u001b[39m.\u001b[39mjoin(\u001b[39m\"\u001b[39m\u001b[39mT\u001b[39m\u001b[39m\"\u001b[39m, \u001b[39m10\u001b[39m \u001b[39m-\u001b[39m \u001b[39mmin\u001b[39m)\n",
      "File \u001b[1;32mc:\\Users\\Justi\\Code\\QCompile\\Rings.py:221\u001b[0m, in \u001b[0;36mExact_U.__mul__\u001b[1;34m(self, A)\u001b[0m\n\u001b[0;32m    219\u001b[0m omega \u001b[39m=\u001b[39m Zomega(\u001b[39m0\u001b[39m,\u001b[39m1\u001b[39m,\u001b[39m0\u001b[39m,\u001b[39m0\u001b[39m)\n\u001b[0;32m    220\u001b[0m tau \u001b[39m=\u001b[39m Zomega(\u001b[39m0\u001b[39m,\u001b[39m0\u001b[39m,\u001b[39m1\u001b[39m,\u001b[39m-\u001b[39m\u001b[39m1\u001b[39m)\n\u001b[1;32m--> 221\u001b[0m \u001b[39mreturn\u001b[39;00m Exact_U(\u001b[39mself\u001b[39;49m\u001b[39m.\u001b[39;49mu\u001b[39m*\u001b[39;49mA\u001b[39m.\u001b[39;49mu \u001b[39m+\u001b[39m \u001b[39mself\u001b[39m\u001b[39m.\u001b[39mv\u001b[39m.\u001b[39mstar()\u001b[39m*\u001b[39mA\u001b[39m.\u001b[39mv\u001b[39m*\u001b[39mtau\u001b[39m*\u001b[39m(omega\u001b[39m*\u001b[39m\u001b[39m*\u001b[39m\u001b[39mself\u001b[39m\u001b[39m.\u001b[39mk), \n\u001b[0;32m    222\u001b[0m          \u001b[39mself\u001b[39m\u001b[39m.\u001b[39mv\u001b[39m*\u001b[39mA\u001b[39m.\u001b[39mu \u001b[39m-\u001b[39m \u001b[39mself\u001b[39m\u001b[39m.\u001b[39mu\u001b[39m.\u001b[39mstar()\u001b[39m*\u001b[39mA\u001b[39m.\u001b[39mv\u001b[39m*\u001b[39m(omega\u001b[39m*\u001b[39m\u001b[39m*\u001b[39m\u001b[39mself\u001b[39m\u001b[39m.\u001b[39mk), \n\u001b[0;32m    223\u001b[0m          (\u001b[39mself\u001b[39m\u001b[39m.\u001b[39mk \u001b[39m+\u001b[39m A\u001b[39m.\u001b[39mk \u001b[39m+\u001b[39m \u001b[39m5\u001b[39m)\u001b[39m%\u001b[39m\u001b[39m10\u001b[39m)\n",
      "File \u001b[1;32mc:\\Users\\Justi\\Code\\QCompile\\Rings.py:35\u001b[0m, in \u001b[0;36mZomega.__mul__\u001b[1;34m(self, s)\u001b[0m\n\u001b[0;32m     33\u001b[0m \u001b[39mdef\u001b[39;00m \u001b[39m__mul__\u001b[39m(\u001b[39mself\u001b[39m, s):\n\u001b[0;32m     34\u001b[0m     output \u001b[39m=\u001b[39m \u001b[39mself\u001b[39m\u001b[39m.\u001b[39mmult_matrix(\u001b[39mself\u001b[39m\u001b[39m.\u001b[39ma, \u001b[39mself\u001b[39m\u001b[39m.\u001b[39mb, \u001b[39mself\u001b[39m\u001b[39m.\u001b[39mc, \u001b[39mself\u001b[39m\u001b[39m.\u001b[39md) \u001b[39m*\u001b[39m Matrix([s\u001b[39m.\u001b[39ma, s\u001b[39m.\u001b[39mb, s\u001b[39m.\u001b[39mc, s\u001b[39m.\u001b[39md])\n\u001b[1;32m---> 35\u001b[0m     \u001b[39mreturn\u001b[39;00m Zomega(output[\u001b[39m0\u001b[39;49m],output[\u001b[39m1\u001b[39m],output[\u001b[39m2\u001b[39m],output[\u001b[39m3\u001b[39m])\n",
      "File \u001b[1;32mc:\\Python310\\lib\\site-packages\\sympy\\matrices\\repmatrix.py:233\u001b[0m, in \u001b[0;36mRepMatrix.__getitem__\u001b[1;34m(self, key)\u001b[0m\n\u001b[0;32m    232\u001b[0m \u001b[39mdef\u001b[39;00m \u001b[39m__getitem__\u001b[39m(\u001b[39mself\u001b[39m, key):\n\u001b[1;32m--> 233\u001b[0m     \u001b[39mreturn\u001b[39;00m _getitem_RepMatrix(\u001b[39mself\u001b[39;49m, key)\n",
      "File \u001b[1;32mc:\\Python310\\lib\\site-packages\\sympy\\matrices\\repmatrix.py:754\u001b[0m, in \u001b[0;36m_getitem_RepMatrix\u001b[1;34m(self, key)\u001b[0m\n\u001b[0;32m    752\u001b[0m \u001b[39mif\u001b[39;00m domain \u001b[39m!=\u001b[39m EXRAW:\n\u001b[0;32m    753\u001b[0m     to_sympy \u001b[39m=\u001b[39m domain\u001b[39m.\u001b[39mto_sympy\n\u001b[1;32m--> 754\u001b[0m     values \u001b[39m=\u001b[39m [to_sympy(val) \u001b[39mfor\u001b[39;00m val \u001b[39min\u001b[39;00m values]\n\u001b[0;32m    756\u001b[0m \u001b[39mif\u001b[39;00m is_slice:\n\u001b[0;32m    757\u001b[0m     \u001b[39mreturn\u001b[39;00m values\n",
      "File \u001b[1;32mc:\\Python310\\lib\\site-packages\\sympy\\matrices\\repmatrix.py:754\u001b[0m, in \u001b[0;36m<listcomp>\u001b[1;34m(.0)\u001b[0m\n\u001b[0;32m    752\u001b[0m \u001b[39mif\u001b[39;00m domain \u001b[39m!=\u001b[39m EXRAW:\n\u001b[0;32m    753\u001b[0m     to_sympy \u001b[39m=\u001b[39m domain\u001b[39m.\u001b[39mto_sympy\n\u001b[1;32m--> 754\u001b[0m     values \u001b[39m=\u001b[39m [to_sympy(val) \u001b[39mfor\u001b[39;00m val \u001b[39min\u001b[39;00m values]\n\u001b[0;32m    756\u001b[0m \u001b[39mif\u001b[39;00m is_slice:\n\u001b[0;32m    757\u001b[0m     \u001b[39mreturn\u001b[39;00m values\n",
      "File \u001b[1;32mc:\\Python310\\lib\\site-packages\\sympy\\polys\\domains\\integerring.py:55\u001b[0m, in \u001b[0;36mIntegerRing.to_sympy\u001b[1;34m(self, a)\u001b[0m\n\u001b[0;32m     53\u001b[0m \u001b[39mdef\u001b[39;00m \u001b[39mto_sympy\u001b[39m(\u001b[39mself\u001b[39m, a):\n\u001b[0;32m     54\u001b[0m     \u001b[39m\"\"\"Convert ``a`` to a SymPy object. \"\"\"\u001b[39;00m\n\u001b[1;32m---> 55\u001b[0m     \u001b[39mreturn\u001b[39;00m SymPyInteger(\u001b[39mint\u001b[39;49m(a))\n",
      "\u001b[1;31mKeyboardInterrupt\u001b[0m: "
     ]
    }
   ],
   "source": [
    "angle = 2*pi\n",
    "print(Rz(angle))\n",
    "is_desired_phase = False\n",
    "while not is_desired_phase:\n",
    "    FT = compile_R_weave(angle, 0.0001)\n",
    "    print(FT)\n",
    "    weave = FT.toBraid()\n",
    "    print(weave)\n",
    "    print(weave.numerical_approximate())\n",
    "    if weave.phase == 0:\n",
    "        is_desired_phase = True"
   ]
  }
 ],
 "metadata": {
  "kernelspec": {
   "display_name": "Python 3",
   "language": "python",
   "name": "python3"
  },
  "language_info": {
   "codemirror_mode": {
    "name": "ipython",
    "version": 3
   },
   "file_extension": ".py",
   "mimetype": "text/x-python",
   "name": "python",
   "nbconvert_exporter": "python",
   "pygments_lexer": "ipython3",
   "version": "3.10.5"
  },
  "orig_nbformat": 4
 },
 "nbformat": 4,
 "nbformat_minor": 2
}
