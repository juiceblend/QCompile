{
 "cells": [
  {
   "cell_type": "code",
   "execution_count": 1,
   "metadata": {},
   "outputs": [],
   "source": [
    "from Rings import Zomega, Ztau, Exact_U\n",
    "from norm_equation import easy_factor, easy_solveable, solve_norm_equation\n",
    "from exact_synthesize import exact_synthesize, exact_synthesize_weave\n",
    "from Circuits import FTCircuit, Braid\n",
    "from math import sqrt, ceil, pi, log, sin, cos, tan, acos\n",
    "import cmath\n",
    "import random\n",
    "import numpy as np\n",
    "from toqito.random import random_unitary"
   ]
  },
  {
   "attachments": {},
   "cell_type": "markdown",
   "metadata": {},
   "source": [
    "`approx_real` approximates a real number x to precision \\(\\tau^{n-1}(1 - \\tau^n)\\)"
   ]
  },
  {
   "cell_type": "code",
   "execution_count": 2,
   "metadata": {},
   "outputs": [],
   "source": [
    "FibArray = [1, 1]\n",
    " \n",
    "def Fib(n):\n",
    "    if n<0:\n",
    "        print(\"Incorrect input\")\n",
    "    elif n<= len(FibArray):\n",
    "        return FibArray[n-1]\n",
    "    else:\n",
    "        temp_fib = Fib(n-1)+Fib(n-2)\n",
    "        FibArray.append(temp_fib)\n",
    "        return temp_fib    "
   ]
  },
  {
   "cell_type": "code",
   "execution_count": 3,
   "metadata": {},
   "outputs": [],
   "source": [
    "def approx_real(x,n):\n",
    "    p, q = Fib(n), Fib(n+1)\n",
    "    u, v = (-1)**(n+1)*Fib(n), (-1)**n * Fib(n-1)\n",
    "    c = round(x*q)\n",
    "    a = c*v + p * round(c*u/q)\n",
    "    b = c*u - q * round(c*u/q)\n",
    "\n",
    "    return Ztau(a, b)"
   ]
  },
  {
   "cell_type": "code",
   "execution_count": 4,
   "metadata": {},
   "outputs": [
    {
     "name": "stdout",
     "output_type": "stream",
     "text": [
      "(-317 + 518τ)\n"
     ]
    }
   ],
   "source": [
    "print(approx_real(pi, 20))"
   ]
  },
  {
   "attachments": {},
   "cell_type": "markdown",
   "metadata": {},
   "source": [
    "`random_sample` generates an element of Z[omega] approximating exp(-i theta/2) to within precision epsilon"
   ]
  },
  {
   "cell_type": "code",
   "execution_count": 5,
   "metadata": {},
   "outputs": [],
   "source": [
    "phi = 0.5 * (sqrt(5) + 1)\n",
    "tau = 0.5 * (sqrt(5) - 1)"
   ]
  },
  {
   "cell_type": "code",
   "execution_count": 6,
   "metadata": {},
   "outputs": [],
   "source": [
    "def random_sample(theta, epsilon, r):\n",
    "    C = sqrt(phi/(4*r))\n",
    "    m = ceil(log(C*epsilon*r, tau)) + 1\n",
    "    N = ceil(phi**m)\n",
    "\n",
    "    y_min = r*phi**m *(sin(theta) - epsilon*(sqrt(4-epsilon**2)*cos(theta) + epsilon*sin(theta))/2)\n",
    "    y_max = r*phi**m *(sin(theta) + epsilon*(sqrt(4-epsilon**2)*cos(theta) - epsilon*sin(theta))/2)\n",
    "    x_max = r*phi**m *((1 - epsilon**2/2)*cos(theta) - epsilon*sqrt(1 - epsilon**2/4)*sin(theta))\n",
    "    x_c = x_max - r*epsilon**2*phi**m/(4*cos(theta))\n",
    "\n",
    "    j = random.randint(1, N-1)\n",
    "    y = y_min + j*(y_max - y_min)/N\n",
    "    a_y = approx_real(y/sqrt(2-tau), m)\n",
    "    x = x_c - (a_y.value()*sqrt(2-tau) - y_min)*tan(theta)\n",
    "    a_x = approx_real(x,m)\n",
    "\n",
    "    return Zomega.fromTau(a_x) + Zomega(-1,2,-1,1)*Zomega.fromTau(a_y)\n"
   ]
  },
  {
   "cell_type": "code",
   "execution_count": 7,
   "metadata": {},
   "outputs": [
    {
     "name": "stdout",
     "output_type": "stream",
     "text": [
      "427.124611797498 + 433.800981547744*I\n"
     ]
    }
   ],
   "source": [
    "print(random_sample(pi/4, 1/100, 5).value())"
   ]
  },
  {
   "cell_type": "code",
   "execution_count": 8,
   "metadata": {},
   "outputs": [],
   "source": [
    "def compile_R_rotation(angle, epsilon):\n",
    "    C = sqrt(phi/4)\n",
    "    m = ceil(log(C*epsilon, tau)) + 1\n",
    "    theta = 0\n",
    "    for k in range(10):       \n",
    "        adjusted_angle = (-angle/2 - pi*k/5) - ((-angle/2 - pi*k/5)//(2*pi)) * (2*pi)\n",
    "        if adjusted_angle >= 0 and adjusted_angle <= pi/5:\n",
    "            theta = adjusted_angle\n",
    "            break\n",
    "    \n",
    "    not_found, u, v = True, 0, 0\n",
    "\n",
    "    while not_found:\n",
    "        u0 = random_sample(theta, epsilon, 1)\n",
    "        phi_t = Ztau(1, 1)\n",
    "        xi = phi_t*(phi_t**(2*m) - Ztau.fromOmega(u0*u0.star()))\n",
    "        factors = easy_factor(xi)\n",
    "        if easy_solveable(factors):\n",
    "            not_found = False\n",
    "            #print(\"found one!\")\n",
    "            #print(\"u0 angle: \" + str(cmath.phase(u0.value())))\n",
    "            u = Zomega(0,1,0,0)**k * Zomega.fromTau(Ztau(0,1))**m * u0\n",
    "            #print(\"norm solution: \" + str(solve_norm_equation(xi)))\n",
    "            v = Zomega.fromTau(Ztau(0,1))**m * solve_norm_equation(xi)\n",
    "    \n",
    "    print(\"u, v = \" + str(u) + \", \" + str(v))\n",
    "    #print(\"u,v value: \" + str(u.value()) + \", \" + str(v.value()))\n",
    "    #print(\"u angle: \" + str(cmath.phase(u.value())))\n",
    "    print(\"distance = \" + str(sqrt(1 - 0.5 * abs((u.value()*cmath.exp(1j*angle/2) + (u.star().value()*cmath.exp(-1j*angle/2)))))))\n",
    "    #print(\"-----------------------\")\n",
    "    #print(Exact_U(u,v,0).value())\n",
    "    Circuit = exact_synthesize(Exact_U(u, v, 0))\n",
    "\n",
    "    return Circuit"
   ]
  },
  {
   "cell_type": "code",
   "execution_count": 9,
   "metadata": {},
   "outputs": [],
   "source": [
    "def compile_RX_rotation(angle, epsilon):\n",
    "    r = sqrt(phi)\n",
    "    C = sqrt(phi/(4*r))\n",
    "    m = ceil(log(C*epsilon*r, tau)) + 1\n",
    "    theta = 0\n",
    "    for k in range(10):\n",
    "        adjusted_angle = (angle/2 + pi/2 - pi*k/5) - ((angle/2 + pi/2 - pi*k/5)//(2*pi)) * (2*pi)\n",
    "        if adjusted_angle >= 0 and adjusted_angle <= pi/5:\n",
    "            theta = adjusted_angle\n",
    "            break\n",
    "    \n",
    "    not_found, u, v = True, 0, 0\n",
    "\n",
    "    while not_found:\n",
    "        u0 = random_sample(theta, epsilon, r)\n",
    "        tau_t = Ztau(0,1)\n",
    "        phi_t = Ztau(1,1)\n",
    "        xi = phi_t**(2*m) - tau_t * Ztau.fromOmega(u0*u0.star())\n",
    "        factors = easy_factor(xi)\n",
    "        if easy_solveable(factors):\n",
    "            not_found = False\n",
    "            #print(\"found one!\")\n",
    "            #print(k)\n",
    "            v = Zomega(0,1,0,0)**k * Zomega.fromTau(Ztau(0,1))**m * u0\n",
    "            #print(\"norm solution: \" + str(solve_norm_equation(xi)))\n",
    "            u = Zomega.fromTau(Ztau(0,1))**m * solve_norm_equation(xi)\n",
    "    \n",
    "    v = Zomega(-1,0,0,0) * v.star()\n",
    "    ex = Exact_U(u, v, 0)\n",
    "    print(ex.value())\n",
    "    #print(\"-----------------------\")\n",
    "    Circuit = exact_synthesize(ex)\n",
    "\n",
    "    return Circuit"
   ]
  },
  {
   "cell_type": "code",
   "execution_count": 10,
   "metadata": {},
   "outputs": [],
   "source": [
    "def Rz(angle):\n",
    "    return np.array([\n",
    "        [cmath.exp(-0.5j*angle), 0],\n",
    "        [0, cmath.exp(0.5j*angle)]\n",
    "    ])\n",
    "\n",
    "def Pauli_X():\n",
    "    return np.array([\n",
    "        [0, 1],\n",
    "        [1, 0]\n",
    "    ])\n",
    "\n",
    "def F():\n",
    "    return np.array([\n",
    "        [tau, sqrt(tau)],\n",
    "        [sqrt(tau), -1*tau]\n",
    "    ])"
   ]
  },
  {
   "cell_type": "code",
   "execution_count": 11,
   "metadata": {},
   "outputs": [
    {
     "data": {
      "text/plain": [
       "'\\nangle = pi/2\\nprint(np.matmul(Rz(angle),Pauli_X()))\\nFT = compile_RX_rotation(angle, 0.0001)\\nprint(FT)\\n#print(FT.numerical_approximate())\\n#print(FT.toBraid())\\n#print(FT.toBraid().numerical_approximate())\\n\\nangle = 6*pi/7\\nprint(Rz(angle))\\nFT = compile_R_rotation(angle, 0.0001)\\nprint(FT.numerical_approximate())\\nprint(FT.toBraid())\\nprint(FT.toBraid().numerical_approximate())\\n'"
      ]
     },
     "execution_count": 11,
     "metadata": {},
     "output_type": "execute_result"
    }
   ],
   "source": [
    "# I think this algorithm gives a distance of sqrt(epsilon)\n",
    "\n",
    "'''\n",
    "angle = pi/2\n",
    "print(np.matmul(Rz(angle),Pauli_X()))\n",
    "FT = compile_RX_rotation(angle, 0.0001)\n",
    "print(FT)\n",
    "#print(FT.numerical_approximate())\n",
    "#print(FT.toBraid())\n",
    "#print(FT.toBraid().numerical_approximate())\n",
    "\n",
    "angle = 6*pi/7\n",
    "print(Rz(angle))\n",
    "FT = compile_R_rotation(angle, 0.0001)\n",
    "print(FT.numerical_approximate())\n",
    "print(FT.toBraid())\n",
    "print(FT.toBraid().numerical_approximate())\n",
    "'''"
   ]
  },
  {
   "cell_type": "code",
   "execution_count": 12,
   "metadata": {},
   "outputs": [
    {
     "name": "stdout",
     "output_type": "stream",
     "text": [
      "[[-0.5       +3.63271264e-01j -0.24293414-7.47674391e-01j]\n",
      " [-0.24293414-7.47674391e-01j -0.61803399+1.54317926e-16j]]\n"
     ]
    }
   ],
   "source": [
    "print(Braid.evaluate_braid(\"2\"))"
   ]
  },
  {
   "cell_type": "code",
   "execution_count": 13,
   "metadata": {},
   "outputs": [],
   "source": [
    "def decompose_unitary(U):\n",
    "    # decompose U into e^i*delta Rz(alpha)*F*Rz(beta)*F*Rz(gamma) or e^id Rz(a)*F*Rz(b)*F*Rz(c) X\n",
    "    X = False\n",
    "    a, b, c, d = U[0,0], U[0,1], U[1,0], U[1,1]\n",
    "    if abs(a) < 0.5:\n",
    "        X = True\n",
    "        a, b, c, d = U[0,1], U[0,0], U[1,1], U[1,0]\n",
    "    \n",
    "    delta = 0.5 * cmath.phase(a*d - b*c)\n",
    "\n",
    "    a, b, c, d = cmath.exp(-1j * delta)*a, cmath.exp(-1j * delta)*b, cmath.exp(-1j * delta)*c, cmath.exp(-1j * delta)*d, \n",
    "    \n",
    "    beta = acos(1 - abs(c)**2/(2*tau**3))\n",
    "    alpha = -(cmath.phase(a) - cmath.phase(cmath.exp(1j*beta) + tau)\n",
    "              - cmath.phase(c) + cmath.phase(1 - cmath.exp(1j*beta)))\n",
    "    gamma = -2*(cmath.phase(a) - cmath.phase(cmath.exp(1j*beta) + tau)) - alpha - beta\n",
    "    \n",
    "    return (alpha, beta, gamma, delta, X)\n"
   ]
  },
  {
   "cell_type": "code",
   "execution_count": 14,
   "metadata": {},
   "outputs": [],
   "source": [
    "def compile_unitary(U, epsilon):\n",
    "    # break U into rotations and then compile them individually\n",
    "    # has precision epsilon^(1/6)\n",
    "    (alpha, beta, gamma, delta, X) = decompose_unitary(U)\n",
    "    #print(cmath.exp(1j*delta)*np.matmul(Rz(alpha), np.matmul(F(), np.matmul(Rz(beta), np.matmul(F(), Rz(gamma))))))\n",
    "    A = compile_R_rotation(alpha, epsilon)\n",
    "    B = compile_R_rotation(beta, epsilon)\n",
    "    if X:\n",
    "        C = compile_RX_rotation(gamma, epsilon)\n",
    "    else:\n",
    "        C = compile_R_rotation(gamma, epsilon)\n",
    "\n",
    "\n",
    "    # debug block\n",
    "    A_num, B_num, C_num = A.numerical_approximate(), B.numerical_approximate(), C.numerical_approximate()\n",
    "    estimate = cmath.exp(delta*pi*1j) * np.matmul(A_num, np.matmul(F(), np.matmul(B_num, np.matmul(F(), C_num))))\n",
    "    print(abs(estimate[0]))\n",
    "\n",
    "    F_circ = FTCircuit()\n",
    "    F_circ.join(\"F\", 1)\n",
    "\n",
    "    A_braid, B_braid, C_braid, F_braid = A.toBraid(), B.toBraid(), C.toBraid(), F_circ.toBraid()\n",
    "\n",
    "    total_braid = A_braid + F_braid + B_braid + F_braid + C_braid\n",
    "    total_braid.addPhase(delta)\n",
    "\n",
    "    return total_braid"
   ]
  },
  {
   "cell_type": "code",
   "execution_count": 15,
   "metadata": {},
   "outputs": [
    {
     "data": {
      "text/plain": [
       "'\\nU = random_unitary(2)\\nprint(U)\\nprint(decompose_unitary(U))\\nbraid = compile_unitary(U, 0.0001)\\nprint(braid)\\nprint(braid.numerical_approximate())\\n'"
      ]
     },
     "execution_count": 15,
     "metadata": {},
     "output_type": "execute_result"
    }
   ],
   "source": [
    "'''\n",
    "U = random_unitary(2)\n",
    "print(U)\n",
    "print(decompose_unitary(U))\n",
    "braid = compile_unitary(U, 0.0001)\n",
    "print(braid)\n",
    "print(braid.numerical_approximate())\n",
    "'''"
   ]
  },
  {
   "cell_type": "code",
   "execution_count": 16,
   "metadata": {},
   "outputs": [],
   "source": [
    "def compile_R_weave(angle, epsilon):\n",
    "    weave = False\n",
    "    while not weave:\n",
    "        C = sqrt(phi/4)\n",
    "        m = ceil(log(C*epsilon, tau)) + 1\n",
    "        theta = 0\n",
    "        for k in range(10):       \n",
    "            adjusted_angle = (-angle/2 - pi*k/5) - ((-angle/2 - pi*k/5)//(2*pi)) * (2*pi)\n",
    "            if adjusted_angle >= 0 and adjusted_angle <= pi/5:\n",
    "                theta = adjusted_angle\n",
    "                break\n",
    "        \n",
    "        not_found, u, v = True, 0, 0\n",
    "\n",
    "        while not_found:\n",
    "            u0 = random_sample(theta, epsilon, 1)\n",
    "            phi_t = Ztau(1, 1)\n",
    "            xi = phi_t*(phi_t**(2*m) - Ztau.fromOmega(u0*u0.star()))\n",
    "            factors = easy_factor(xi)\n",
    "            if easy_solveable(factors):\n",
    "                not_found = False\n",
    "                u = Zomega(0,1,0,0)**k * Zomega.fromTau(Ztau(0,1))**m * u0\n",
    "                v = Zomega.fromTau(Ztau(0,1))**m * solve_norm_equation(xi)\n",
    "        \n",
    "        print(\"u, v = \" + str(u) + \", \" + str(v))\n",
    "        print(\"distance = \" + str(sqrt(1 - 0.5 * abs((u.value()*cmath.exp(1j*angle/2) + (u.star().value()*cmath.exp(-1j*angle/2)))))))\n",
    "        (Circuit, Remainder) = exact_synthesize_weave(Exact_U(u, v, 0))\n",
    "        print(Remainder)\n",
    "        if len(Remainder.circuit) == 0:\n",
    "            weave = True\n",
    "\n",
    "    return Circuit"
   ]
  },
  {
   "cell_type": "code",
   "execution_count": 18,
   "metadata": {},
   "outputs": [
    {
     "name": "stdout",
     "output_type": "stream",
     "text": [
      "[[0.70710678-0.70710678j 0.        +0.j        ]\n",
      " [0.        +0.j         0.70710678+0.70710678j]]\n",
      "u, v = (2249115 + 6336893ω + -13892452ω² + 9976036ω³), (-703335 + 8378303ω + -12418359ω² + 7240283ω³)\n",
      "distance = 0.02845691259788213\n",
      "(-1 + 0ω + 0ω² + 0ω³)(T)(F)(T^2)\n",
      "u, v = (-2385101 + 14079595ω + -18922088ω² + 10220419ω³), (4305637 + -13421820ω + 14750294ω² + -6455153ω³)\n",
      "distance = 0.028456610306363157\n",
      "(-1 + 1ω + -1ω² + 1ω³)(T^9)(F)(T^5)\n",
      "u, v = (6172917 + -10065679ω + 6298622ω² + -77691ω³), (2805027 + 404960ω + -5193868ω² + 4943589ω³)\n",
      "distance = 0.02845614289624493\n",
      "(0 + 0ω + -1ω² + 0ω³)(T^9)(F)(T^8)\n",
      "u, v = (4491503 + -4490573ω + -1504ω² + 2776830ω³), (1220844 + 1736775ω + -4785528ω² + 3712142ω³)\n",
      "distance = 0.028456279806939676\n",
      "(-1 + 1ω + -1ω² + 1ω³)(T^2)(F)(T)\n",
      "u, v = (5220471 + -3426083ω + -2903380ω² + 5020815ω³), (-4310148 + 8010205ω + -5986818ω² + 1036239ω³)\n",
      "distance = 0.028455707751814805\n",
      "(-1 + 0ω + 0ω² + 0ω³)(T)(F)(T^8)\n",
      "u, v = (-324614 + 13747644ω + -21718918ω² + 13222406ω³), (-9413230 + 17763515ω + -13511045ω² + 2532589ω³)\n",
      "distance = 0.02845580755492601\n",
      "(0 + 0ω + 0ω² + 1ω³)(T^7)(F)(T^9)\n",
      "u, v = (5867039 + -8164591ω + 3717518ω² + 1328476ω³), (4313046 + -4045331ω + -433172ω² + 2933324ω³)\n",
      "distance = 0.02845644686511295\n",
      "(0 + 0ω + 1ω² + 0ω³)(T^6)(F)(T^4)\n",
      "u, v = (4390405 + -4834457ω + 718492ω² + 2269366ω³), (-3385935 + 3472864ω + -140654ω² + -2005694ω³)\n",
      "distance = 0.02845700588815808\n",
      "(0 + 1ω + 0ω² + 0ω³)(T^4)(F)(T^9)\n",
      "u, v = (-2473279 + 12141865ω + -15644100ω² + 8140014ω³), (3025353 + 2683752ω + -9237526ω² + 7578876ω³)\n",
      "distance = 0.028456798334957956\n",
      "(0 + -1ω + 0ω² + 0ω³)(T)(F)(T^9)\n",
      "u, v = (2838979 + 8926359ω + -19036716ω² + 13519922ω³), (10325306 + -10897166ω + 925289ω² + 5809530ω³)\n",
      "distance = 0.02845640925903125\n",
      "(-1 + 1ω + -1ω² + 1ω³)(T^2)(F)(T^4)\n",
      "u, v = (5819074 + -9090964ω + 5294030ω² + 324494ω³), (-2500754 + -549410ω + 4935269ω² + -4595715ω³)\n",
      "distance = 0.02845703960636945\n",
      "(-1 + 0ω + 0ω² + 0ω³)(T^7)(F)(T^6)\n",
      "u, v = (905053 + 7870841ω + -14199694ω² + 9335246ω³), (831545 + 6018766ω + -11084036ω² + 7364234ω³)\n",
      "distance = 0.028456562575831006\n",
      "(-1 + 1ω + -1ω² + 1ω³)(T)(F)(T^9)\n",
      "u, v = (5463257 + -7539915ω + 3360104ω² + 1299819ω³), (1294725 + -5601488ω + 6968489ω² + -3506579ω³)\n",
      "distance = 0.028456782424894595\n",
      "(0 + 0ω + 0ω² + -1ω³)(T^0)(F)(T^2)\n",
      "u, v = (718971 + 4656699ω + -8698016ω² + 5820017ω³), (1484229 + 2259858ω + -6058060ω² + 4661391ω³)\n",
      "distance = 0.028456749158368135\n",
      "(0 + 0ω + 0ω² + 1ω³)(T)(F)(T^6)\n",
      "u, v = (2226236 + -1913650ω + -505774ω² + 1688474ω³), (1860896 + -1928999ω + 110193ω² + 1081994ω³)\n",
      "distance = 0.02845669708894786\n",
      "(-1 + 0ω + 0ω² + 0ω³)(T^2)(F)(T^6)\n",
      "u, v = (5079160 + -4781324ω + -481908ω² + 3436928ω³), (1150000 + -5427153ω + 6920579ω² + -3566414ω³)\n",
      "distance = 0.028456023070600987\n",
      "(0 + 0ω + -1ω² + 0ω³)(T^3)(F)(T^9)\n",
      "u, v = (8150627 + -3338515ω + -7786160ω² + 9849475ω³), (-7030251 + 4138562ω + 4678851ω² + -7236623ω³)\n",
      "distance = 0.028456553897542057\n",
      "(1 + 0ω + 0ω² + 0ω³)(T^0)(F)(T^6)\n",
      "u, v = (554404 + 7913028ω + -13700592ω² + 8810071ω³), (6371656 + -11434672ω + 8192132ω² + -1125116ω³)\n",
      "distance = 0.028456754943854044\n",
      "(0 + 1ω + 0ω² + 0ω³)(T^2)(F)(T^9)\n",
      "u, v = (-202234 + 5699674ω + -8895044ω² + 5372451ω³), (4464366 + -5342554ω + 1420938ω² + 1880942ω³)\n",
      "distance = 0.028457537419934835\n",
      "(1 + 0ω + 0ω² + 0ω³)(T^2)(F)(T^4)\n",
      "u, v = (7833193 + -5112665ω + -4401906ω² + 7561706ω³), (5613196 + -12052740ω + 10419401ω² + -2970398ω³)\n",
      "distance = 0.028455813340605315\n",
      "(0 + -1ω + 0ω² + 0ω³)(T^3)(F)(T^4)\n",
      "u, v = (6154596 + 986252ω + -11554134ω² + 10944596ω³), (3598176 + -12456145ω + 14332495ω² + -6634174ω³)\n",
      "distance = 0.028456400580695547\n",
      "(0 + 1ω + 0ω² + 0ω³)(T^3)(F)(T^4)\n",
      "u, v = (2154405 + 4127953ω + -10165068ω² + 7613852ω³), (-1337899 + 7302181ω + -9650411ω² + 5137415ω³)\n",
      "distance = 0.028456235691845508\n",
      "(-1 + 1ω + -1ω² + 1ω³)(T)(F)(T^5)\n",
      "u, v = (4693699 + 3246351ω + -12847270ω² + 10840914ω³), (-7632284 + 13749158ω + -9897310ω² + 1399863ω³)\n",
      "distance = 0.02845685763602786\n",
      "(-1 + 0ω + 0ω² + 0ω³)(T)(F)(T^4)\n",
      "u, v = (3157777 + 5431425ω + -13897620ω² + 10540814ω³), (-2535354 + -4184752ω + 10873360ω² + -8287041ω³)\n",
      "distance = 0.028455550091111434\n",
      "(0 + 1ω + 0ω² + 0ω³)(T^0)(F)(T^4)\n",
      "u, v = (-2385101 + 14079595ω + -18922088ω² + 10220419ω³), (4305637 + -13421820ω + 14750294ω² + -6455153ω³)\n",
      "distance = 0.028456610306363157\n",
      "(-1 + 1ω + -1ω² + 1ω³)(T^9)(F)(T^5)\n",
      "u, v = (5819074 + -9090964ω + 5294030ω² + 324494ω³), (-2500754 + -549410ω + 4935269ω² + -4595715ω³)\n",
      "distance = 0.02845703960636945\n",
      "(-1 + 0ω + 0ω² + 0ω³)(T^7)(F)(T^6)\n",
      "u, v = (1573890 + -4715648ω + 5083472ω² + -2169042ω³), (2499539 + -3574449ω + 1739241ω² + 469890ω³)\n",
      "distance = 0.028456052631556712\n",
      "(0 + 0ω + 1ω² + 0ω³)(T^0)(F)(T^5)\n",
      "u, v = (7819663 + -12568187ω + 7683274ω² + 84292ω³), (-6416914 + 8946537ω + -4093016ω² + -1436248ω³)\n",
      "distance = 0.028456901569362196\n",
      "(0 + 0ω + 1ω² + 0ω³)(T^8)(F)(T^4)\n",
      "u, v = (4160162 + -858132ω + -5342796ω² + 5873150ω³), (2041006 + 1677322ω + -6016381ω² + 4979739ω³)\n",
      "distance = 0.02845653220181396\n",
      "(-1 + 0ω + 0ω² + 0ω³)(T^8)(F)(T^6)\n",
      "u, v = (283948 + 10877996ω + -18060404ω² + 11337432ω³), (-8392692 + 14800563ω + -10368153ω² + 1220902ω³)\n",
      "distance = 0.0284558654116427\n",
      "(1 + 0ω + 0ω² + 0ω³)(T^7)(F)(T^2)\n",
      "u, v = (4548817 + 8636595ω + -21334444ω² + 15996734ω³), (-10609305 + 7458373ω + 5098315ω² + -9707843ω³)\n",
      "distance = 0.028455781519366292\n",
      "(1 + -1ω + 1ω² + -1ω³)(T^7)(F)(T^4)\n",
      "u, v = (8224055 + -4143495ω + -6602484ω² + 9163304ω³), (-8128697 + 12908617ω + -7734073ω² + -243891ω³)\n",
      "distance = 0.028456027409824784\n",
      "(-1 + 1ω + -1ω² + 1ω³)(T^4)(F)(T^9)\n",
      "u, v = (2280356 + -6308884ω + 6518296ω² + -2619192ω³), (-126878 + 3283842ω + -5108075ω² + 3078549ω³)\n",
      "distance = 0.028456114058583715\n",
      "(0 + 0ω + 0ω² + 1ω³)(T^9)(F)(T^5)\n",
      "u, v = (6236386 + -2260118ω + -6433736ω² + 7830565ω³), (-5224470 + 11150720ω + -9588874ω² + 2697350ω³)\n",
      "distance = 0.028455613734069542\n",
      "(0 + 0ω + -1ω² + 0ω³)(T)(F)(T^5)\n",
      "u, v = (6573505 + -9757827ω + 5152342ω² + 878326ω³), (2716090 + 722978ω + -5564529ω² + 5117704ω³)\n",
      "distance = 0.028456509059682118\n",
      "(0 + 1ω + 0ω² + 0ω³)(T^2)(F)(T^6)\n",
      "u, v = (750212 + 10465852ω + -18147972ω² + 11679719ω³), (-6203180 + 1300566ω + 7932596ω² + -8736390ω³)\n",
      "distance = 0.028456707213562544\n",
      "(0 + 0ω + -1ω² + 0ω³)(T^3)(F)(T^2)\n",
      "u, v = (5684151 + 6143669ω + -19137814ω² + 15340817ω³), (-4187142 + -5300969ω + 15352086ω² + -12075907ω³)\n",
      "distance = 0.028456710106312837\n",
      "(-1 + 1ω + -1ω² + 1ω³)(T^3)(F)(T^2)\n",
      "u, v = (1573890 + -4715648ω + 5083472ω² + -2169042ω³), (2499539 + -3574449ω + 1739241ω² + 469890ω³)\n",
      "distance = 0.028456052631556712\n",
      "(0 + 0ω + 1ω² + 0ω³)(T^0)(F)(T^5)\n",
      "u, v = (4725927 + 5242759ω + -16129672ω² + 12889468ω³), (9990669 + -14790591ω + 7766437ω² + 1374651ω³)\n",
      "distance = 0.0284563832240201\n",
      "(0 + 1ω + 0ω² + 0ω³)(T^2)(F)(T^9)\n",
      "u, v = (3072416 + 4017506ω + -11471734ω² + 8988778ω³), (-7065563 + 8991677ω + -3116518ω² + -2440644ω³)\n",
      "distance = 0.02845617783587972\n",
      "(1 + -1ω + 1ω² + -1ω³)(T^7)(F)(T^5)\n",
      "u, v = (-129793 + 8707439ω + -13878922ω² + 8497428ω³), (2522774 + 2966696ω + -8882149ω² + 7048630ω³)\n",
      "distance = 0.028457452086250168\n",
      "(0 + 1ω + 0ω² + 0ω³)(T^8)(F)(T^4)\n",
      "u, v = (-195846 + 3834618ω + -5887656ω² + 3517731ω³), (-2321102 + 4788112ω + -3991706ω² + 1032490ω³)\n",
      "distance = 0.028456117810192513\n",
      "(0 + 0ω + -1ω² + 0ω³)(T^7)(F)(T^6)\n",
      "u, v = (4085137 + 6115999ω + -16505784ω² + 12725888ω³), (-5273443 + -1183540ω + 10447618ω² + -9716150ω³)\n",
      "distance = 0.02845677663941427\n",
      "(1 + 0ω + 0ω² + 0ω³)(T^3)(F)(T^6)\n",
      "u, v = (4847930 + -8398028ω + 5744180ω² + -553914ω³), (3799995 + -6611193ω + 4548614ω² + -462672ω³)\n",
      "distance = 0.02845725484152163\n",
      "(0 + -1ω + 0ω² + 0ω³)(T^3)(F)(T^9)\n",
      "u, v = (547639 + 4185267ω + -7658002ω² + 5071364ω³), (2555374 + -6363836ω + 6162221ω² + -2229154ω³)\n",
      "distance = 0.028457295881556193\n",
      "(0 + 0ω + 1ω² + 0ω³)(T^9)(F)(T^2)\n",
      "u, v = (381852 + 12154408ω + -20284094ω² + 12772256ω³), (-10291714 + 15272715ω + -8059429ω² + -1379628ω³)\n",
      "distance = 0.0284558654116427\n",
      "(0 + 0ω + 0ω² + 1ω³)(T^7)(F)(T^8)\n",
      "u, v = (3634000 + -3591260ω + -69154ω² + 2288674ω³), (-1806030 + 68061ω + 2812093ω² + -2854157ω³)\n",
      "distance = 0.0284563832240201\n"
     ]
    },
    {
     "ename": "KeyboardInterrupt",
     "evalue": "",
     "output_type": "error",
     "traceback": [
      "\u001b[1;31m---------------------------------------------------------------------------\u001b[0m",
      "\u001b[1;31mKeyboardInterrupt\u001b[0m                         Traceback (most recent call last)",
      "Cell \u001b[1;32mIn[18], line 3\u001b[0m\n\u001b[0;32m      1\u001b[0m angle \u001b[39m=\u001b[39m pi\u001b[39m/\u001b[39m\u001b[39m2\u001b[39m\n\u001b[0;32m      2\u001b[0m \u001b[39mprint\u001b[39m(Rz(angle))\n\u001b[1;32m----> 3\u001b[0m FT \u001b[39m=\u001b[39m compile_R_weave(angle, \u001b[39m0.001\u001b[39;49m)\n\u001b[0;32m      4\u001b[0m \u001b[39mprint\u001b[39m(FT\u001b[39m.\u001b[39mtoBraid())\n\u001b[0;32m      5\u001b[0m \u001b[39mprint\u001b[39m(FT\u001b[39m.\u001b[39mtoBraid()\u001b[39m.\u001b[39mnumerical_approximate())\n",
      "Cell \u001b[1;32mIn[16], line 27\u001b[0m, in \u001b[0;36mcompile_R_weave\u001b[1;34m(angle, epsilon)\u001b[0m\n\u001b[0;32m     25\u001b[0m \u001b[39mprint\u001b[39m(\u001b[39m\"\u001b[39m\u001b[39mu, v = \u001b[39m\u001b[39m\"\u001b[39m \u001b[39m+\u001b[39m \u001b[39mstr\u001b[39m(u) \u001b[39m+\u001b[39m \u001b[39m\"\u001b[39m\u001b[39m, \u001b[39m\u001b[39m\"\u001b[39m \u001b[39m+\u001b[39m \u001b[39mstr\u001b[39m(v))\n\u001b[0;32m     26\u001b[0m \u001b[39mprint\u001b[39m(\u001b[39m\"\u001b[39m\u001b[39mdistance = \u001b[39m\u001b[39m\"\u001b[39m \u001b[39m+\u001b[39m \u001b[39mstr\u001b[39m(sqrt(\u001b[39m1\u001b[39m \u001b[39m-\u001b[39m \u001b[39m0.5\u001b[39m \u001b[39m*\u001b[39m \u001b[39mabs\u001b[39m((u\u001b[39m.\u001b[39mvalue()\u001b[39m*\u001b[39mcmath\u001b[39m.\u001b[39mexp(\u001b[39m1\u001b[39mj\u001b[39m*\u001b[39mangle\u001b[39m/\u001b[39m\u001b[39m2\u001b[39m) \u001b[39m+\u001b[39m (u\u001b[39m.\u001b[39mstar()\u001b[39m.\u001b[39mvalue()\u001b[39m*\u001b[39mcmath\u001b[39m.\u001b[39mexp(\u001b[39m-\u001b[39m\u001b[39m1\u001b[39mj\u001b[39m*\u001b[39mangle\u001b[39m/\u001b[39m\u001b[39m2\u001b[39m)))))))\n\u001b[1;32m---> 27\u001b[0m (Circuit, Remainder) \u001b[39m=\u001b[39m exact_synthesize_weave(Exact_U(u, v, \u001b[39m0\u001b[39;49m))\n\u001b[0;32m     28\u001b[0m \u001b[39mprint\u001b[39m(Remainder)\n\u001b[0;32m     29\u001b[0m \u001b[39mif\u001b[39;00m \u001b[39mlen\u001b[39m(Remainder\u001b[39m.\u001b[39mcircuit) \u001b[39m==\u001b[39m \u001b[39m0\u001b[39m:\n",
      "File \u001b[1;32mc:\\Users\\Justi\\Code\\QCompile\\exact_synthesize.py:53\u001b[0m, in \u001b[0;36mexact_synthesize_weave\u001b[1;34m(U)\u001b[0m\n\u001b[0;32m     51\u001b[0m \u001b[39m#print(\"V = \" + str(V))\u001b[39;00m\n\u001b[0;32m     52\u001b[0m \u001b[39mfor\u001b[39;00m j \u001b[39min\u001b[39;00m \u001b[39mrange\u001b[39m(\u001b[39m0\u001b[39m,\u001b[39m5\u001b[39m):\n\u001b[1;32m---> 53\u001b[0m     \u001b[39mif\u001b[39;00m (F\u001b[39m*\u001b[39m(T\u001b[39m*\u001b[39;49m\u001b[39m*\u001b[39;49m(\u001b[39m2\u001b[39;49m\u001b[39m*\u001b[39;49mj))\u001b[39m*\u001b[39mV)\u001b[39m.\u001b[39mmu()\u001b[39m.\u001b[39mvalue() \u001b[39m<\u001b[39m (F\u001b[39m*\u001b[39m(T\u001b[39m*\u001b[39m\u001b[39m*\u001b[39m\u001b[39mmin\u001b[39m)\u001b[39m*\u001b[39mV)\u001b[39m.\u001b[39mmu()\u001b[39m.\u001b[39mvalue():\n\u001b[0;32m     54\u001b[0m         \u001b[39mmin\u001b[39m \u001b[39m=\u001b[39m \u001b[39m2\u001b[39m\u001b[39m*\u001b[39mj\n\u001b[0;32m     56\u001b[0m V \u001b[39m=\u001b[39m F\u001b[39m*\u001b[39m(T\u001b[39m*\u001b[39m\u001b[39m*\u001b[39m\u001b[39mmin\u001b[39m)\u001b[39m*\u001b[39mV\n",
      "File \u001b[1;32mc:\\Users\\Justi\\Code\\QCompile\\Rings.py:208\u001b[0m, in \u001b[0;36mExact_U.__pow__\u001b[1;34m(self, k)\u001b[0m\n\u001b[0;32m    206\u001b[0m T \u001b[39m=\u001b[39m Exact_U(Zomega(\u001b[39m1\u001b[39m,\u001b[39m0\u001b[39m,\u001b[39m0\u001b[39m,\u001b[39m0\u001b[39m), Zomega(\u001b[39m0\u001b[39m,\u001b[39m0\u001b[39m,\u001b[39m0\u001b[39m,\u001b[39m0\u001b[39m), \u001b[39m5\u001b[39m)\n\u001b[0;32m    207\u001b[0m \u001b[39mfor\u001b[39;00m i \u001b[39min\u001b[39;00m \u001b[39mrange\u001b[39m(k):\n\u001b[1;32m--> 208\u001b[0m     T \u001b[39m=\u001b[39m \u001b[39mself\u001b[39;49m\u001b[39m.\u001b[39;49m\u001b[39m__mul__\u001b[39;49m(T)\n\u001b[0;32m    209\u001b[0m \u001b[39mreturn\u001b[39;00m T\n",
      "File \u001b[1;32mc:\\Users\\Justi\\Code\\QCompile\\Rings.py:202\u001b[0m, in \u001b[0;36mExact_U.__mul__\u001b[1;34m(self, A)\u001b[0m\n\u001b[0;32m    199\u001b[0m omega \u001b[39m=\u001b[39m Zomega(\u001b[39m0\u001b[39m,\u001b[39m1\u001b[39m,\u001b[39m0\u001b[39m,\u001b[39m0\u001b[39m)\n\u001b[0;32m    200\u001b[0m tau \u001b[39m=\u001b[39m Zomega(\u001b[39m0\u001b[39m,\u001b[39m0\u001b[39m,\u001b[39m1\u001b[39m,\u001b[39m-\u001b[39m\u001b[39m1\u001b[39m)\n\u001b[0;32m    201\u001b[0m \u001b[39mreturn\u001b[39;00m Exact_U(\u001b[39mself\u001b[39m\u001b[39m.\u001b[39mu\u001b[39m*\u001b[39mA\u001b[39m.\u001b[39mu \u001b[39m+\u001b[39m \u001b[39mself\u001b[39m\u001b[39m.\u001b[39mv\u001b[39m.\u001b[39mstar()\u001b[39m*\u001b[39mA\u001b[39m.\u001b[39mv\u001b[39m*\u001b[39mtau\u001b[39m*\u001b[39m(omega\u001b[39m*\u001b[39m\u001b[39m*\u001b[39m\u001b[39mself\u001b[39m\u001b[39m.\u001b[39mk), \n\u001b[1;32m--> 202\u001b[0m          \u001b[39mself\u001b[39m\u001b[39m.\u001b[39mv\u001b[39m*\u001b[39mA\u001b[39m.\u001b[39mu \u001b[39m-\u001b[39m \u001b[39mself\u001b[39m\u001b[39m.\u001b[39mu\u001b[39m.\u001b[39mstar()\u001b[39m*\u001b[39mA\u001b[39m.\u001b[39mv\u001b[39m*\u001b[39m(omega\u001b[39m*\u001b[39;49m\u001b[39m*\u001b[39;49m\u001b[39mself\u001b[39;49m\u001b[39m.\u001b[39;49mk), \n\u001b[0;32m    203\u001b[0m          (\u001b[39mself\u001b[39m\u001b[39m.\u001b[39mk \u001b[39m+\u001b[39m A\u001b[39m.\u001b[39mk \u001b[39m+\u001b[39m \u001b[39m5\u001b[39m)\u001b[39m%\u001b[39m\u001b[39m10\u001b[39m)\n",
      "File \u001b[1;32mc:\\Users\\Justi\\Code\\QCompile\\Rings.py:65\u001b[0m, in \u001b[0;36mZomega.__pow__\u001b[1;34m(self, k)\u001b[0m\n\u001b[0;32m     63\u001b[0m     T \u001b[39m=\u001b[39m \u001b[39mself\u001b[39m\u001b[39m.\u001b[39m\u001b[39m__mul__\u001b[39m(T)\n\u001b[0;32m     64\u001b[0m \u001b[39melse\u001b[39;00m:\n\u001b[1;32m---> 65\u001b[0m     inv \u001b[39m=\u001b[39m Zomega(\u001b[39m1\u001b[39;49m,\u001b[39m0\u001b[39;49m,\u001b[39m0\u001b[39;49m,\u001b[39m0\u001b[39;49m)\u001b[39m/\u001b[39;49m\u001b[39mself\u001b[39;49m\n\u001b[0;32m     66\u001b[0m     \u001b[39mfor\u001b[39;00m i \u001b[39min\u001b[39;00m \u001b[39mrange\u001b[39m(\u001b[39m-\u001b[39mk):\n\u001b[0;32m     67\u001b[0m         T \u001b[39m=\u001b[39m T \u001b[39m*\u001b[39m inv\n",
      "File \u001b[1;32mc:\\Users\\Justi\\Code\\QCompile\\Rings.py:43\u001b[0m, in \u001b[0;36mZomega.__truediv__\u001b[1;34m(self, s)\u001b[0m\n\u001b[0;32m     42\u001b[0m \u001b[39mdef\u001b[39;00m \u001b[39m__truediv__\u001b[39m(\u001b[39mself\u001b[39m, s):\n\u001b[1;32m---> 43\u001b[0m     output \u001b[39m=\u001b[39m \u001b[39mself\u001b[39;49m\u001b[39m.\u001b[39;49mmult_matrix(s\u001b[39m.\u001b[39;49ma, s\u001b[39m.\u001b[39;49mb, s\u001b[39m.\u001b[39;49mc, s\u001b[39m.\u001b[39;49md)\u001b[39m*\u001b[39;49m\u001b[39m*\u001b[39;49m(\u001b[39m-\u001b[39;49m\u001b[39m1\u001b[39;49m) \u001b[39m*\u001b[39m Matrix([\u001b[39mself\u001b[39m\u001b[39m.\u001b[39ma, \u001b[39mself\u001b[39m\u001b[39m.\u001b[39mb, \u001b[39mself\u001b[39m\u001b[39m.\u001b[39mc, \u001b[39mself\u001b[39m\u001b[39m.\u001b[39md])\n\u001b[0;32m     44\u001b[0m     \u001b[39mreturn\u001b[39;00m Zomega(output[\u001b[39m0\u001b[39m],output[\u001b[39m1\u001b[39m],output[\u001b[39m2\u001b[39m],output[\u001b[39m3\u001b[39m])\n",
      "File \u001b[1;32mc:\\Python310\\lib\\site-packages\\sympy\\core\\decorators.py:106\u001b[0m, in \u001b[0;36mcall_highest_priority.<locals>.priority_decorator.<locals>.binary_op_wrapper\u001b[1;34m(self, other)\u001b[0m\n\u001b[0;32m    104\u001b[0m         \u001b[39mif\u001b[39;00m f \u001b[39mis\u001b[39;00m \u001b[39mnot\u001b[39;00m \u001b[39mNone\u001b[39;00m:\n\u001b[0;32m    105\u001b[0m             \u001b[39mreturn\u001b[39;00m f(\u001b[39mself\u001b[39m)\n\u001b[1;32m--> 106\u001b[0m \u001b[39mreturn\u001b[39;00m func(\u001b[39mself\u001b[39;49m, other)\n",
      "File \u001b[1;32mc:\\Python310\\lib\\site-packages\\sympy\\matrices\\common.py:2780\u001b[0m, in \u001b[0;36mMatrixArithmetic.__pow__\u001b[1;34m(self, exp)\u001b[0m\n\u001b[0;32m   2776\u001b[0m \u001b[39m@call_highest_priority\u001b[39m(\u001b[39m'\u001b[39m\u001b[39m__rpow__\u001b[39m\u001b[39m'\u001b[39m)\n\u001b[0;32m   2777\u001b[0m \u001b[39mdef\u001b[39;00m \u001b[39m__pow__\u001b[39m(\u001b[39mself\u001b[39m, exp):\n\u001b[0;32m   2778\u001b[0m     \u001b[39m\"\"\"Return self**exp a scalar or symbol.\"\"\"\u001b[39;00m\n\u001b[1;32m-> 2780\u001b[0m     \u001b[39mreturn\u001b[39;00m \u001b[39mself\u001b[39;49m\u001b[39m.\u001b[39;49mpow(exp)\n",
      "File \u001b[1;32mc:\\Python310\\lib\\site-packages\\sympy\\matrices\\common.py:2824\u001b[0m, in \u001b[0;36mMatrixArithmetic.pow\u001b[1;34m(self, exp, method)\u001b[0m\n\u001b[0;32m   2822\u001b[0m     \u001b[39mif\u001b[39;00m exp \u001b[39m<\u001b[39m \u001b[39m0\u001b[39m:\n\u001b[0;32m   2823\u001b[0m         exp \u001b[39m=\u001b[39m \u001b[39m-\u001b[39mexp\n\u001b[1;32m-> 2824\u001b[0m         a \u001b[39m=\u001b[39m a\u001b[39m.\u001b[39;49minv()\n\u001b[0;32m   2825\u001b[0m \u001b[39m# When certain conditions are met,\u001b[39;00m\n\u001b[0;32m   2826\u001b[0m \u001b[39m# Jordan block algorithm is faster than\u001b[39;00m\n\u001b[0;32m   2827\u001b[0m \u001b[39m# computation by recursion.\u001b[39;00m\n\u001b[0;32m   2828\u001b[0m \u001b[39mif\u001b[39;00m method \u001b[39m==\u001b[39m \u001b[39m'\u001b[39m\u001b[39mjordan\u001b[39m\u001b[39m'\u001b[39m:\n",
      "File \u001b[1;32mc:\\Python310\\lib\\site-packages\\sympy\\matrices\\matrices.py:2177\u001b[0m, in \u001b[0;36mMatrixBase.inv\u001b[1;34m(self, method, iszerofunc, try_block_diag)\u001b[0m\n\u001b[0;32m   2176\u001b[0m \u001b[39mdef\u001b[39;00m \u001b[39minv\u001b[39m(\u001b[39mself\u001b[39m, method\u001b[39m=\u001b[39m\u001b[39mNone\u001b[39;00m, iszerofunc\u001b[39m=\u001b[39m_iszero, try_block_diag\u001b[39m=\u001b[39m\u001b[39mFalse\u001b[39;00m):\n\u001b[1;32m-> 2177\u001b[0m     \u001b[39mreturn\u001b[39;00m _inv(\u001b[39mself\u001b[39;49m, method\u001b[39m=\u001b[39;49mmethod, iszerofunc\u001b[39m=\u001b[39;49miszerofunc,\n\u001b[0;32m   2178\u001b[0m             try_block_diag\u001b[39m=\u001b[39;49mtry_block_diag)\n",
      "File \u001b[1;32mc:\\Python310\\lib\\site-packages\\sympy\\matrices\\inverse.py:459\u001b[0m, in \u001b[0;36m_inv\u001b[1;34m(M, method, iszerofunc, try_block_diag)\u001b[0m\n\u001b[0;32m    456\u001b[0m     \u001b[39mreturn\u001b[39;00m diag(\u001b[39m*\u001b[39mr)\n\u001b[0;32m    458\u001b[0m \u001b[39mif\u001b[39;00m method \u001b[39m==\u001b[39m \u001b[39m\"\u001b[39m\u001b[39mGE\u001b[39m\u001b[39m\"\u001b[39m:\n\u001b[1;32m--> 459\u001b[0m     rv \u001b[39m=\u001b[39m M\u001b[39m.\u001b[39;49minverse_GE(iszerofunc\u001b[39m=\u001b[39;49miszerofunc)\n\u001b[0;32m    460\u001b[0m \u001b[39melif\u001b[39;00m method \u001b[39m==\u001b[39m \u001b[39m\"\u001b[39m\u001b[39mLU\u001b[39m\u001b[39m\"\u001b[39m:\n\u001b[0;32m    461\u001b[0m     rv \u001b[39m=\u001b[39m M\u001b[39m.\u001b[39minverse_LU(iszerofunc\u001b[39m=\u001b[39miszerofunc)\n",
      "File \u001b[1;32mc:\\Python310\\lib\\site-packages\\sympy\\matrices\\matrices.py:2162\u001b[0m, in \u001b[0;36mMatrixBase.inverse_GE\u001b[1;34m(self, iszerofunc)\u001b[0m\n\u001b[0;32m   2161\u001b[0m \u001b[39mdef\u001b[39;00m \u001b[39minverse_GE\u001b[39m(\u001b[39mself\u001b[39m, iszerofunc\u001b[39m=\u001b[39m_iszero):\n\u001b[1;32m-> 2162\u001b[0m     \u001b[39mreturn\u001b[39;00m _inv_GE(\u001b[39mself\u001b[39;49m, iszerofunc\u001b[39m=\u001b[39;49miszerofunc)\n",
      "File \u001b[1;32mc:\\Python310\\lib\\site-packages\\sympy\\matrices\\inverse.py:242\u001b[0m, in \u001b[0;36m_inv_GE\u001b[1;34m(M, iszerofunc)\u001b[0m\n\u001b[0;32m    239\u001b[0m     \u001b[39mraise\u001b[39;00m NonSquareMatrixError(\u001b[39m\"\u001b[39m\u001b[39mA Matrix must be square to invert.\u001b[39m\u001b[39m\"\u001b[39m)\n\u001b[0;32m    241\u001b[0m big \u001b[39m=\u001b[39m Matrix\u001b[39m.\u001b[39mhstack(M\u001b[39m.\u001b[39mas_mutable(), Matrix\u001b[39m.\u001b[39meye(M\u001b[39m.\u001b[39mrows))\n\u001b[1;32m--> 242\u001b[0m red \u001b[39m=\u001b[39m big\u001b[39m.\u001b[39;49mrref(iszerofunc\u001b[39m=\u001b[39;49miszerofunc, simplify\u001b[39m=\u001b[39;49m\u001b[39mTrue\u001b[39;49;00m)[\u001b[39m0\u001b[39m]\n\u001b[0;32m    244\u001b[0m \u001b[39mif\u001b[39;00m \u001b[39many\u001b[39m(iszerofunc(red[j, j]) \u001b[39mfor\u001b[39;00m j \u001b[39min\u001b[39;00m \u001b[39mrange\u001b[39m(red\u001b[39m.\u001b[39mrows)):\n\u001b[0;32m    245\u001b[0m     \u001b[39mraise\u001b[39;00m NonInvertibleMatrixError(\u001b[39m\"\u001b[39m\u001b[39mMatrix det == 0; not invertible.\u001b[39m\u001b[39m\"\u001b[39m)\n",
      "File \u001b[1;32mc:\\Python310\\lib\\site-packages\\sympy\\matrices\\matrices.py:172\u001b[0m, in \u001b[0;36mMatrixReductions.rref\u001b[1;34m(self, iszerofunc, simplify, pivots, normalize_last)\u001b[0m\n\u001b[0;32m    170\u001b[0m \u001b[39mdef\u001b[39;00m \u001b[39mrref\u001b[39m(\u001b[39mself\u001b[39m, iszerofunc\u001b[39m=\u001b[39m_iszero, simplify\u001b[39m=\u001b[39m\u001b[39mFalse\u001b[39;00m, pivots\u001b[39m=\u001b[39m\u001b[39mTrue\u001b[39;00m,\n\u001b[0;32m    171\u001b[0m         normalize_last\u001b[39m=\u001b[39m\u001b[39mTrue\u001b[39;00m):\n\u001b[1;32m--> 172\u001b[0m     \u001b[39mreturn\u001b[39;00m _rref(\u001b[39mself\u001b[39;49m, iszerofunc\u001b[39m=\u001b[39;49miszerofunc, simplify\u001b[39m=\u001b[39;49msimplify,\n\u001b[0;32m    173\u001b[0m         pivots\u001b[39m=\u001b[39;49mpivots, normalize_last\u001b[39m=\u001b[39;49mnormalize_last)\n",
      "File \u001b[1;32mc:\\Python310\\lib\\site-packages\\sympy\\matrices\\reductions.py:320\u001b[0m, in \u001b[0;36m_rref\u001b[1;34m(M, iszerofunc, simplify, pivots, normalize_last)\u001b[0m\n\u001b[0;32m    247\u001b[0m \u001b[39m\"\"\"Return reduced row-echelon form of matrix and indices of pivot vars.\u001b[39;00m\n\u001b[0;32m    248\u001b[0m \n\u001b[0;32m    249\u001b[0m \u001b[39mParameters\u001b[39;00m\n\u001b[1;32m   (...)\u001b[0m\n\u001b[0;32m    315\u001b[0m \u001b[39mof the matrix, set ``noramlize_last=False``\u001b[39;00m\n\u001b[0;32m    316\u001b[0m \u001b[39m\"\"\"\u001b[39;00m\n\u001b[0;32m    318\u001b[0m simpfunc \u001b[39m=\u001b[39m simplify \u001b[39mif\u001b[39;00m \u001b[39misinstance\u001b[39m(simplify, FunctionType) \u001b[39melse\u001b[39;00m _simplify\n\u001b[1;32m--> 320\u001b[0m mat, pivot_cols, _ \u001b[39m=\u001b[39m _row_reduce(M, iszerofunc, simpfunc,\n\u001b[0;32m    321\u001b[0m         normalize_last, normalize\u001b[39m=\u001b[39;49m\u001b[39mTrue\u001b[39;49;00m, zero_above\u001b[39m=\u001b[39;49m\u001b[39mTrue\u001b[39;49;00m)\n\u001b[0;32m    323\u001b[0m \u001b[39mif\u001b[39;00m pivots:\n\u001b[0;32m    324\u001b[0m     mat \u001b[39m=\u001b[39m (mat, pivot_cols)\n",
      "File \u001b[1;32mc:\\Python310\\lib\\site-packages\\sympy\\matrices\\reductions.py:124\u001b[0m, in \u001b[0;36m_row_reduce\u001b[1;34m(M, iszerofunc, simpfunc, normalize_last, normalize, zero_above)\u001b[0m\n\u001b[0;32m    121\u001b[0m \u001b[39mdef\u001b[39;00m \u001b[39m_row_reduce\u001b[39m(M, iszerofunc, simpfunc, normalize_last\u001b[39m=\u001b[39m\u001b[39mTrue\u001b[39;00m,\n\u001b[0;32m    122\u001b[0m                 normalize\u001b[39m=\u001b[39m\u001b[39mTrue\u001b[39;00m, zero_above\u001b[39m=\u001b[39m\u001b[39mTrue\u001b[39;00m):\n\u001b[1;32m--> 124\u001b[0m     mat, pivot_cols, swaps \u001b[39m=\u001b[39m _row_reduce_list(\u001b[39mlist\u001b[39;49m(M), M\u001b[39m.\u001b[39mrows, M\u001b[39m.\u001b[39mcols, M\u001b[39m.\u001b[39mone,\n\u001b[0;32m    125\u001b[0m             iszerofunc, simpfunc, normalize_last\u001b[39m=\u001b[39mnormalize_last,\n\u001b[0;32m    126\u001b[0m             normalize\u001b[39m=\u001b[39mnormalize, zero_above\u001b[39m=\u001b[39mzero_above)\n\u001b[0;32m    128\u001b[0m     \u001b[39mreturn\u001b[39;00m M\u001b[39m.\u001b[39m_new(M\u001b[39m.\u001b[39mrows, M\u001b[39m.\u001b[39mcols, mat), pivot_cols, swaps\n",
      "File \u001b[1;32mc:\\Python310\\lib\\site-packages\\sympy\\matrices\\repmatrix.py:233\u001b[0m, in \u001b[0;36mRepMatrix.__getitem__\u001b[1;34m(self, key)\u001b[0m\n\u001b[0;32m    232\u001b[0m \u001b[39mdef\u001b[39;00m \u001b[39m__getitem__\u001b[39m(\u001b[39mself\u001b[39m, key):\n\u001b[1;32m--> 233\u001b[0m     \u001b[39mreturn\u001b[39;00m _getitem_RepMatrix(\u001b[39mself\u001b[39;49m, key)\n",
      "File \u001b[1;32mc:\\Python310\\lib\\site-packages\\sympy\\matrices\\repmatrix.py:750\u001b[0m, in \u001b[0;36m_getitem_RepMatrix\u001b[1;34m(self, key)\u001b[0m\n\u001b[0;32m    748\u001b[0m     values \u001b[39m=\u001b[39m [rep\u001b[39m.\u001b[39mgetitem(\u001b[39m*\u001b[39m\u001b[39mdivmod\u001b[39m(n, cols)) \u001b[39mfor\u001b[39;00m n \u001b[39min\u001b[39;00m \u001b[39mrange\u001b[39m(rows \u001b[39m*\u001b[39m cols)[key]]\n\u001b[0;32m    749\u001b[0m \u001b[39melse\u001b[39;00m:\n\u001b[1;32m--> 750\u001b[0m     values \u001b[39m=\u001b[39m [rep\u001b[39m.\u001b[39;49mgetitem(\u001b[39m*\u001b[39;49m\u001b[39mdivmod\u001b[39;49m(index_(key), cols))]\n\u001b[0;32m    752\u001b[0m \u001b[39mif\u001b[39;00m domain \u001b[39m!=\u001b[39m EXRAW:\n\u001b[0;32m    753\u001b[0m     to_sympy \u001b[39m=\u001b[39m domain\u001b[39m.\u001b[39mto_sympy\n",
      "\u001b[1;31mKeyboardInterrupt\u001b[0m: "
     ]
    }
   ],
   "source": [
    "angle = pi/2\n",
    "print(Rz(angle))\n",
    "FT = compile_R_weave(angle, 0.001)\n",
    "print(FT.toBraid())\n",
    "print(FT.toBraid().numerical_approximate())"
   ]
  }
 ],
 "metadata": {
  "kernelspec": {
   "display_name": "Python 3",
   "language": "python",
   "name": "python3"
  },
  "language_info": {
   "codemirror_mode": {
    "name": "ipython",
    "version": 3
   },
   "file_extension": ".py",
   "mimetype": "text/x-python",
   "name": "python",
   "nbconvert_exporter": "python",
   "pygments_lexer": "ipython3",
   "version": "3.10.5"
  },
  "orig_nbformat": 4
 },
 "nbformat": 4,
 "nbformat_minor": 2
}
