{
 "cells": [
  {
   "cell_type": "code",
   "execution_count": 1,
   "metadata": {},
   "outputs": [],
   "source": [
    "from Rings import Zomega, Ztau, Exact_U\n",
    "from norm_equation import easy_factor, easy_solveable, solve_norm_equation\n",
    "from exact_synthesize import exact_synthesize, exact_synthesize_weave\n",
    "from Circuits import FTCircuit, Braid\n",
    "from mpmath import mp, ceil, floor\n",
    "import cmath\n",
    "import math\n",
    "import random\n",
    "import numpy as np"
   ]
  },
  {
   "cell_type": "markdown",
   "metadata": {},
   "source": [
    "To compile rotations, run all cells. The main cell is the very last one; all other cells are helper functions."
   ]
  },
  {
   "cell_type": "code",
   "execution_count": 2,
   "metadata": {},
   "outputs": [],
   "source": [
    "'''\n",
    "Set computation depth\n",
    "'''\n",
    "mp.dps = 100"
   ]
  },
  {
   "cell_type": "code",
   "execution_count": 3,
   "metadata": {},
   "outputs": [],
   "source": [
    "'''\n",
    "Define global variables\n",
    "'''\n",
    "\n",
    "phi = (mp.sqrt(mp.mpf(5)) + 1)/2\n",
    "tau = (mp.sqrt(mp.mpf(5)) - 1)/2\n",
    "\n",
    "omega = Zomega(0,1,0,0)\n",
    "T = Exact_U(Zomega(1,0,0,0), Zomega(0,0,0,0), 6)\n",
    "F = Exact_U(Zomega(0,0,1,-1), Zomega(1,0,0,0), 0)\n",
    "\n",
    "sigma_1 = Exact_U(omega**6, Zomega(0,0,0,0), 4)\n",
    "sigma_2 = F * sigma_1 * F\n",
    "\n",
    "def Rz(angle):\n",
    "    return np.array([\n",
    "        [cmath.exp(-0.5j*angle), 0],\n",
    "        [0, cmath.exp(0.5j*angle)]\n",
    "    ])\n",
    "\n",
    "def Pauli_X():\n",
    "    return np.array([\n",
    "        [0, 1],\n",
    "        [1, 0]\n",
    "    ])\n",
    "\n",
    "def F():\n",
    "    return np.array([\n",
    "        [tau, math.sqrt(tau)],\n",
    "        [math.sqrt(tau), -1*tau]\n",
    "    ])"
   ]
  },
  {
   "cell_type": "code",
   "execution_count": 4,
   "metadata": {},
   "outputs": [],
   "source": [
    "'''\n",
    "Implement random sample\n",
    "'''\n",
    "FibArray = [1, 1]\n",
    " \n",
    "def Fib(n):\n",
    "    if n<0:\n",
    "        print(\"Incorrect input\")\n",
    "    elif n<= len(FibArray):\n",
    "        return FibArray[n-1]\n",
    "    else:\n",
    "        temp_fib = Fib(n-1)+Fib(n-2)\n",
    "        FibArray.append(temp_fib)\n",
    "        return temp_fib    \n",
    "\n",
    "def approx_real(x,n):\n",
    "    p, q = Fib(n), Fib(n+1)\n",
    "    u, v = (-1)**(n+1)*Fib(n), (-1)**n * Fib(n-1)\n",
    "    c = round(x*q)\n",
    "    a = c*v + p * round(c*u/q)\n",
    "    b = c*u - q * round(c*u/q)\n",
    "\n",
    "    return Ztau(a, b)\n",
    "\n",
    "def random_sample(theta, epsilon, r):\n",
    "    C = mp.sqrt(phi/(4*r))\n",
    "    m = int(float(mp.nstr(mp.ceil(mp.log(C*epsilon*r, tau)), 10))) + 1\n",
    "    N = int(float(mp.nstr(mp.ceil(phi**m), 10)))\n",
    "\n",
    "    y_min = r*phi**m *(mp.sin(theta) - epsilon*(mp.sqrt(4-epsilon**2)*mp.cos(theta) + epsilon*mp.sin(theta))/2)\n",
    "    y_max = r*phi**m *(mp.sin(theta) + epsilon*(mp.sqrt(4-epsilon**2)*mp.cos(theta) - epsilon*mp.sin(theta))/2)\n",
    "    x_max = r*phi**m *((1 - epsilon**2/2)*mp.cos(theta) - epsilon*mp.sqrt(1 - epsilon**2/4)*mp.sin(theta))\n",
    "    x_c = x_max - r*epsilon**2*phi**m/(4*mp.cos(theta))\n",
    "\n",
    "    j = random.randint(1, N-1)\n",
    "    y = y_min + j*(y_max - y_min)/N\n",
    "    a_y = approx_real(y/mp.sqrt(2-tau), m)\n",
    "    x = x_c - (a_y.value()*mp.sqrt(2-tau) - y_min)*mp.tan(theta)\n",
    "    a_x = approx_real(x,m)\n",
    "\n",
    "    return Zomega.fromTau(a_x) + Zomega(-1,2,-1,1)*Zomega.fromTau(a_y)"
   ]
  },
  {
   "cell_type": "code",
   "execution_count": 5,
   "metadata": {},
   "outputs": [],
   "source": [
    "def compile_R_rotation(angle, epsilon):\n",
    "    epsilon = epsilon * epsilon\n",
    "    C = mp.sqrt(phi/4)\n",
    "    m = int(float(mp.nstr(mp.ceil(mp.log(C*epsilon, tau)), 10))) + 1\n",
    "    theta = 0\n",
    "    for k in range(10):       \n",
    "        adjusted_angle = (-angle/2 - mp.pi*k/5) - floor((-angle/2 - mp.pi*k/5)/(2*mp.pi)) * (2*mp.pi)\n",
    "        if adjusted_angle >= 0 and adjusted_angle <= mp.pi/5:\n",
    "            theta = adjusted_angle\n",
    "            break\n",
    "    \n",
    "    not_found, u, v = True, 0, 0\n",
    "\n",
    "    while not_found:\n",
    "        u0 = random_sample(theta, epsilon, 1)\n",
    "        phi_t = Ztau(1, 1)\n",
    "        xi = phi_t*(phi_t**(2*m) - Ztau.fromOmega(u0*u0.star()))\n",
    "        factors = easy_factor(xi)\n",
    "        if easy_solveable(factors):\n",
    "            not_found = False\n",
    "            u = Zomega(0,1,0,0)**k * Zomega.fromTau(Ztau(0,1))**m * u0\n",
    "            v = Zomega.fromTau(Ztau(0,1))**m * solve_norm_equation(xi)\n",
    "    \n",
    "    #print(\"u, v = \" + str(u) + \", \" + str(v))\n",
    "    print(\"distance = \" + str(mp.sqrt(1 - 0.5 * abs((u.value()*mp.exp(mp.mpc(1j)*angle/2) + (u.star().value()*mp.exp(mp.mpc(-1j)*angle/2)))))))\n",
    "    #print(mp.log(abs(u.a)))\n",
    "    Circuit = exact_synthesize(Exact_U(u, v, 5))\n",
    "\n",
    "    return Circuit"
   ]
  },
  {
   "cell_type": "markdown",
   "metadata": {},
   "source": [
    "The box below compiles a rotation $R_z(\\phi)$ to the desired precision. Works well for precisions up to $10^{-6}$. First the distance to the target matrix is printed, then the output is given by a pair in the form (braid length, braid)."
   ]
  },
  {
   "cell_type": "code",
   "execution_count": 6,
   "metadata": {},
   "outputs": [
    {
     "name": "stdout",
     "output_type": "stream",
     "text": [
      "distance = 0.0000007666630418344870132800115509704875990168159570999745387466304765929670909460571502871853906207739595\n",
      "(314, 'exp(0.4πi)2221111222223333222332223333222111112223322333444411111444411122222114411122221111122222111112221111144411444333322211444411144433344441111144111122223334444332222111122222333322223332223322223333222111444333322211122233344443332222211111222211444333441144411112222111444332223333444333444433344111112111')\n"
     ]
    }
   ],
   "source": [
    "angle = mp.pi\n",
    "precision = 10**(-6)\n",
    "# Runtime is ~15s at this precision\n",
    "\n",
    "FT = compile_R_rotation(angle, precision)\n",
    "braid = str(FT.toBraid())\n",
    "\n",
    "print(Braid.shorten_braid_string(braid))"
   ]
  }
 ],
 "metadata": {
  "kernelspec": {
   "display_name": "Python 3",
   "language": "python",
   "name": "python3"
  },
  "language_info": {
   "codemirror_mode": {
    "name": "ipython",
    "version": 3
   },
   "file_extension": ".py",
   "mimetype": "text/x-python",
   "name": "python",
   "nbconvert_exporter": "python",
   "pygments_lexer": "ipython3",
   "version": "3.10.5"
  },
  "orig_nbformat": 4
 },
 "nbformat": 4,
 "nbformat_minor": 2
}
