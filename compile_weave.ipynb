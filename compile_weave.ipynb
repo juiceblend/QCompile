{
 "cells": [
  {
   "cell_type": "code",
   "execution_count": 1,
   "metadata": {},
   "outputs": [],
   "source": [
    "from Rings import Zomega, Ztau, Exact_U\n",
    "from norm_equation import easy_factor, easy_solveable, solve_norm_equation\n",
    "from exact_synthesize import exact_synthesize, exact_synthesize_weave\n",
    "from Circuits import FTCircuit, Braid\n",
    "from mpmath import mp, ceil, floor\n",
    "import cmath\n",
    "import math\n",
    "import random\n",
    "import numpy as np"
   ]
  },
  {
   "cell_type": "markdown",
   "metadata": {},
   "source": [
    "To compile injection weaves, run all cells."
   ]
  },
  {
   "cell_type": "code",
   "execution_count": 2,
   "metadata": {},
   "outputs": [],
   "source": [
    "'''\n",
    "Set computation depth\n",
    "'''\n",
    "mp.dps = 50"
   ]
  },
  {
   "cell_type": "code",
   "execution_count": 3,
   "metadata": {},
   "outputs": [],
   "source": [
    "'''\n",
    "Define global variables\n",
    "'''\n",
    "\n",
    "phi = (mp.sqrt(mp.mpf(5)) + 1)/2\n",
    "tau = (mp.sqrt(mp.mpf(5)) - 1)/2\n",
    "\n",
    "omega = Zomega(0,1,0,0)\n",
    "T = Exact_U(Zomega(1,0,0,0), Zomega(0,0,0,0), 6)\n",
    "F = Exact_U(Zomega(0,0,1,-1), Zomega(1,0,0,0), 0)\n",
    "\n",
    "sigma_1 = Exact_U(omega**6, Zomega(0,0,0,0), 4)\n",
    "sigma_2 = F * sigma_1 * F\n",
    "\n",
    "def Rz(angle):\n",
    "    return np.array([\n",
    "        [cmath.exp(-0.5j*angle), 0],\n",
    "        [0, cmath.exp(0.5j*angle)]\n",
    "    ])\n",
    "\n",
    "def Pauli_X():\n",
    "    return np.array([\n",
    "        [0, 1],\n",
    "        [1, 0]\n",
    "    ])\n",
    "\n",
    "def F():\n",
    "    return np.array([\n",
    "        [tau, math.sqrt(tau)],\n",
    "        [math.sqrt(tau), -1*tau]\n",
    "    ])"
   ]
  },
  {
   "cell_type": "code",
   "execution_count": 4,
   "metadata": {},
   "outputs": [],
   "source": [
    "'''\n",
    "Implement random sample\n",
    "'''\n",
    "FibArray = [1, 1]\n",
    " \n",
    "def Fib(n):\n",
    "    if n<0:\n",
    "        print(\"Incorrect input\")\n",
    "    elif n<= len(FibArray):\n",
    "        return FibArray[n-1]\n",
    "    else:\n",
    "        temp_fib = Fib(n-1)+Fib(n-2)\n",
    "        FibArray.append(temp_fib)\n",
    "        return temp_fib    \n",
    "\n",
    "def approx_real(x,n):\n",
    "    p, q = Fib(n), Fib(n+1)\n",
    "    u, v = (-1)**(n+1)*Fib(n), (-1)**n * Fib(n-1)\n",
    "    c = round(x*q)\n",
    "    a = c*v + p * round(c*u/q)\n",
    "    b = c*u - q * round(c*u/q)\n",
    "\n",
    "    return Ztau(a, b)\n",
    "\n",
    "def random_sample(theta, epsilon, r):\n",
    "    C = mp.sqrt(phi/(4*r))\n",
    "    m = int(float(mp.nstr(mp.ceil(mp.log(C*epsilon*r, tau)), 1))) + 1\n",
    "    N = int(float(mp.nstr(mp.ceil(phi**m), 1)))\n",
    "\n",
    "    y_min = r*phi**m *(mp.sin(theta) - epsilon*(mp.sqrt(4-epsilon**2)*mp.cos(theta) + epsilon*mp.sin(theta))/2)\n",
    "    y_max = r*phi**m *(mp.sin(theta) + epsilon*(mp.sqrt(4-epsilon**2)*mp.cos(theta) - epsilon*mp.sin(theta))/2)\n",
    "    x_max = r*phi**m *((1 - epsilon**2/2)*mp.cos(theta) - epsilon*mp.sqrt(1 - epsilon**2/4)*mp.sin(theta))\n",
    "    x_c = x_max - r*epsilon**2*phi**m/(4*mp.cos(theta))\n",
    "\n",
    "    j = random.randint(1, N-1)\n",
    "    y = y_min + j*(y_max - y_min)/N\n",
    "    a_y = approx_real(y/mp.sqrt(2-tau), m)\n",
    "    x = x_c - (a_y.value()*mp.sqrt(2-tau) - y_min)*mp.tan(theta)\n",
    "    a_x = approx_real(x,m)\n",
    "\n",
    "    return Zomega.fromTau(a_x) + Zomega(-1,2,-1,1)*Zomega.fromTau(a_y)"
   ]
  },
  {
   "cell_type": "code",
   "execution_count": 5,
   "metadata": {},
   "outputs": [],
   "source": [
    "def compile_injection_weave(epsilon):\n",
    "    weave = False\n",
    "    while not weave:\n",
    "        C = mp.sqrt(phi/4)\n",
    "        m = int(float(mp.nstr(mp.ceil(mp.log(C*epsilon, tau)), 1))) + 1\n",
    "        \n",
    "        not_found, u, v = True, 0, 0\n",
    "\n",
    "        while not_found:\n",
    "\n",
    "            # Approximate identity\n",
    "            u0 = random_sample(0, epsilon, 1)\n",
    "            phi_t = Ztau(1, 1)\n",
    "            xi = phi_t*(phi_t**(2*m) - Ztau.fromOmega(u0*u0.star()))\n",
    "            factors = easy_factor(xi)\n",
    "            if easy_solveable(factors):\n",
    "                not_found = False\n",
    "                u = Zomega.fromTau(Ztau(0,1))**m * u0\n",
    "                v = Zomega.fromTau(Ztau(0,1))**m * solve_norm_equation(xi)\n",
    "        \n",
    "        #print(\"u, v = \" + str(u) + \", \" + str(v))\n",
    "        #print(\"distance = \" + str(mp.sqrt(1 - abs((u.value() + u.star().value()))/2)))   \n",
    "        \n",
    "        (Circuit, Remainder) = exact_synthesize_weave(sigma_1 * sigma_2 * Exact_U(u, v, 5))\n",
    "        # print(Circuit)\n",
    "        # print(Remainder)\n",
    "\n",
    "        if len(Remainder.circuit) == 0:\n",
    "            weave = True\n",
    "\n",
    "    return Circuit"
   ]
  },
  {
   "cell_type": "markdown",
   "metadata": {},
   "source": [
    "The box below compiles an injection weave to the desired precision. Works for precisions up to $10^{-6}$, though is finnicky in that some precisions only give certain phases. Weaves are printed until one has zero total phase."
   ]
  },
  {
   "cell_type": "code",
   "execution_count": 6,
   "metadata": {},
   "outputs": [
    {
     "name": "stdout",
     "output_type": "stream",
     "text": [
      "exp(0.0πi)11112211222222111111112222222211111111221111111122222222111111112211222211221111221111222222221111111122222222111111222222221122222222112211222211111111222211111111222222111111112211111111222222221111111122221122222222112222222211111111222222221111111122111111112211221111\n"
     ]
    }
   ],
   "source": [
    "'''\n",
    "Test compile_injection_weave\n",
    "works for precision = 0.0000004\n",
    "\n",
    "Runtime is about 30s per try at this precision\n",
    "'''\n",
    "precision = 0.0000004\n",
    "\n",
    "is_desired_phase = False\n",
    "while not is_desired_phase:\n",
    "    FT = compile_injection_weave(precision)\n",
    "    weave = FT.toBraid()\n",
    "    print(weave)\n",
    "    if weave.phase == 0:\n",
    "        is_desired_phase = True"
   ]
  }
 ],
 "metadata": {
  "kernelspec": {
   "display_name": "Python 3",
   "language": "python",
   "name": "python3"
  },
  "language_info": {
   "codemirror_mode": {
    "name": "ipython",
    "version": 3
   },
   "file_extension": ".py",
   "mimetype": "text/x-python",
   "name": "python",
   "nbconvert_exporter": "python",
   "pygments_lexer": "ipython3",
   "version": "3.10.5"
  },
  "orig_nbformat": 4
 },
 "nbformat": 4,
 "nbformat_minor": 2
}
